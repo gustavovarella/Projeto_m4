{
  "nbformat": 4,
  "nbformat_minor": 0,
  "metadata": {
    "colab": {
      "provenance": [],
      "collapsed_sections": [
        "aRXkjGeVRmza",
        "9VofM7PSDWzf"
      ],
      "include_colab_link": true
    },
    "kernelspec": {
      "name": "python3",
      "display_name": "Python 3"
    },
    "language_info": {
      "name": "python"
    }
  },
  "cells": [
    {
      "cell_type": "markdown",
      "metadata": {
        "id": "view-in-github",
        "colab_type": "text"
      },
      "source": [
        "<a href=\"https://colab.research.google.com/github/gustavovarella/Projeto_m4/blob/main/PROJETO_M4.ipynb\" target=\"_parent\"><img src=\"https://colab.research.google.com/assets/colab-badge.svg\" alt=\"Open In Colab\"/></a>"
      ]
    },
    {
      "cell_type": "markdown",
      "source": [
        "# Análise exploratória - Projeto M4 - Squad 7\n",
        "\n",
        "---\n"
      ],
      "metadata": {
        "id": "5OsbPQGfNr3T"
      }
    },
    {
      "cell_type": "markdown",
      "source": [
        "<left><img alt=\"Analisando Airbnb\" width=\"27%\" src=\"https://www.resilia.com.br/wp-content/uploads/2021/08/logo.png\"></left>\n",
        "<left><img alt=\"Squad7\" width=\"15%\" src=\"https://drive.google.com/uc?id=1DG9VkOly916qcx6w6CHGYjkeLXEewut4\"></left>\n",
        "<right><img alt=\"gov.br\" width=\"11%\" src=\"https://play-lh.googleusercontent.com/qn6t9aaqbxUJDl9SMRlBkgG6SArPRfk_g_m5lyG6SjhpUfiW1PsHuJ6jSuL9GVDqnA\"></right>\n",
        "\n"
      ],
      "metadata": {
        "id": "pGLHY0po587k"
      }
    },
    {
      "cell_type": "markdown",
      "source": [
        "### **1. Objetivo do projeto:**"
      ],
      "metadata": {
        "id": "v3oYPRX5ODsf"
      }
    },
    {
      "cell_type": "markdown",
      "source": [
        "Realizar uma análise exploratória relacionada à série\n",
        "histórica de preço de venda da gasolina e do etanol dos últimos dois meses do ano atual."
      ],
      "metadata": {
        "id": "CJgIRG2Frqor"
      }
    },
    {
      "cell_type": "markdown",
      "source": [
        "##### **1.1. Pacotes Python e coleta de dados**"
      ],
      "metadata": {
        "id": "9ysk1bBpOQg_"
      }
    },
    {
      "cell_type": "markdown",
      "source": [
        "Essa etapa tem como finalidade realizar a coleta dos dados sem nenhum tratatamento, descrever, explorar os mesmos e por fim avaliar a qualidade e integridade."
      ],
      "metadata": {
        "id": "gV6jb23W8yJC"
      }
    },
    {
      "cell_type": "code",
      "execution_count": null,
      "metadata": {
        "id": "fK9pa_veoNcO"
      },
      "outputs": [],
      "source": [
        "# Importação dos pacotes Python\n",
        "import pandas as pd \n",
        "import matplotlib.pyplot as plt \n",
        "import seaborn as sns \n",
        "import numpy as np "
      ]
    },
    {
      "cell_type": "markdown",
      "source": [
        "Neste projeto foram utilizados dados dos últimos dois meses do ano atual (Julho e Agosto de 2022)"
      ],
      "metadata": {
        "id": "5gZR0CGC9vF7"
      }
    },
    {
      "cell_type": "markdown",
      "source": [
        "#####**1.2 Criação do DataFrame do mês de julho (df_julho)**"
      ],
      "metadata": {
        "id": "ujYNbncq-ftj"
      }
    },
    {
      "cell_type": "code",
      "source": [
        "#Criação do DataFrame do mês de julho (df_julho)\n",
        "\n",
        "df_julho = pd.read_csv('https://www.gov.br/anp/pt-br/centrais-de-conteudo/dados-abertos/arquivos/shpc/dsan/2022/precos-gasolina-etanol-07.csv', sep=';', encoding='ISO-8859-1')\n",
        "df_julho.columns = ['Regiao', 'Estado','Municipio','Revenda','CNPJ','Rua','Numero','Complemento','Bairro','CEP','Produto','Data da Coleta','Valor_de_Venda','Valor de Compra','Unidade de Medida','Bandeira']"
      ],
      "metadata": {
        "id": "d9-nkVsRpOdo"
      },
      "execution_count": null,
      "outputs": []
    },
    {
      "cell_type": "markdown",
      "source": [
        "#####**1.3 Criação do DataFrame do mês de Agosto (df_agosto)**"
      ],
      "metadata": {
        "id": "v7osy8Mj-aU0"
      }
    },
    {
      "cell_type": "code",
      "source": [
        "\n",
        "df_agosto = pd.read_csv('https://www.gov.br/anp/pt-br/centrais-de-conteudo/dados-abertos/arquivos/shpc/dsan/2022/precos-gasolina-etanol-08.csv', sep=';', encoding='ISO-8859-1')\n",
        "df_agosto.columns = ['Regiao', 'Estado','Municipio','Revenda','CNPJ','Rua','Numero','Complemento','Bairro','CEP','Produto','Data da Coleta','Valor_de_Venda','Valor de Compra','Unidade de Medida','Bandeira']"
      ],
      "metadata": {
        "id": "6I1bFVAL4_7d"
      },
      "execution_count": null,
      "outputs": []
    },
    {
      "cell_type": "markdown",
      "source": [
        "#####**1.4 União dos meses  de Julho (df_julho) e Agosto (df_agosto) em um único DataFrame (df_completo)**"
      ],
      "metadata": {
        "id": "SpbWNvAEx4qP"
      }
    },
    {
      "cell_type": "code",
      "source": [
        "frames = [df_agosto,df_julho]\n",
        "df_completo = pd.concat(frames)"
      ],
      "metadata": {
        "id": "-cEWuvdG7o2n"
      },
      "execution_count": null,
      "outputs": []
    },
    {
      "cell_type": "markdown",
      "source": [
        "### **2. Descrevendo os dados**"
      ],
      "metadata": {
        "id": "Nqm7PwRfOYMe"
      }
    },
    {
      "cell_type": "markdown",
      "source": [
        "Uma vez que possuímos um Dataset com todas os dados que serão usados para o desenvolvimento do projeto, será avaliado a dimensão do Dataset e tipos de variáveis presentes."
      ],
      "metadata": {
        "id": "D156dLop-zyh"
      }
    },
    {
      "cell_type": "code",
      "source": [
        "df_completo.shape"
      ],
      "metadata": {
        "id": "lCC52mtCObDd",
        "outputId": "d71bf55a-9321-4a49-d730-24df629ad50b",
        "colab": {
          "base_uri": "https://localhost:8080/"
        }
      },
      "execution_count": null,
      "outputs": [
        {
          "output_type": "execute_result",
          "data": {
            "text/plain": [
              "(127176, 16)"
            ]
          },
          "metadata": {},
          "execution_count": 6
        }
      ]
    },
    {
      "cell_type": "markdown",
      "source": [
        "Com a função .shape foi possível concluir que o Dataset possui incialmente um total de **127176** linhas/entradas, e **16** colunas/variáveis. Em seguida, é realizada a análise do tipo de variável presente nas 16 colunas, e em seguida é apresentado um dicionário das variáveis presentes."
      ],
      "metadata": {
        "id": "MnJLVWeA_hoZ"
      }
    },
    {
      "cell_type": "code",
      "source": [
        "display(df_completo.dtypes)"
      ],
      "metadata": {
        "id": "WRhbeD1NO6PR",
        "outputId": "ee222d76-9d14-4560-a091-77dd6e700434",
        "colab": {
          "base_uri": "https://localhost:8080/",
          "height": 312
        }
      },
      "execution_count": null,
      "outputs": [
        {
          "output_type": "display_data",
          "data": {
            "text/plain": [
              "Regiao                object\n",
              "Estado                object\n",
              "Municipio             object\n",
              "Revenda               object\n",
              "CNPJ                  object\n",
              "Rua                   object\n",
              "Numero                object\n",
              "Complemento           object\n",
              "Bairro                object\n",
              "CEP                   object\n",
              "Produto               object\n",
              "Data da Coleta        object\n",
              "Valor_de_Venda        object\n",
              "Valor de Compra      float64\n",
              "Unidade de Medida     object\n",
              "Bandeira              object\n",
              "dtype: object"
            ]
          },
          "metadata": {}
        }
      ]
    },
    {
      "cell_type": "markdown",
      "source": [
        "**Dicionário das variáveis**\n",
        "\n",
        "* `Região` - Região onde cada estabelecimento está localizado.\n",
        "* `Estado` - Estado onde cada estabelecimento está localizado.\n",
        "* `Municipio` - Município onde cada estabelecimento está localizado.\n",
        "* `Revenda` - Nome de cada estabelecimento.\n",
        "* `CNPJ` - Cadastro Nacional de Pessoas Jurídicas. Nesse caso, de cada estabelecimento.\n",
        "* `Rua` - Rua onde cada estabelecimento está localizado.\n",
        "* `Numero` - Número do endereço onde cada estabelecimento está localizado.\n",
        "* `Complemento` - Complemento ao endereço onde cada estabelecimento está localizado.\n",
        "* `Bairro` - Bairro onde cada estabelecimento está localizado.\n",
        "* `CEP` - Código de Endereço Postal de cada estabelecimento.\n",
        "* `Produto` - Tipo de produto vendido pelos estabelecimentos.\n",
        "* `Data de Coleta` - Data em que foi realizada a coleta do dado.\n",
        "* `Valor de Venda` - Valor de Venda do Produto para o cliente.\n",
        "* `Valor de Compra` - Valor de Compra do Produto pelo estabelecimento.\n",
        "* `Unidade de Medida` - Unidade de Medida usada na venda do produto.\n",
        "* `Bandeira` - Bandeira do estabelecimento que realiza a venda do produto."
      ],
      "metadata": {
        "id": "TbwnHrHMO_0j"
      }
    },
    {
      "cell_type": "markdown",
      "source": [
        "#### **2.1 - Estatísticas Descritivas**\n",
        "\n",
        "\n"
      ],
      "metadata": {
        "id": "aRXkjGeVRmza"
      }
    },
    {
      "cell_type": "markdown",
      "source": [
        "Primeiro será avaliado a qualidade dos dados presentes, e sua integridade (% de valores nulos dentro de cada variável)"
      ],
      "metadata": {
        "id": "QFqy4nqEtjzI"
      }
    },
    {
      "cell_type": "code",
      "source": [
        "(df_completo.isnull().sum() / df_completo.shape[0]).sort_values(ascending=False)"
      ],
      "metadata": {
        "id": "9Op-uATlRpk5",
        "outputId": "67c52374-df27-4ece-fc14-d200226b7ecd",
        "colab": {
          "base_uri": "https://localhost:8080/"
        }
      },
      "execution_count": null,
      "outputs": [
        {
          "output_type": "execute_result",
          "data": {
            "text/plain": [
              "Valor de Compra      1.000000\n",
              "Complemento          0.787075\n",
              "Bairro               0.003240\n",
              "Numero               0.000558\n",
              "Regiao               0.000000\n",
              "Estado               0.000000\n",
              "Municipio            0.000000\n",
              "Revenda              0.000000\n",
              "CNPJ                 0.000000\n",
              "Rua                  0.000000\n",
              "CEP                  0.000000\n",
              "Produto              0.000000\n",
              "Data da Coleta       0.000000\n",
              "Valor_de_Venda       0.000000\n",
              "Unidade de Medida    0.000000\n",
              "Bandeira             0.000000\n",
              "dtype: float64"
            ]
          },
          "metadata": {},
          "execution_count": 8
        }
      ]
    },
    {
      "cell_type": "markdown",
      "source": [
        "**Quanto à questão de dados faltantes, em uma breve verificação podemos identificar que:**\n",
        "\n",
        "* A coluna **`Valor de Compra`** possui quase 100% dos seus valores faltantes.\n",
        "* A coluna **`Complemento`** possui cerca de 79% dos seus valores faltantes.\n",
        "* A coluna **`Bairro`** possui cerca de 0,3% dos seus valores faltantes.\n",
        "* A coluna **`Numero`** possui cerca de 0,06% dos seus valores faltantes.\n"
      ],
      "metadata": {
        "id": "elHmhqngSE7w"
      }
    },
    {
      "cell_type": "markdown",
      "source": [
        "Ao analisar as perguntas que serão respondidas pelo projeto (item 3.1) e o resultado da avaliação de variáveis com valores nulos é possível concluir que apenas 2 colunas possuem um valor expressivo de valores faltantes. No entanto, ambas não terão impacto no desenvolvimento do projeto, visto que trazem dados que não serão utilizados na solução das perguntas."
      ],
      "metadata": {
        "id": "hla7H8svA7RX"
      }
    },
    {
      "cell_type": "markdown",
      "source": [
        "Por fim, após análise inicial das variáveis e integridade dos dados, teremos o primeiro contato com o nosso Dataset."
      ],
      "metadata": {
        "id": "6zBZr5bICfHa"
      }
    },
    {
      "cell_type": "code",
      "source": [
        "#Visualização das primeiras cinco linhas do Dataset.\n",
        "df_completo.head()"
      ],
      "metadata": {
        "colab": {
          "base_uri": "https://localhost:8080/",
          "height": 424
        },
        "id": "JeBzUQzkCuX-",
        "outputId": "3650a5c0-10bd-4b33-aeed-2bdbce3b692c"
      },
      "execution_count": null,
      "outputs": [
        {
          "output_type": "execute_result",
          "data": {
            "text/plain": [
              "  Regiao Estado  Municipio                        Revenda  \\\n",
              "0     NE     AL  ARAPIRACA    AUTO POSTO M M GARROTE LTDA   \n",
              "1     NE     AL  ARAPIRACA    AUTO POSTO M M GARROTE LTDA   \n",
              "2     NE     AL  ARAPIRACA  AUTO POSTO MASSARANDUBA LTDA.   \n",
              "3     NE     AL  ARAPIRACA  AUTO POSTO MASSARANDUBA LTDA.   \n",
              "4     NE     AL  ARAPIRACA  AUTO POSTO MASSARANDUBA LTDA.   \n",
              "\n",
              "                  CNPJ             Rua Numero Complemento       Bairro  \\\n",
              "0   08.738.994/0001-50  RODOVIA AL-220   5848    KM    96  BOM SUCESSO   \n",
              "1   08.738.994/0001-50  RODOVIA AL-220   5848    KM    96  BOM SUCESSO   \n",
              "2   07.248.398/0001-29  RODOVIA AL 220   4698         NaN     PLANALTO   \n",
              "3   07.248.398/0001-29  RODOVIA AL 220   4698         NaN     PLANALTO   \n",
              "4   07.248.398/0001-29  RODOVIA AL 220   4698         NaN     PLANALTO   \n",
              "\n",
              "         CEP             Produto Data da Coleta Valor_de_Venda  \\\n",
              "0  57309-035              ETANOL     01/08/2022           4,79   \n",
              "1  57309-035            GASOLINA     01/08/2022           5,59   \n",
              "2  57308-000  GASOLINA ADITIVADA     01/08/2022           5,99   \n",
              "3  57308-000              ETANOL     01/08/2022           4,99   \n",
              "4  57308-000            GASOLINA     01/08/2022           5,79   \n",
              "\n",
              "   Valor de Compra Unidade de Medida       Bandeira  \n",
              "0              NaN        R$ / litro  VIBRA ENERGIA  \n",
              "1              NaN        R$ / litro  VIBRA ENERGIA  \n",
              "2              NaN        R$ / litro         BRANCA  \n",
              "3              NaN        R$ / litro         BRANCA  \n",
              "4              NaN        R$ / litro         BRANCA  "
            ],
            "text/html": [
              "\n",
              "  <div id=\"df-0a022e1d-c536-462e-adf4-d52829eff4a4\">\n",
              "    <div class=\"colab-df-container\">\n",
              "      <div>\n",
              "<style scoped>\n",
              "    .dataframe tbody tr th:only-of-type {\n",
              "        vertical-align: middle;\n",
              "    }\n",
              "\n",
              "    .dataframe tbody tr th {\n",
              "        vertical-align: top;\n",
              "    }\n",
              "\n",
              "    .dataframe thead th {\n",
              "        text-align: right;\n",
              "    }\n",
              "</style>\n",
              "<table border=\"1\" class=\"dataframe\">\n",
              "  <thead>\n",
              "    <tr style=\"text-align: right;\">\n",
              "      <th></th>\n",
              "      <th>Regiao</th>\n",
              "      <th>Estado</th>\n",
              "      <th>Municipio</th>\n",
              "      <th>Revenda</th>\n",
              "      <th>CNPJ</th>\n",
              "      <th>Rua</th>\n",
              "      <th>Numero</th>\n",
              "      <th>Complemento</th>\n",
              "      <th>Bairro</th>\n",
              "      <th>CEP</th>\n",
              "      <th>Produto</th>\n",
              "      <th>Data da Coleta</th>\n",
              "      <th>Valor_de_Venda</th>\n",
              "      <th>Valor de Compra</th>\n",
              "      <th>Unidade de Medida</th>\n",
              "      <th>Bandeira</th>\n",
              "    </tr>\n",
              "  </thead>\n",
              "  <tbody>\n",
              "    <tr>\n",
              "      <th>0</th>\n",
              "      <td>NE</td>\n",
              "      <td>AL</td>\n",
              "      <td>ARAPIRACA</td>\n",
              "      <td>AUTO POSTO M M GARROTE LTDA</td>\n",
              "      <td>08.738.994/0001-50</td>\n",
              "      <td>RODOVIA AL-220</td>\n",
              "      <td>5848</td>\n",
              "      <td>KM    96</td>\n",
              "      <td>BOM SUCESSO</td>\n",
              "      <td>57309-035</td>\n",
              "      <td>ETANOL</td>\n",
              "      <td>01/08/2022</td>\n",
              "      <td>4,79</td>\n",
              "      <td>NaN</td>\n",
              "      <td>R$ / litro</td>\n",
              "      <td>VIBRA ENERGIA</td>\n",
              "    </tr>\n",
              "    <tr>\n",
              "      <th>1</th>\n",
              "      <td>NE</td>\n",
              "      <td>AL</td>\n",
              "      <td>ARAPIRACA</td>\n",
              "      <td>AUTO POSTO M M GARROTE LTDA</td>\n",
              "      <td>08.738.994/0001-50</td>\n",
              "      <td>RODOVIA AL-220</td>\n",
              "      <td>5848</td>\n",
              "      <td>KM    96</td>\n",
              "      <td>BOM SUCESSO</td>\n",
              "      <td>57309-035</td>\n",
              "      <td>GASOLINA</td>\n",
              "      <td>01/08/2022</td>\n",
              "      <td>5,59</td>\n",
              "      <td>NaN</td>\n",
              "      <td>R$ / litro</td>\n",
              "      <td>VIBRA ENERGIA</td>\n",
              "    </tr>\n",
              "    <tr>\n",
              "      <th>2</th>\n",
              "      <td>NE</td>\n",
              "      <td>AL</td>\n",
              "      <td>ARAPIRACA</td>\n",
              "      <td>AUTO POSTO MASSARANDUBA LTDA.</td>\n",
              "      <td>07.248.398/0001-29</td>\n",
              "      <td>RODOVIA AL 220</td>\n",
              "      <td>4698</td>\n",
              "      <td>NaN</td>\n",
              "      <td>PLANALTO</td>\n",
              "      <td>57308-000</td>\n",
              "      <td>GASOLINA ADITIVADA</td>\n",
              "      <td>01/08/2022</td>\n",
              "      <td>5,99</td>\n",
              "      <td>NaN</td>\n",
              "      <td>R$ / litro</td>\n",
              "      <td>BRANCA</td>\n",
              "    </tr>\n",
              "    <tr>\n",
              "      <th>3</th>\n",
              "      <td>NE</td>\n",
              "      <td>AL</td>\n",
              "      <td>ARAPIRACA</td>\n",
              "      <td>AUTO POSTO MASSARANDUBA LTDA.</td>\n",
              "      <td>07.248.398/0001-29</td>\n",
              "      <td>RODOVIA AL 220</td>\n",
              "      <td>4698</td>\n",
              "      <td>NaN</td>\n",
              "      <td>PLANALTO</td>\n",
              "      <td>57308-000</td>\n",
              "      <td>ETANOL</td>\n",
              "      <td>01/08/2022</td>\n",
              "      <td>4,99</td>\n",
              "      <td>NaN</td>\n",
              "      <td>R$ / litro</td>\n",
              "      <td>BRANCA</td>\n",
              "    </tr>\n",
              "    <tr>\n",
              "      <th>4</th>\n",
              "      <td>NE</td>\n",
              "      <td>AL</td>\n",
              "      <td>ARAPIRACA</td>\n",
              "      <td>AUTO POSTO MASSARANDUBA LTDA.</td>\n",
              "      <td>07.248.398/0001-29</td>\n",
              "      <td>RODOVIA AL 220</td>\n",
              "      <td>4698</td>\n",
              "      <td>NaN</td>\n",
              "      <td>PLANALTO</td>\n",
              "      <td>57308-000</td>\n",
              "      <td>GASOLINA</td>\n",
              "      <td>01/08/2022</td>\n",
              "      <td>5,79</td>\n",
              "      <td>NaN</td>\n",
              "      <td>R$ / litro</td>\n",
              "      <td>BRANCA</td>\n",
              "    </tr>\n",
              "  </tbody>\n",
              "</table>\n",
              "</div>\n",
              "      <button class=\"colab-df-convert\" onclick=\"convertToInteractive('df-0a022e1d-c536-462e-adf4-d52829eff4a4')\"\n",
              "              title=\"Convert this dataframe to an interactive table.\"\n",
              "              style=\"display:none;\">\n",
              "        \n",
              "  <svg xmlns=\"http://www.w3.org/2000/svg\" height=\"24px\"viewBox=\"0 0 24 24\"\n",
              "       width=\"24px\">\n",
              "    <path d=\"M0 0h24v24H0V0z\" fill=\"none\"/>\n",
              "    <path d=\"M18.56 5.44l.94 2.06.94-2.06 2.06-.94-2.06-.94-.94-2.06-.94 2.06-2.06.94zm-11 1L8.5 8.5l.94-2.06 2.06-.94-2.06-.94L8.5 2.5l-.94 2.06-2.06.94zm10 10l.94 2.06.94-2.06 2.06-.94-2.06-.94-.94-2.06-.94 2.06-2.06.94z\"/><path d=\"M17.41 7.96l-1.37-1.37c-.4-.4-.92-.59-1.43-.59-.52 0-1.04.2-1.43.59L10.3 9.45l-7.72 7.72c-.78.78-.78 2.05 0 2.83L4 21.41c.39.39.9.59 1.41.59.51 0 1.02-.2 1.41-.59l7.78-7.78 2.81-2.81c.8-.78.8-2.07 0-2.86zM5.41 20L4 18.59l7.72-7.72 1.47 1.35L5.41 20z\"/>\n",
              "  </svg>\n",
              "      </button>\n",
              "      \n",
              "  <style>\n",
              "    .colab-df-container {\n",
              "      display:flex;\n",
              "      flex-wrap:wrap;\n",
              "      gap: 12px;\n",
              "    }\n",
              "\n",
              "    .colab-df-convert {\n",
              "      background-color: #E8F0FE;\n",
              "      border: none;\n",
              "      border-radius: 50%;\n",
              "      cursor: pointer;\n",
              "      display: none;\n",
              "      fill: #1967D2;\n",
              "      height: 32px;\n",
              "      padding: 0 0 0 0;\n",
              "      width: 32px;\n",
              "    }\n",
              "\n",
              "    .colab-df-convert:hover {\n",
              "      background-color: #E2EBFA;\n",
              "      box-shadow: 0px 1px 2px rgba(60, 64, 67, 0.3), 0px 1px 3px 1px rgba(60, 64, 67, 0.15);\n",
              "      fill: #174EA6;\n",
              "    }\n",
              "\n",
              "    [theme=dark] .colab-df-convert {\n",
              "      background-color: #3B4455;\n",
              "      fill: #D2E3FC;\n",
              "    }\n",
              "\n",
              "    [theme=dark] .colab-df-convert:hover {\n",
              "      background-color: #434B5C;\n",
              "      box-shadow: 0px 1px 3px 1px rgba(0, 0, 0, 0.15);\n",
              "      filter: drop-shadow(0px 1px 2px rgba(0, 0, 0, 0.3));\n",
              "      fill: #FFFFFF;\n",
              "    }\n",
              "  </style>\n",
              "\n",
              "      <script>\n",
              "        const buttonEl =\n",
              "          document.querySelector('#df-0a022e1d-c536-462e-adf4-d52829eff4a4 button.colab-df-convert');\n",
              "        buttonEl.style.display =\n",
              "          google.colab.kernel.accessAllowed ? 'block' : 'none';\n",
              "\n",
              "        async function convertToInteractive(key) {\n",
              "          const element = document.querySelector('#df-0a022e1d-c536-462e-adf4-d52829eff4a4');\n",
              "          const dataTable =\n",
              "            await google.colab.kernel.invokeFunction('convertToInteractive',\n",
              "                                                     [key], {});\n",
              "          if (!dataTable) return;\n",
              "\n",
              "          const docLinkHtml = 'Like what you see? Visit the ' +\n",
              "            '<a target=\"_blank\" href=https://colab.research.google.com/notebooks/data_table.ipynb>data table notebook</a>'\n",
              "            + ' to learn more about interactive tables.';\n",
              "          element.innerHTML = '';\n",
              "          dataTable['output_type'] = 'display_data';\n",
              "          await google.colab.output.renderOutput(dataTable, element);\n",
              "          const docLink = document.createElement('div');\n",
              "          docLink.innerHTML = docLinkHtml;\n",
              "          element.appendChild(docLink);\n",
              "        }\n",
              "      </script>\n",
              "    </div>\n",
              "  </div>\n",
              "  "
            ]
          },
          "metadata": {},
          "execution_count": 9
        }
      ]
    },
    {
      "cell_type": "code",
      "source": [
        "#Visualização das últimas cinco linhas do Dataset.\n",
        "df_completo.tail()"
      ],
      "metadata": {
        "colab": {
          "base_uri": "https://localhost:8080/",
          "height": 582
        },
        "id": "mFuSN9QRCzD2",
        "outputId": "e9b03657-d1ba-4fad-d399-0273e9f16fa0"
      },
      "execution_count": null,
      "outputs": [
        {
          "output_type": "execute_result",
          "data": {
            "text/plain": [
              "      Regiao Estado     Municipio                                   Revenda  \\\n",
              "57627     SE     MG   DIVINOPOLIS  AUTO POSTO DE COMBUSTIVEIS ATACADAO LTDA   \n",
              "57628      S     RS  PORTO ALEGRE    LUIZ GUSTAVO DI LORENZO GARCIA SCHERER   \n",
              "57629      S     RS  PORTO ALEGRE    LUIZ GUSTAVO DI LORENZO GARCIA SCHERER   \n",
              "57630     NE     MA        CAXIAS      POSTAO COMERCIO DE COMBUSTIVEIS LTDA   \n",
              "57631     NE     MA        CAXIAS      POSTAO COMERCIO DE COMBUSTIVEIS LTDA   \n",
              "\n",
              "                      CNPJ                      Rua Numero  \\\n",
              "57627   32.924.614/0001-56         RUA CASTRO ALVES   2400   \n",
              "57628   34.792.562/0001-37  AVENIDA BENTO GONCALVES   2599   \n",
              "57629   34.792.562/0001-37  AVENIDA BENTO GONCALVES   2599   \n",
              "57630   31.597.569/0001-00           RODOVIA BR-316    S/N   \n",
              "57631   31.597.569/0001-00           RODOVIA BR-316    S/N   \n",
              "\n",
              "                             Complemento         Bairro        CEP  \\\n",
              "57627                                NaN        CATALAO  35501-205   \n",
              "57628                                NaN       PARTENON  90650-003   \n",
              "57629                                NaN       PARTENON  90650-003   \n",
              "57630  KM    552                 SALA  A  VOLTA REDONDA  65606-525   \n",
              "57631  KM    552                 SALA  A  VOLTA REDONDA  65606-525   \n",
              "\n",
              "                  Produto Data da Coleta Valor_de_Venda  Valor de Compra  \\\n",
              "57627            GASOLINA     29/07/2022           5,38              NaN   \n",
              "57628  GASOLINA ADITIVADA     29/07/2022           5,46              NaN   \n",
              "57629            GASOLINA     29/07/2022           5,46              NaN   \n",
              "57630  GASOLINA ADITIVADA     29/07/2022           5,68              NaN   \n",
              "57631            GASOLINA     29/07/2022           5,68              NaN   \n",
              "\n",
              "      Unidade de Medida Bandeira  \n",
              "57627        R$ / litro   BRANCA  \n",
              "57628        R$ / litro   BRANCA  \n",
              "57629        R$ / litro   BRANCA  \n",
              "57630        R$ / litro   BRANCA  \n",
              "57631        R$ / litro   BRANCA  "
            ],
            "text/html": [
              "\n",
              "  <div id=\"df-7e17836b-9e3d-420b-90cc-7d4e9fa4daaa\">\n",
              "    <div class=\"colab-df-container\">\n",
              "      <div>\n",
              "<style scoped>\n",
              "    .dataframe tbody tr th:only-of-type {\n",
              "        vertical-align: middle;\n",
              "    }\n",
              "\n",
              "    .dataframe tbody tr th {\n",
              "        vertical-align: top;\n",
              "    }\n",
              "\n",
              "    .dataframe thead th {\n",
              "        text-align: right;\n",
              "    }\n",
              "</style>\n",
              "<table border=\"1\" class=\"dataframe\">\n",
              "  <thead>\n",
              "    <tr style=\"text-align: right;\">\n",
              "      <th></th>\n",
              "      <th>Regiao</th>\n",
              "      <th>Estado</th>\n",
              "      <th>Municipio</th>\n",
              "      <th>Revenda</th>\n",
              "      <th>CNPJ</th>\n",
              "      <th>Rua</th>\n",
              "      <th>Numero</th>\n",
              "      <th>Complemento</th>\n",
              "      <th>Bairro</th>\n",
              "      <th>CEP</th>\n",
              "      <th>Produto</th>\n",
              "      <th>Data da Coleta</th>\n",
              "      <th>Valor_de_Venda</th>\n",
              "      <th>Valor de Compra</th>\n",
              "      <th>Unidade de Medida</th>\n",
              "      <th>Bandeira</th>\n",
              "    </tr>\n",
              "  </thead>\n",
              "  <tbody>\n",
              "    <tr>\n",
              "      <th>57627</th>\n",
              "      <td>SE</td>\n",
              "      <td>MG</td>\n",
              "      <td>DIVINOPOLIS</td>\n",
              "      <td>AUTO POSTO DE COMBUSTIVEIS ATACADAO LTDA</td>\n",
              "      <td>32.924.614/0001-56</td>\n",
              "      <td>RUA CASTRO ALVES</td>\n",
              "      <td>2400</td>\n",
              "      <td>NaN</td>\n",
              "      <td>CATALAO</td>\n",
              "      <td>35501-205</td>\n",
              "      <td>GASOLINA</td>\n",
              "      <td>29/07/2022</td>\n",
              "      <td>5,38</td>\n",
              "      <td>NaN</td>\n",
              "      <td>R$ / litro</td>\n",
              "      <td>BRANCA</td>\n",
              "    </tr>\n",
              "    <tr>\n",
              "      <th>57628</th>\n",
              "      <td>S</td>\n",
              "      <td>RS</td>\n",
              "      <td>PORTO ALEGRE</td>\n",
              "      <td>LUIZ GUSTAVO DI LORENZO GARCIA SCHERER</td>\n",
              "      <td>34.792.562/0001-37</td>\n",
              "      <td>AVENIDA BENTO GONCALVES</td>\n",
              "      <td>2599</td>\n",
              "      <td>NaN</td>\n",
              "      <td>PARTENON</td>\n",
              "      <td>90650-003</td>\n",
              "      <td>GASOLINA ADITIVADA</td>\n",
              "      <td>29/07/2022</td>\n",
              "      <td>5,46</td>\n",
              "      <td>NaN</td>\n",
              "      <td>R$ / litro</td>\n",
              "      <td>BRANCA</td>\n",
              "    </tr>\n",
              "    <tr>\n",
              "      <th>57629</th>\n",
              "      <td>S</td>\n",
              "      <td>RS</td>\n",
              "      <td>PORTO ALEGRE</td>\n",
              "      <td>LUIZ GUSTAVO DI LORENZO GARCIA SCHERER</td>\n",
              "      <td>34.792.562/0001-37</td>\n",
              "      <td>AVENIDA BENTO GONCALVES</td>\n",
              "      <td>2599</td>\n",
              "      <td>NaN</td>\n",
              "      <td>PARTENON</td>\n",
              "      <td>90650-003</td>\n",
              "      <td>GASOLINA</td>\n",
              "      <td>29/07/2022</td>\n",
              "      <td>5,46</td>\n",
              "      <td>NaN</td>\n",
              "      <td>R$ / litro</td>\n",
              "      <td>BRANCA</td>\n",
              "    </tr>\n",
              "    <tr>\n",
              "      <th>57630</th>\n",
              "      <td>NE</td>\n",
              "      <td>MA</td>\n",
              "      <td>CAXIAS</td>\n",
              "      <td>POSTAO COMERCIO DE COMBUSTIVEIS LTDA</td>\n",
              "      <td>31.597.569/0001-00</td>\n",
              "      <td>RODOVIA BR-316</td>\n",
              "      <td>S/N</td>\n",
              "      <td>KM    552                 SALA  A</td>\n",
              "      <td>VOLTA REDONDA</td>\n",
              "      <td>65606-525</td>\n",
              "      <td>GASOLINA ADITIVADA</td>\n",
              "      <td>29/07/2022</td>\n",
              "      <td>5,68</td>\n",
              "      <td>NaN</td>\n",
              "      <td>R$ / litro</td>\n",
              "      <td>BRANCA</td>\n",
              "    </tr>\n",
              "    <tr>\n",
              "      <th>57631</th>\n",
              "      <td>NE</td>\n",
              "      <td>MA</td>\n",
              "      <td>CAXIAS</td>\n",
              "      <td>POSTAO COMERCIO DE COMBUSTIVEIS LTDA</td>\n",
              "      <td>31.597.569/0001-00</td>\n",
              "      <td>RODOVIA BR-316</td>\n",
              "      <td>S/N</td>\n",
              "      <td>KM    552                 SALA  A</td>\n",
              "      <td>VOLTA REDONDA</td>\n",
              "      <td>65606-525</td>\n",
              "      <td>GASOLINA</td>\n",
              "      <td>29/07/2022</td>\n",
              "      <td>5,68</td>\n",
              "      <td>NaN</td>\n",
              "      <td>R$ / litro</td>\n",
              "      <td>BRANCA</td>\n",
              "    </tr>\n",
              "  </tbody>\n",
              "</table>\n",
              "</div>\n",
              "      <button class=\"colab-df-convert\" onclick=\"convertToInteractive('df-7e17836b-9e3d-420b-90cc-7d4e9fa4daaa')\"\n",
              "              title=\"Convert this dataframe to an interactive table.\"\n",
              "              style=\"display:none;\">\n",
              "        \n",
              "  <svg xmlns=\"http://www.w3.org/2000/svg\" height=\"24px\"viewBox=\"0 0 24 24\"\n",
              "       width=\"24px\">\n",
              "    <path d=\"M0 0h24v24H0V0z\" fill=\"none\"/>\n",
              "    <path d=\"M18.56 5.44l.94 2.06.94-2.06 2.06-.94-2.06-.94-.94-2.06-.94 2.06-2.06.94zm-11 1L8.5 8.5l.94-2.06 2.06-.94-2.06-.94L8.5 2.5l-.94 2.06-2.06.94zm10 10l.94 2.06.94-2.06 2.06-.94-2.06-.94-.94-2.06-.94 2.06-2.06.94z\"/><path d=\"M17.41 7.96l-1.37-1.37c-.4-.4-.92-.59-1.43-.59-.52 0-1.04.2-1.43.59L10.3 9.45l-7.72 7.72c-.78.78-.78 2.05 0 2.83L4 21.41c.39.39.9.59 1.41.59.51 0 1.02-.2 1.41-.59l7.78-7.78 2.81-2.81c.8-.78.8-2.07 0-2.86zM5.41 20L4 18.59l7.72-7.72 1.47 1.35L5.41 20z\"/>\n",
              "  </svg>\n",
              "      </button>\n",
              "      \n",
              "  <style>\n",
              "    .colab-df-container {\n",
              "      display:flex;\n",
              "      flex-wrap:wrap;\n",
              "      gap: 12px;\n",
              "    }\n",
              "\n",
              "    .colab-df-convert {\n",
              "      background-color: #E8F0FE;\n",
              "      border: none;\n",
              "      border-radius: 50%;\n",
              "      cursor: pointer;\n",
              "      display: none;\n",
              "      fill: #1967D2;\n",
              "      height: 32px;\n",
              "      padding: 0 0 0 0;\n",
              "      width: 32px;\n",
              "    }\n",
              "\n",
              "    .colab-df-convert:hover {\n",
              "      background-color: #E2EBFA;\n",
              "      box-shadow: 0px 1px 2px rgba(60, 64, 67, 0.3), 0px 1px 3px 1px rgba(60, 64, 67, 0.15);\n",
              "      fill: #174EA6;\n",
              "    }\n",
              "\n",
              "    [theme=dark] .colab-df-convert {\n",
              "      background-color: #3B4455;\n",
              "      fill: #D2E3FC;\n",
              "    }\n",
              "\n",
              "    [theme=dark] .colab-df-convert:hover {\n",
              "      background-color: #434B5C;\n",
              "      box-shadow: 0px 1px 3px 1px rgba(0, 0, 0, 0.15);\n",
              "      filter: drop-shadow(0px 1px 2px rgba(0, 0, 0, 0.3));\n",
              "      fill: #FFFFFF;\n",
              "    }\n",
              "  </style>\n",
              "\n",
              "      <script>\n",
              "        const buttonEl =\n",
              "          document.querySelector('#df-7e17836b-9e3d-420b-90cc-7d4e9fa4daaa button.colab-df-convert');\n",
              "        buttonEl.style.display =\n",
              "          google.colab.kernel.accessAllowed ? 'block' : 'none';\n",
              "\n",
              "        async function convertToInteractive(key) {\n",
              "          const element = document.querySelector('#df-7e17836b-9e3d-420b-90cc-7d4e9fa4daaa');\n",
              "          const dataTable =\n",
              "            await google.colab.kernel.invokeFunction('convertToInteractive',\n",
              "                                                     [key], {});\n",
              "          if (!dataTable) return;\n",
              "\n",
              "          const docLinkHtml = 'Like what you see? Visit the ' +\n",
              "            '<a target=\"_blank\" href=https://colab.research.google.com/notebooks/data_table.ipynb>data table notebook</a>'\n",
              "            + ' to learn more about interactive tables.';\n",
              "          element.innerHTML = '';\n",
              "          dataTable['output_type'] = 'display_data';\n",
              "          await google.colab.output.renderOutput(dataTable, element);\n",
              "          const docLink = document.createElement('div');\n",
              "          docLink.innerHTML = docLinkHtml;\n",
              "          element.appendChild(docLink);\n",
              "        }\n",
              "      </script>\n",
              "    </div>\n",
              "  </div>\n",
              "  "
            ]
          },
          "metadata": {},
          "execution_count": 10
        }
      ]
    },
    {
      "cell_type": "markdown",
      "source": [
        "### **3 - Limpeza do Banco de Dados**"
      ],
      "metadata": {
        "id": "79wJEKgB4igf"
      }
    },
    {
      "cell_type": "markdown",
      "source": [
        "Agora será iniciada a etapa de limpeza do dataset, ou seja, remover as variáveis que não possuem valor agregado para a nossa análise."
      ],
      "metadata": {
        "id": "eJqSHaoi0twN"
      }
    },
    {
      "cell_type": "markdown",
      "source": [
        "##### **3.1 - Remoção de colunas não relevantes para análise**"
      ],
      "metadata": {
        "id": "2_6YhaXM0ndd"
      }
    },
    {
      "cell_type": "markdown",
      "source": [
        "As variáveis/colunas que não serão utilizadas na solução das perguntas e/ou possuem uma quantidade expressiva de valores nulos com  objetivo de melhorar a execução do código serão removidas. "
      ],
      "metadata": {
        "id": "N19Jh7e_0Srb"
      }
    },
    {
      "cell_type": "code",
      "source": [
        "df_completo.drop([\"Valor de Compra\",\"Unidade de Medida\",\"CNPJ\",\"Rua\",\"Numero\",\"Complemento\",\"CEP\"], axis=1, inplace=True)\n",
        "df_completo"
      ],
      "metadata": {
        "id": "2640jIr609RM",
        "outputId": "4982ac25-424c-41c9-f402-a20f7a2ee370",
        "colab": {
          "base_uri": "https://localhost:8080/",
          "height": 424
        }
      },
      "execution_count": null,
      "outputs": [
        {
          "output_type": "execute_result",
          "data": {
            "text/plain": [
              "      Regiao Estado     Municipio                                   Revenda  \\\n",
              "0         NE     AL     ARAPIRACA               AUTO POSTO M M GARROTE LTDA   \n",
              "1         NE     AL     ARAPIRACA               AUTO POSTO M M GARROTE LTDA   \n",
              "2         NE     AL     ARAPIRACA             AUTO POSTO MASSARANDUBA LTDA.   \n",
              "3         NE     AL     ARAPIRACA             AUTO POSTO MASSARANDUBA LTDA.   \n",
              "4         NE     AL     ARAPIRACA             AUTO POSTO MASSARANDUBA LTDA.   \n",
              "...      ...    ...           ...                                       ...   \n",
              "57627     SE     MG   DIVINOPOLIS  AUTO POSTO DE COMBUSTIVEIS ATACADAO LTDA   \n",
              "57628      S     RS  PORTO ALEGRE    LUIZ GUSTAVO DI LORENZO GARCIA SCHERER   \n",
              "57629      S     RS  PORTO ALEGRE    LUIZ GUSTAVO DI LORENZO GARCIA SCHERER   \n",
              "57630     NE     MA        CAXIAS      POSTAO COMERCIO DE COMBUSTIVEIS LTDA   \n",
              "57631     NE     MA        CAXIAS      POSTAO COMERCIO DE COMBUSTIVEIS LTDA   \n",
              "\n",
              "              Bairro             Produto Data da Coleta Valor_de_Venda  \\\n",
              "0        BOM SUCESSO              ETANOL     01/08/2022           4,79   \n",
              "1        BOM SUCESSO            GASOLINA     01/08/2022           5,59   \n",
              "2           PLANALTO  GASOLINA ADITIVADA     01/08/2022           5,99   \n",
              "3           PLANALTO              ETANOL     01/08/2022           4,99   \n",
              "4           PLANALTO            GASOLINA     01/08/2022           5,79   \n",
              "...              ...                 ...            ...            ...   \n",
              "57627        CATALAO            GASOLINA     29/07/2022           5,38   \n",
              "57628       PARTENON  GASOLINA ADITIVADA     29/07/2022           5,46   \n",
              "57629       PARTENON            GASOLINA     29/07/2022           5,46   \n",
              "57630  VOLTA REDONDA  GASOLINA ADITIVADA     29/07/2022           5,68   \n",
              "57631  VOLTA REDONDA            GASOLINA     29/07/2022           5,68   \n",
              "\n",
              "            Bandeira  \n",
              "0      VIBRA ENERGIA  \n",
              "1      VIBRA ENERGIA  \n",
              "2             BRANCA  \n",
              "3             BRANCA  \n",
              "4             BRANCA  \n",
              "...              ...  \n",
              "57627         BRANCA  \n",
              "57628         BRANCA  \n",
              "57629         BRANCA  \n",
              "57630         BRANCA  \n",
              "57631         BRANCA  \n",
              "\n",
              "[127176 rows x 9 columns]"
            ],
            "text/html": [
              "\n",
              "  <div id=\"df-3ef5ff4b-79b5-4d99-9206-61ce71b428e7\">\n",
              "    <div class=\"colab-df-container\">\n",
              "      <div>\n",
              "<style scoped>\n",
              "    .dataframe tbody tr th:only-of-type {\n",
              "        vertical-align: middle;\n",
              "    }\n",
              "\n",
              "    .dataframe tbody tr th {\n",
              "        vertical-align: top;\n",
              "    }\n",
              "\n",
              "    .dataframe thead th {\n",
              "        text-align: right;\n",
              "    }\n",
              "</style>\n",
              "<table border=\"1\" class=\"dataframe\">\n",
              "  <thead>\n",
              "    <tr style=\"text-align: right;\">\n",
              "      <th></th>\n",
              "      <th>Regiao</th>\n",
              "      <th>Estado</th>\n",
              "      <th>Municipio</th>\n",
              "      <th>Revenda</th>\n",
              "      <th>Bairro</th>\n",
              "      <th>Produto</th>\n",
              "      <th>Data da Coleta</th>\n",
              "      <th>Valor_de_Venda</th>\n",
              "      <th>Bandeira</th>\n",
              "    </tr>\n",
              "  </thead>\n",
              "  <tbody>\n",
              "    <tr>\n",
              "      <th>0</th>\n",
              "      <td>NE</td>\n",
              "      <td>AL</td>\n",
              "      <td>ARAPIRACA</td>\n",
              "      <td>AUTO POSTO M M GARROTE LTDA</td>\n",
              "      <td>BOM SUCESSO</td>\n",
              "      <td>ETANOL</td>\n",
              "      <td>01/08/2022</td>\n",
              "      <td>4,79</td>\n",
              "      <td>VIBRA ENERGIA</td>\n",
              "    </tr>\n",
              "    <tr>\n",
              "      <th>1</th>\n",
              "      <td>NE</td>\n",
              "      <td>AL</td>\n",
              "      <td>ARAPIRACA</td>\n",
              "      <td>AUTO POSTO M M GARROTE LTDA</td>\n",
              "      <td>BOM SUCESSO</td>\n",
              "      <td>GASOLINA</td>\n",
              "      <td>01/08/2022</td>\n",
              "      <td>5,59</td>\n",
              "      <td>VIBRA ENERGIA</td>\n",
              "    </tr>\n",
              "    <tr>\n",
              "      <th>2</th>\n",
              "      <td>NE</td>\n",
              "      <td>AL</td>\n",
              "      <td>ARAPIRACA</td>\n",
              "      <td>AUTO POSTO MASSARANDUBA LTDA.</td>\n",
              "      <td>PLANALTO</td>\n",
              "      <td>GASOLINA ADITIVADA</td>\n",
              "      <td>01/08/2022</td>\n",
              "      <td>5,99</td>\n",
              "      <td>BRANCA</td>\n",
              "    </tr>\n",
              "    <tr>\n",
              "      <th>3</th>\n",
              "      <td>NE</td>\n",
              "      <td>AL</td>\n",
              "      <td>ARAPIRACA</td>\n",
              "      <td>AUTO POSTO MASSARANDUBA LTDA.</td>\n",
              "      <td>PLANALTO</td>\n",
              "      <td>ETANOL</td>\n",
              "      <td>01/08/2022</td>\n",
              "      <td>4,99</td>\n",
              "      <td>BRANCA</td>\n",
              "    </tr>\n",
              "    <tr>\n",
              "      <th>4</th>\n",
              "      <td>NE</td>\n",
              "      <td>AL</td>\n",
              "      <td>ARAPIRACA</td>\n",
              "      <td>AUTO POSTO MASSARANDUBA LTDA.</td>\n",
              "      <td>PLANALTO</td>\n",
              "      <td>GASOLINA</td>\n",
              "      <td>01/08/2022</td>\n",
              "      <td>5,79</td>\n",
              "      <td>BRANCA</td>\n",
              "    </tr>\n",
              "    <tr>\n",
              "      <th>...</th>\n",
              "      <td>...</td>\n",
              "      <td>...</td>\n",
              "      <td>...</td>\n",
              "      <td>...</td>\n",
              "      <td>...</td>\n",
              "      <td>...</td>\n",
              "      <td>...</td>\n",
              "      <td>...</td>\n",
              "      <td>...</td>\n",
              "    </tr>\n",
              "    <tr>\n",
              "      <th>57627</th>\n",
              "      <td>SE</td>\n",
              "      <td>MG</td>\n",
              "      <td>DIVINOPOLIS</td>\n",
              "      <td>AUTO POSTO DE COMBUSTIVEIS ATACADAO LTDA</td>\n",
              "      <td>CATALAO</td>\n",
              "      <td>GASOLINA</td>\n",
              "      <td>29/07/2022</td>\n",
              "      <td>5,38</td>\n",
              "      <td>BRANCA</td>\n",
              "    </tr>\n",
              "    <tr>\n",
              "      <th>57628</th>\n",
              "      <td>S</td>\n",
              "      <td>RS</td>\n",
              "      <td>PORTO ALEGRE</td>\n",
              "      <td>LUIZ GUSTAVO DI LORENZO GARCIA SCHERER</td>\n",
              "      <td>PARTENON</td>\n",
              "      <td>GASOLINA ADITIVADA</td>\n",
              "      <td>29/07/2022</td>\n",
              "      <td>5,46</td>\n",
              "      <td>BRANCA</td>\n",
              "    </tr>\n",
              "    <tr>\n",
              "      <th>57629</th>\n",
              "      <td>S</td>\n",
              "      <td>RS</td>\n",
              "      <td>PORTO ALEGRE</td>\n",
              "      <td>LUIZ GUSTAVO DI LORENZO GARCIA SCHERER</td>\n",
              "      <td>PARTENON</td>\n",
              "      <td>GASOLINA</td>\n",
              "      <td>29/07/2022</td>\n",
              "      <td>5,46</td>\n",
              "      <td>BRANCA</td>\n",
              "    </tr>\n",
              "    <tr>\n",
              "      <th>57630</th>\n",
              "      <td>NE</td>\n",
              "      <td>MA</td>\n",
              "      <td>CAXIAS</td>\n",
              "      <td>POSTAO COMERCIO DE COMBUSTIVEIS LTDA</td>\n",
              "      <td>VOLTA REDONDA</td>\n",
              "      <td>GASOLINA ADITIVADA</td>\n",
              "      <td>29/07/2022</td>\n",
              "      <td>5,68</td>\n",
              "      <td>BRANCA</td>\n",
              "    </tr>\n",
              "    <tr>\n",
              "      <th>57631</th>\n",
              "      <td>NE</td>\n",
              "      <td>MA</td>\n",
              "      <td>CAXIAS</td>\n",
              "      <td>POSTAO COMERCIO DE COMBUSTIVEIS LTDA</td>\n",
              "      <td>VOLTA REDONDA</td>\n",
              "      <td>GASOLINA</td>\n",
              "      <td>29/07/2022</td>\n",
              "      <td>5,68</td>\n",
              "      <td>BRANCA</td>\n",
              "    </tr>\n",
              "  </tbody>\n",
              "</table>\n",
              "<p>127176 rows × 9 columns</p>\n",
              "</div>\n",
              "      <button class=\"colab-df-convert\" onclick=\"convertToInteractive('df-3ef5ff4b-79b5-4d99-9206-61ce71b428e7')\"\n",
              "              title=\"Convert this dataframe to an interactive table.\"\n",
              "              style=\"display:none;\">\n",
              "        \n",
              "  <svg xmlns=\"http://www.w3.org/2000/svg\" height=\"24px\"viewBox=\"0 0 24 24\"\n",
              "       width=\"24px\">\n",
              "    <path d=\"M0 0h24v24H0V0z\" fill=\"none\"/>\n",
              "    <path d=\"M18.56 5.44l.94 2.06.94-2.06 2.06-.94-2.06-.94-.94-2.06-.94 2.06-2.06.94zm-11 1L8.5 8.5l.94-2.06 2.06-.94-2.06-.94L8.5 2.5l-.94 2.06-2.06.94zm10 10l.94 2.06.94-2.06 2.06-.94-2.06-.94-.94-2.06-.94 2.06-2.06.94z\"/><path d=\"M17.41 7.96l-1.37-1.37c-.4-.4-.92-.59-1.43-.59-.52 0-1.04.2-1.43.59L10.3 9.45l-7.72 7.72c-.78.78-.78 2.05 0 2.83L4 21.41c.39.39.9.59 1.41.59.51 0 1.02-.2 1.41-.59l7.78-7.78 2.81-2.81c.8-.78.8-2.07 0-2.86zM5.41 20L4 18.59l7.72-7.72 1.47 1.35L5.41 20z\"/>\n",
              "  </svg>\n",
              "      </button>\n",
              "      \n",
              "  <style>\n",
              "    .colab-df-container {\n",
              "      display:flex;\n",
              "      flex-wrap:wrap;\n",
              "      gap: 12px;\n",
              "    }\n",
              "\n",
              "    .colab-df-convert {\n",
              "      background-color: #E8F0FE;\n",
              "      border: none;\n",
              "      border-radius: 50%;\n",
              "      cursor: pointer;\n",
              "      display: none;\n",
              "      fill: #1967D2;\n",
              "      height: 32px;\n",
              "      padding: 0 0 0 0;\n",
              "      width: 32px;\n",
              "    }\n",
              "\n",
              "    .colab-df-convert:hover {\n",
              "      background-color: #E2EBFA;\n",
              "      box-shadow: 0px 1px 2px rgba(60, 64, 67, 0.3), 0px 1px 3px 1px rgba(60, 64, 67, 0.15);\n",
              "      fill: #174EA6;\n",
              "    }\n",
              "\n",
              "    [theme=dark] .colab-df-convert {\n",
              "      background-color: #3B4455;\n",
              "      fill: #D2E3FC;\n",
              "    }\n",
              "\n",
              "    [theme=dark] .colab-df-convert:hover {\n",
              "      background-color: #434B5C;\n",
              "      box-shadow: 0px 1px 3px 1px rgba(0, 0, 0, 0.15);\n",
              "      filter: drop-shadow(0px 1px 2px rgba(0, 0, 0, 0.3));\n",
              "      fill: #FFFFFF;\n",
              "    }\n",
              "  </style>\n",
              "\n",
              "      <script>\n",
              "        const buttonEl =\n",
              "          document.querySelector('#df-3ef5ff4b-79b5-4d99-9206-61ce71b428e7 button.colab-df-convert');\n",
              "        buttonEl.style.display =\n",
              "          google.colab.kernel.accessAllowed ? 'block' : 'none';\n",
              "\n",
              "        async function convertToInteractive(key) {\n",
              "          const element = document.querySelector('#df-3ef5ff4b-79b5-4d99-9206-61ce71b428e7');\n",
              "          const dataTable =\n",
              "            await google.colab.kernel.invokeFunction('convertToInteractive',\n",
              "                                                     [key], {});\n",
              "          if (!dataTable) return;\n",
              "\n",
              "          const docLinkHtml = 'Like what you see? Visit the ' +\n",
              "            '<a target=\"_blank\" href=https://colab.research.google.com/notebooks/data_table.ipynb>data table notebook</a>'\n",
              "            + ' to learn more about interactive tables.';\n",
              "          element.innerHTML = '';\n",
              "          dataTable['output_type'] = 'display_data';\n",
              "          await google.colab.output.renderOutput(dataTable, element);\n",
              "          const docLink = document.createElement('div');\n",
              "          docLink.innerHTML = docLinkHtml;\n",
              "          element.appendChild(docLink);\n",
              "        }\n",
              "      </script>\n",
              "    </div>\n",
              "  </div>\n",
              "  "
            ]
          },
          "metadata": {},
          "execution_count": 11
        }
      ]
    },
    {
      "cell_type": "markdown",
      "source": [
        "##### **3.2 - Remoção de duplicatas**"
      ],
      "metadata": {
        "id": "ko_qcYgD1JNy"
      }
    },
    {
      "cell_type": "code",
      "source": [
        "duplicados = df_completo[df_completo.duplicated(keep='first')]\n",
        "print(duplicados)"
      ],
      "metadata": {
        "id": "P1_0s_nf1Wpj",
        "outputId": "40eaf0bc-3200-44ec-d16d-85b0d4555287",
        "colab": {
          "base_uri": "https://localhost:8080/"
        }
      },
      "execution_count": null,
      "outputs": [
        {
          "output_type": "stream",
          "name": "stdout",
          "text": [
            "      Regiao Estado     Municipio  \\\n",
            "2167       S     RS  SANTO ANGELO   \n",
            "2168       S     RS  SANTO ANGELO   \n",
            "2169       S     RS  SANTO ANGELO   \n",
            "3616      SE     SP     BEBEDOURO   \n",
            "3617      SE     SP     BEBEDOURO   \n",
            "...      ...    ...           ...   \n",
            "56965     SE     MG       CURVELO   \n",
            "57302      N     PA    ANANINDEUA   \n",
            "57319     NE     CE        IGUATU   \n",
            "57595      S     RS  PORTO ALEGRE   \n",
            "57597      S     RS  PORTO ALEGRE   \n",
            "\n",
            "                                                 Revenda    Bairro  \\\n",
            "2167                          POSTO SANTA TEREZINHA LTDA    CENTRO   \n",
            "2168                          POSTO SANTA TEREZINHA LTDA    CENTRO   \n",
            "2169                          POSTO SANTA TEREZINHA LTDA    CENTRO   \n",
            "3616                       POSTO DO LAGO BEBEDOURO LTDA.    CENTRO   \n",
            "3617                       POSTO DO LAGO BEBEDOURO LTDA.    CENTRO   \n",
            "...                                                  ...       ...   \n",
            "56965                       POSTO PASSOS & MONTEIRO LTDA    CENTRO   \n",
            "57302  POSTO IRMAS MARTINI COMERCIO VAREJISTA DE COMB...  COQUEIRO   \n",
            "57319                AIRTON PALACIO DE SOUZA JUNIOR - ME    CENTRO   \n",
            "57595                  POSTO DE COMBUSTIVEIS ALICAR LTDA  PARTENON   \n",
            "57597                  POSTO DE COMBUSTIVEIS ALICAR LTDA  PARTENON   \n",
            "\n",
            "                  Produto Data da Coleta Valor_de_Venda  Bandeira  \n",
            "2167   GASOLINA ADITIVADA     01/08/2022           5,89    BRANCA  \n",
            "2168               ETANOL     01/08/2022           5,69    BRANCA  \n",
            "2169             GASOLINA     01/08/2022            5,8    BRANCA  \n",
            "3616               ETANOL     01/08/2022           3,89    BRANCA  \n",
            "3617             GASOLINA     01/08/2022           5,69    BRANCA  \n",
            "...                   ...            ...            ...       ...  \n",
            "56965  GASOLINA ADITIVADA     28/07/2022           5,77    BRANCA  \n",
            "57302            GASOLINA     28/07/2022           5,69    SABBÃ  \n",
            "57319            GASOLINA     28/07/2022           6,09        SP  \n",
            "57595  GASOLINA ADITIVADA     29/07/2022           6,49  IPIRANGA  \n",
            "57597            GASOLINA     29/07/2022           5,79  IPIRANGA  \n",
            "\n",
            "[480 rows x 9 columns]\n"
          ]
        }
      ]
    },
    {
      "cell_type": "code",
      "source": [
        "df_completo.drop_duplicates(keep='first', inplace=True)\n",
        "df_completo"
      ],
      "metadata": {
        "id": "dG_3uSGS1b4D",
        "outputId": "971431a8-eb9d-470f-8194-64ef6de61389",
        "colab": {
          "base_uri": "https://localhost:8080/",
          "height": 424
        }
      },
      "execution_count": null,
      "outputs": [
        {
          "output_type": "execute_result",
          "data": {
            "text/plain": [
              "      Regiao Estado     Municipio                                   Revenda  \\\n",
              "0         NE     AL     ARAPIRACA               AUTO POSTO M M GARROTE LTDA   \n",
              "1         NE     AL     ARAPIRACA               AUTO POSTO M M GARROTE LTDA   \n",
              "2         NE     AL     ARAPIRACA             AUTO POSTO MASSARANDUBA LTDA.   \n",
              "3         NE     AL     ARAPIRACA             AUTO POSTO MASSARANDUBA LTDA.   \n",
              "4         NE     AL     ARAPIRACA             AUTO POSTO MASSARANDUBA LTDA.   \n",
              "...      ...    ...           ...                                       ...   \n",
              "57627     SE     MG   DIVINOPOLIS  AUTO POSTO DE COMBUSTIVEIS ATACADAO LTDA   \n",
              "57628      S     RS  PORTO ALEGRE    LUIZ GUSTAVO DI LORENZO GARCIA SCHERER   \n",
              "57629      S     RS  PORTO ALEGRE    LUIZ GUSTAVO DI LORENZO GARCIA SCHERER   \n",
              "57630     NE     MA        CAXIAS      POSTAO COMERCIO DE COMBUSTIVEIS LTDA   \n",
              "57631     NE     MA        CAXIAS      POSTAO COMERCIO DE COMBUSTIVEIS LTDA   \n",
              "\n",
              "              Bairro             Produto Data da Coleta Valor_de_Venda  \\\n",
              "0        BOM SUCESSO              ETANOL     01/08/2022           4,79   \n",
              "1        BOM SUCESSO            GASOLINA     01/08/2022           5,59   \n",
              "2           PLANALTO  GASOLINA ADITIVADA     01/08/2022           5,99   \n",
              "3           PLANALTO              ETANOL     01/08/2022           4,99   \n",
              "4           PLANALTO            GASOLINA     01/08/2022           5,79   \n",
              "...              ...                 ...            ...            ...   \n",
              "57627        CATALAO            GASOLINA     29/07/2022           5,38   \n",
              "57628       PARTENON  GASOLINA ADITIVADA     29/07/2022           5,46   \n",
              "57629       PARTENON            GASOLINA     29/07/2022           5,46   \n",
              "57630  VOLTA REDONDA  GASOLINA ADITIVADA     29/07/2022           5,68   \n",
              "57631  VOLTA REDONDA            GASOLINA     29/07/2022           5,68   \n",
              "\n",
              "            Bandeira  \n",
              "0      VIBRA ENERGIA  \n",
              "1      VIBRA ENERGIA  \n",
              "2             BRANCA  \n",
              "3             BRANCA  \n",
              "4             BRANCA  \n",
              "...              ...  \n",
              "57627         BRANCA  \n",
              "57628         BRANCA  \n",
              "57629         BRANCA  \n",
              "57630         BRANCA  \n",
              "57631         BRANCA  \n",
              "\n",
              "[126696 rows x 9 columns]"
            ],
            "text/html": [
              "\n",
              "  <div id=\"df-f0762b87-471d-45ed-9b05-50bab0cca6c7\">\n",
              "    <div class=\"colab-df-container\">\n",
              "      <div>\n",
              "<style scoped>\n",
              "    .dataframe tbody tr th:only-of-type {\n",
              "        vertical-align: middle;\n",
              "    }\n",
              "\n",
              "    .dataframe tbody tr th {\n",
              "        vertical-align: top;\n",
              "    }\n",
              "\n",
              "    .dataframe thead th {\n",
              "        text-align: right;\n",
              "    }\n",
              "</style>\n",
              "<table border=\"1\" class=\"dataframe\">\n",
              "  <thead>\n",
              "    <tr style=\"text-align: right;\">\n",
              "      <th></th>\n",
              "      <th>Regiao</th>\n",
              "      <th>Estado</th>\n",
              "      <th>Municipio</th>\n",
              "      <th>Revenda</th>\n",
              "      <th>Bairro</th>\n",
              "      <th>Produto</th>\n",
              "      <th>Data da Coleta</th>\n",
              "      <th>Valor_de_Venda</th>\n",
              "      <th>Bandeira</th>\n",
              "    </tr>\n",
              "  </thead>\n",
              "  <tbody>\n",
              "    <tr>\n",
              "      <th>0</th>\n",
              "      <td>NE</td>\n",
              "      <td>AL</td>\n",
              "      <td>ARAPIRACA</td>\n",
              "      <td>AUTO POSTO M M GARROTE LTDA</td>\n",
              "      <td>BOM SUCESSO</td>\n",
              "      <td>ETANOL</td>\n",
              "      <td>01/08/2022</td>\n",
              "      <td>4,79</td>\n",
              "      <td>VIBRA ENERGIA</td>\n",
              "    </tr>\n",
              "    <tr>\n",
              "      <th>1</th>\n",
              "      <td>NE</td>\n",
              "      <td>AL</td>\n",
              "      <td>ARAPIRACA</td>\n",
              "      <td>AUTO POSTO M M GARROTE LTDA</td>\n",
              "      <td>BOM SUCESSO</td>\n",
              "      <td>GASOLINA</td>\n",
              "      <td>01/08/2022</td>\n",
              "      <td>5,59</td>\n",
              "      <td>VIBRA ENERGIA</td>\n",
              "    </tr>\n",
              "    <tr>\n",
              "      <th>2</th>\n",
              "      <td>NE</td>\n",
              "      <td>AL</td>\n",
              "      <td>ARAPIRACA</td>\n",
              "      <td>AUTO POSTO MASSARANDUBA LTDA.</td>\n",
              "      <td>PLANALTO</td>\n",
              "      <td>GASOLINA ADITIVADA</td>\n",
              "      <td>01/08/2022</td>\n",
              "      <td>5,99</td>\n",
              "      <td>BRANCA</td>\n",
              "    </tr>\n",
              "    <tr>\n",
              "      <th>3</th>\n",
              "      <td>NE</td>\n",
              "      <td>AL</td>\n",
              "      <td>ARAPIRACA</td>\n",
              "      <td>AUTO POSTO MASSARANDUBA LTDA.</td>\n",
              "      <td>PLANALTO</td>\n",
              "      <td>ETANOL</td>\n",
              "      <td>01/08/2022</td>\n",
              "      <td>4,99</td>\n",
              "      <td>BRANCA</td>\n",
              "    </tr>\n",
              "    <tr>\n",
              "      <th>4</th>\n",
              "      <td>NE</td>\n",
              "      <td>AL</td>\n",
              "      <td>ARAPIRACA</td>\n",
              "      <td>AUTO POSTO MASSARANDUBA LTDA.</td>\n",
              "      <td>PLANALTO</td>\n",
              "      <td>GASOLINA</td>\n",
              "      <td>01/08/2022</td>\n",
              "      <td>5,79</td>\n",
              "      <td>BRANCA</td>\n",
              "    </tr>\n",
              "    <tr>\n",
              "      <th>...</th>\n",
              "      <td>...</td>\n",
              "      <td>...</td>\n",
              "      <td>...</td>\n",
              "      <td>...</td>\n",
              "      <td>...</td>\n",
              "      <td>...</td>\n",
              "      <td>...</td>\n",
              "      <td>...</td>\n",
              "      <td>...</td>\n",
              "    </tr>\n",
              "    <tr>\n",
              "      <th>57627</th>\n",
              "      <td>SE</td>\n",
              "      <td>MG</td>\n",
              "      <td>DIVINOPOLIS</td>\n",
              "      <td>AUTO POSTO DE COMBUSTIVEIS ATACADAO LTDA</td>\n",
              "      <td>CATALAO</td>\n",
              "      <td>GASOLINA</td>\n",
              "      <td>29/07/2022</td>\n",
              "      <td>5,38</td>\n",
              "      <td>BRANCA</td>\n",
              "    </tr>\n",
              "    <tr>\n",
              "      <th>57628</th>\n",
              "      <td>S</td>\n",
              "      <td>RS</td>\n",
              "      <td>PORTO ALEGRE</td>\n",
              "      <td>LUIZ GUSTAVO DI LORENZO GARCIA SCHERER</td>\n",
              "      <td>PARTENON</td>\n",
              "      <td>GASOLINA ADITIVADA</td>\n",
              "      <td>29/07/2022</td>\n",
              "      <td>5,46</td>\n",
              "      <td>BRANCA</td>\n",
              "    </tr>\n",
              "    <tr>\n",
              "      <th>57629</th>\n",
              "      <td>S</td>\n",
              "      <td>RS</td>\n",
              "      <td>PORTO ALEGRE</td>\n",
              "      <td>LUIZ GUSTAVO DI LORENZO GARCIA SCHERER</td>\n",
              "      <td>PARTENON</td>\n",
              "      <td>GASOLINA</td>\n",
              "      <td>29/07/2022</td>\n",
              "      <td>5,46</td>\n",
              "      <td>BRANCA</td>\n",
              "    </tr>\n",
              "    <tr>\n",
              "      <th>57630</th>\n",
              "      <td>NE</td>\n",
              "      <td>MA</td>\n",
              "      <td>CAXIAS</td>\n",
              "      <td>POSTAO COMERCIO DE COMBUSTIVEIS LTDA</td>\n",
              "      <td>VOLTA REDONDA</td>\n",
              "      <td>GASOLINA ADITIVADA</td>\n",
              "      <td>29/07/2022</td>\n",
              "      <td>5,68</td>\n",
              "      <td>BRANCA</td>\n",
              "    </tr>\n",
              "    <tr>\n",
              "      <th>57631</th>\n",
              "      <td>NE</td>\n",
              "      <td>MA</td>\n",
              "      <td>CAXIAS</td>\n",
              "      <td>POSTAO COMERCIO DE COMBUSTIVEIS LTDA</td>\n",
              "      <td>VOLTA REDONDA</td>\n",
              "      <td>GASOLINA</td>\n",
              "      <td>29/07/2022</td>\n",
              "      <td>5,68</td>\n",
              "      <td>BRANCA</td>\n",
              "    </tr>\n",
              "  </tbody>\n",
              "</table>\n",
              "<p>126696 rows × 9 columns</p>\n",
              "</div>\n",
              "      <button class=\"colab-df-convert\" onclick=\"convertToInteractive('df-f0762b87-471d-45ed-9b05-50bab0cca6c7')\"\n",
              "              title=\"Convert this dataframe to an interactive table.\"\n",
              "              style=\"display:none;\">\n",
              "        \n",
              "  <svg xmlns=\"http://www.w3.org/2000/svg\" height=\"24px\"viewBox=\"0 0 24 24\"\n",
              "       width=\"24px\">\n",
              "    <path d=\"M0 0h24v24H0V0z\" fill=\"none\"/>\n",
              "    <path d=\"M18.56 5.44l.94 2.06.94-2.06 2.06-.94-2.06-.94-.94-2.06-.94 2.06-2.06.94zm-11 1L8.5 8.5l.94-2.06 2.06-.94-2.06-.94L8.5 2.5l-.94 2.06-2.06.94zm10 10l.94 2.06.94-2.06 2.06-.94-2.06-.94-.94-2.06-.94 2.06-2.06.94z\"/><path d=\"M17.41 7.96l-1.37-1.37c-.4-.4-.92-.59-1.43-.59-.52 0-1.04.2-1.43.59L10.3 9.45l-7.72 7.72c-.78.78-.78 2.05 0 2.83L4 21.41c.39.39.9.59 1.41.59.51 0 1.02-.2 1.41-.59l7.78-7.78 2.81-2.81c.8-.78.8-2.07 0-2.86zM5.41 20L4 18.59l7.72-7.72 1.47 1.35L5.41 20z\"/>\n",
              "  </svg>\n",
              "      </button>\n",
              "      \n",
              "  <style>\n",
              "    .colab-df-container {\n",
              "      display:flex;\n",
              "      flex-wrap:wrap;\n",
              "      gap: 12px;\n",
              "    }\n",
              "\n",
              "    .colab-df-convert {\n",
              "      background-color: #E8F0FE;\n",
              "      border: none;\n",
              "      border-radius: 50%;\n",
              "      cursor: pointer;\n",
              "      display: none;\n",
              "      fill: #1967D2;\n",
              "      height: 32px;\n",
              "      padding: 0 0 0 0;\n",
              "      width: 32px;\n",
              "    }\n",
              "\n",
              "    .colab-df-convert:hover {\n",
              "      background-color: #E2EBFA;\n",
              "      box-shadow: 0px 1px 2px rgba(60, 64, 67, 0.3), 0px 1px 3px 1px rgba(60, 64, 67, 0.15);\n",
              "      fill: #174EA6;\n",
              "    }\n",
              "\n",
              "    [theme=dark] .colab-df-convert {\n",
              "      background-color: #3B4455;\n",
              "      fill: #D2E3FC;\n",
              "    }\n",
              "\n",
              "    [theme=dark] .colab-df-convert:hover {\n",
              "      background-color: #434B5C;\n",
              "      box-shadow: 0px 1px 3px 1px rgba(0, 0, 0, 0.15);\n",
              "      filter: drop-shadow(0px 1px 2px rgba(0, 0, 0, 0.3));\n",
              "      fill: #FFFFFF;\n",
              "    }\n",
              "  </style>\n",
              "\n",
              "      <script>\n",
              "        const buttonEl =\n",
              "          document.querySelector('#df-f0762b87-471d-45ed-9b05-50bab0cca6c7 button.colab-df-convert');\n",
              "        buttonEl.style.display =\n",
              "          google.colab.kernel.accessAllowed ? 'block' : 'none';\n",
              "\n",
              "        async function convertToInteractive(key) {\n",
              "          const element = document.querySelector('#df-f0762b87-471d-45ed-9b05-50bab0cca6c7');\n",
              "          const dataTable =\n",
              "            await google.colab.kernel.invokeFunction('convertToInteractive',\n",
              "                                                     [key], {});\n",
              "          if (!dataTable) return;\n",
              "\n",
              "          const docLinkHtml = 'Like what you see? Visit the ' +\n",
              "            '<a target=\"_blank\" href=https://colab.research.google.com/notebooks/data_table.ipynb>data table notebook</a>'\n",
              "            + ' to learn more about interactive tables.';\n",
              "          element.innerHTML = '';\n",
              "          dataTable['output_type'] = 'display_data';\n",
              "          await google.colab.output.renderOutput(dataTable, element);\n",
              "          const docLink = document.createElement('div');\n",
              "          docLink.innerHTML = docLinkHtml;\n",
              "          element.appendChild(docLink);\n",
              "        }\n",
              "      </script>\n",
              "    </div>\n",
              "  </div>\n",
              "  "
            ]
          },
          "metadata": {},
          "execution_count": 13
        }
      ]
    },
    {
      "cell_type": "markdown",
      "source": [
        "##### **3.3 - Alterando o tipo da variável 'Valor de Venda'**"
      ],
      "metadata": {
        "id": "R2MtyAHF2KUs"
      }
    },
    {
      "cell_type": "markdown",
      "source": [
        "Para o desenvolvimento do Projeto, convertemos a formatação da variável 'Valor_de_Venda', alterando a separação entre a parte inteira e decimal de ',' para '.', e garantimos que o seu tipo seja 'float' (valor decimais)."
      ],
      "metadata": {
        "id": "aVxY3ov82coR"
      }
    },
    {
      "cell_type": "code",
      "source": [
        "df_completo['Valor_de_Venda'] = df_completo['Valor_de_Venda'].str.replace(',', '.')\n",
        "df_completo['Valor_de_Venda']= df_completo['Valor_de_Venda'].astype(float)"
      ],
      "metadata": {
        "id": "mu702Zkx2WI_"
      },
      "execution_count": null,
      "outputs": []
    },
    {
      "cell_type": "markdown",
      "source": [
        "##### **3.2 - Análise de Outliers**"
      ],
      "metadata": {
        "id": "9VofM7PSDWzf"
      }
    },
    {
      "cell_type": "markdown",
      "source": [
        "A verificação de Outliers será realizada em quatro passos:\n",
        "* 1 - Resumo Estatístico dos dados presentes utilizando a função .describe()\n",
        "* 2 - Visualização do gráfico de histograma e boxplot\n",
        "* 3 - Análise da Amplitude Interquartil\n",
        "* 4 - Decisão final sobre remoção"
      ],
      "metadata": {
        "id": "tmSFft-TDaI7"
      }
    },
    {
      "cell_type": "markdown",
      "source": [
        "##### **3.2 - Visualização do gráfico de histograma e boxplot da variável 'Valor_de_Venda'**"
      ],
      "metadata": {
        "id": "O4QkNl6LwGHS"
      }
    },
    {
      "cell_type": "code",
      "source": [
        "plt.xlabel ('Valor de Venda')\n",
        "plt.ylabel ('Distribuição')\n",
        "plt.hist(x = df_completo['Valor_de_Venda']);"
      ],
      "metadata": {
        "colab": {
          "base_uri": "https://localhost:8080/",
          "height": 279
        },
        "id": "BYxliDieFGtn",
        "outputId": "7729a22a-c0fe-459d-e799-e0e0ee6bd64d"
      },
      "execution_count": null,
      "outputs": [
        {
          "output_type": "display_data",
          "data": {
            "text/plain": [
              "<Figure size 432x288 with 1 Axes>"
            ],
            "image/png": "[encoded data removed]"
          },
          "metadata": {
            "needs_background": "light"
          }
        }
      ]
    },
    {
      "cell_type": "code",
      "source": [
        "df_completo['Valor_de_Venda'].plot.box(vert = False, figsize = (20,6));"
      ],
      "metadata": {
        "id": "edppVuFK6Jno",
        "outputId": "81f97588-aa53-4ece-f7bf-b0908fdb597c",
        "colab": {
          "base_uri": "https://localhost:8080/",
          "height": 374
        }
      },
      "execution_count": null,
      "outputs": [
        {
          "output_type": "display_data",
          "data": {
            "text/plain": [
              "<Figure size 1440x432 with 1 Axes>"
            ],
            "image/png": "[encoded data removed]"
          },
          "metadata": {
            "needs_background": "light"
          }
        }
      ]
    },
    {
      "cell_type": "markdown",
      "source": [
        "Analisando o gráfico de histograma e boxplot percebemos os primeiros indícios da presença de outliers. No entanto, é necessário um refinamento maior na análise, comparando os principais cálculos estatísticos a fim de confirmar a presença de outliers e seu impacto."
      ],
      "metadata": {
        "id": "QTOWodFpwUPA"
      }
    },
    {
      "cell_type": "code",
      "source": [
        "#Cálculos estatísticos do dataset completo\n",
        "df_completo['Valor_de_Venda'].describe()"
      ],
      "metadata": {
        "colab": {
          "base_uri": "https://localhost:8080/"
        },
        "id": "jsAi3LvjDr_e",
        "outputId": "7ad89dc4-d35d-4306-cdfa-250432fd3987"
      },
      "execution_count": null,
      "outputs": [
        {
          "output_type": "execute_result",
          "data": {
            "text/plain": [
              "count    126696.000000\n",
              "mean          5.354935\n",
              "std           0.860794\n",
              "min           2.890000\n",
              "25%           4.880000\n",
              "50%           5.490000\n",
              "75%           5.890000\n",
              "max           9.270000\n",
              "Name: Valor_de_Venda, dtype: float64"
            ]
          },
          "metadata": {},
          "execution_count": 17
        }
      ]
    },
    {
      "cell_type": "markdown",
      "source": [
        "Com a função .describe() encontramos os primeiros indícios de Outliers. Comparando, por exemplo, o valor máximo da variável 'Valor_de_Venda', **9.27**, com o Q3, **5.89**, observamos que o maior valor do nosso dataset é cerca de **58%** maior que 75% de todos os valores, e cerca de **73%** maior que a média dessa variável.\n"
      ],
      "metadata": {
        "id": "4BrNjENwwop4"
      }
    },
    {
      "cell_type": "markdown",
      "source": [
        "Agora será utilizado o metódo **Análise da Amplitude Interquartil** para a avaliação de todos os valores que possam ou não se enquadrar como Outliers. \n",
        "\n",
        "Esse método tem como parâmetros três variáveis, sendo elas: \n",
        "\n",
        "* IIQ - Intervalo InterQuartil (Q3 - Q1)\n",
        "* Q1 - Primerio Quartil (25%)\n",
        "* Q3 - Terceiro Quartil (75)\n",
        "\n",
        "Serão considerados valores OutLiers os que não respeitarem as seguintes regras:\n",
        "* Outlier abaixo: valor da variável < Q1 - FIG * 1.5\n",
        "* Outlier acima: valor da variável > Q3 + FIG * 1.5\n"
      ],
      "metadata": {
        "id": "p-r1PIl1ys3n"
      }
    },
    {
      "cell_type": "markdown",
      "source": [
        "#####  **3.3 - Desenvolvimento da Análise de Amplitude Interquartil**"
      ],
      "metadata": {
        "id": "qUcfOysNwol0"
      }
    },
    {
      "cell_type": "code",
      "source": [
        "#Geração das variáveis Q1, Q3 e FIG\n",
        "Q1 = df_completo['Valor_de_Venda'].quantile(0.25)\n",
        "Q3 = df_completo['Valor_de_Venda'].quantile(0.75)\n",
        "IIQ = Q3 - Q1\n",
        "IIQ\n"
      ],
      "metadata": {
        "colab": {
          "base_uri": "https://localhost:8080/"
        },
        "id": "o_puROoTdpU4",
        "outputId": "fe25e53b-6044-40e5-b873-df692ff32dd3"
      },
      "execution_count": null,
      "outputs": [
        {
          "output_type": "execute_result",
          "data": {
            "text/plain": [
              "1.0099999999999998"
            ]
          },
          "metadata": {},
          "execution_count": 18
        }
      ]
    },
    {
      "cell_type": "code",
      "source": [
        "outlier_baixo = Q1 - (1.5 * IIQ)\n",
        "outlier_baixo"
      ],
      "metadata": {
        "colab": {
          "base_uri": "https://localhost:8080/"
        },
        "id": "wZSNW2gUgrCQ",
        "outputId": "cc391060-38d7-4e49-c690-c32dfc85d50e"
      },
      "execution_count": null,
      "outputs": [
        {
          "output_type": "execute_result",
          "data": {
            "text/plain": [
              "3.365"
            ]
          },
          "metadata": {},
          "execution_count": 19
        }
      ]
    },
    {
      "cell_type": "code",
      "source": [
        "outlier_alto = Q3 + (1.5 * IIQ)\n",
        "outlier_alto"
      ],
      "metadata": {
        "colab": {
          "base_uri": "https://localhost:8080/"
        },
        "id": "-DItKQGQl4LE",
        "outputId": "cb19da9d-81b3-4719-d423-2c7be0eea922"
      },
      "execution_count": null,
      "outputs": [
        {
          "output_type": "execute_result",
          "data": {
            "text/plain": [
              "7.404999999999999"
            ]
          },
          "metadata": {},
          "execution_count": 20
        }
      ]
    },
    {
      "cell_type": "code",
      "source": [
        "#Análise dos valores, e remoção dos que forem considerados Outliers.\n",
        "df_completo_copy = df_completo.drop(df_completo[(df_completo.Valor_de_Venda < outlier_baixo) | (df_completo.Valor_de_Venda > outlier_alto)].index)\n",
        "df_completo_copy"
      ],
      "metadata": {
        "colab": {
          "base_uri": "https://localhost:8080/",
          "height": 424
        },
        "id": "PzQ9M8wImDTl",
        "outputId": "ffd0e21b-3c36-4ed5-9028-b9ff827ee746"
      },
      "execution_count": null,
      "outputs": [
        {
          "output_type": "execute_result",
          "data": {
            "text/plain": [
              "      Regiao Estado     Municipio                                   Revenda  \\\n",
              "1         NE     AL     ARAPIRACA               AUTO POSTO M M GARROTE LTDA   \n",
              "2         NE     AL     ARAPIRACA             AUTO POSTO MASSARANDUBA LTDA.   \n",
              "3         NE     AL     ARAPIRACA             AUTO POSTO MASSARANDUBA LTDA.   \n",
              "4         NE     AL     ARAPIRACA             AUTO POSTO MASSARANDUBA LTDA.   \n",
              "5         NE     AL     ARAPIRACA                      POSTO ARAPIRACA LTDA   \n",
              "...      ...    ...           ...                                       ...   \n",
              "57627     SE     MG   DIVINOPOLIS  AUTO POSTO DE COMBUSTIVEIS ATACADAO LTDA   \n",
              "57628      S     RS  PORTO ALEGRE    LUIZ GUSTAVO DI LORENZO GARCIA SCHERER   \n",
              "57629      S     RS  PORTO ALEGRE    LUIZ GUSTAVO DI LORENZO GARCIA SCHERER   \n",
              "57630     NE     MA        CAXIAS      POSTAO COMERCIO DE COMBUSTIVEIS LTDA   \n",
              "57631     NE     MA        CAXIAS      POSTAO COMERCIO DE COMBUSTIVEIS LTDA   \n",
              "\n",
              "              Bairro             Produto Data da Coleta  Valor_de_Venda  \\\n",
              "1        BOM SUCESSO            GASOLINA     01/08/2022            5.59   \n",
              "2           PLANALTO  GASOLINA ADITIVADA     01/08/2022            5.99   \n",
              "3           PLANALTO              ETANOL     01/08/2022            4.99   \n",
              "4           PLANALTO            GASOLINA     01/08/2022            5.79   \n",
              "5        CANAFISTULA  GASOLINA ADITIVADA     01/08/2022            6.09   \n",
              "...              ...                 ...            ...             ...   \n",
              "57627        CATALAO            GASOLINA     29/07/2022            5.38   \n",
              "57628       PARTENON  GASOLINA ADITIVADA     29/07/2022            5.46   \n",
              "57629       PARTENON            GASOLINA     29/07/2022            5.46   \n",
              "57630  VOLTA REDONDA  GASOLINA ADITIVADA     29/07/2022            5.68   \n",
              "57631  VOLTA REDONDA            GASOLINA     29/07/2022            5.68   \n",
              "\n",
              "            Bandeira  \n",
              "1      VIBRA ENERGIA  \n",
              "2             BRANCA  \n",
              "3             BRANCA  \n",
              "4             BRANCA  \n",
              "5      VIBRA ENERGIA  \n",
              "...              ...  \n",
              "57627         BRANCA  \n",
              "57628         BRANCA  \n",
              "57629         BRANCA  \n",
              "57630         BRANCA  \n",
              "57631         BRANCA  \n",
              "\n",
              "[123965 rows x 9 columns]"
            ],
            "text/html": [
              "\n",
              "  <div id=\"df-195d87ed-d0c1-4286-9a11-fa686407bbfe\">\n",
              "    <div class=\"colab-df-container\">\n",
              "      <div>\n",
              "<style scoped>\n",
              "    .dataframe tbody tr th:only-of-type {\n",
              "        vertical-align: middle;\n",
              "    }\n",
              "\n",
              "    .dataframe tbody tr th {\n",
              "        vertical-align: top;\n",
              "    }\n",
              "\n",
              "    .dataframe thead th {\n",
              "        text-align: right;\n",
              "    }\n",
              "</style>\n",
              "<table border=\"1\" class=\"dataframe\">\n",
              "  <thead>\n",
              "    <tr style=\"text-align: right;\">\n",
              "      <th></th>\n",
              "      <th>Regiao</th>\n",
              "      <th>Estado</th>\n",
              "      <th>Municipio</th>\n",
              "      <th>Revenda</th>\n",
              "      <th>Bairro</th>\n",
              "      <th>Produto</th>\n",
              "      <th>Data da Coleta</th>\n",
              "      <th>Valor_de_Venda</th>\n",
              "      <th>Bandeira</th>\n",
              "    </tr>\n",
              "  </thead>\n",
              "  <tbody>\n",
              "    <tr>\n",
              "      <th>1</th>\n",
              "      <td>NE</td>\n",
              "      <td>AL</td>\n",
              "      <td>ARAPIRACA</td>\n",
              "      <td>AUTO POSTO M M GARROTE LTDA</td>\n",
              "      <td>BOM SUCESSO</td>\n",
              "      <td>GASOLINA</td>\n",
              "      <td>01/08/2022</td>\n",
              "      <td>5.59</td>\n",
              "      <td>VIBRA ENERGIA</td>\n",
              "    </tr>\n",
              "    <tr>\n",
              "      <th>2</th>\n",
              "      <td>NE</td>\n",
              "      <td>AL</td>\n",
              "      <td>ARAPIRACA</td>\n",
              "      <td>AUTO POSTO MASSARANDUBA LTDA.</td>\n",
              "      <td>PLANALTO</td>\n",
              "      <td>GASOLINA ADITIVADA</td>\n",
              "      <td>01/08/2022</td>\n",
              "      <td>5.99</td>\n",
              "      <td>BRANCA</td>\n",
              "    </tr>\n",
              "    <tr>\n",
              "      <th>3</th>\n",
              "      <td>NE</td>\n",
              "      <td>AL</td>\n",
              "      <td>ARAPIRACA</td>\n",
              "      <td>AUTO POSTO MASSARANDUBA LTDA.</td>\n",
              "      <td>PLANALTO</td>\n",
              "      <td>ETANOL</td>\n",
              "      <td>01/08/2022</td>\n",
              "      <td>4.99</td>\n",
              "      <td>BRANCA</td>\n",
              "    </tr>\n",
              "    <tr>\n",
              "      <th>4</th>\n",
              "      <td>NE</td>\n",
              "      <td>AL</td>\n",
              "      <td>ARAPIRACA</td>\n",
              "      <td>AUTO POSTO MASSARANDUBA LTDA.</td>\n",
              "      <td>PLANALTO</td>\n",
              "      <td>GASOLINA</td>\n",
              "      <td>01/08/2022</td>\n",
              "      <td>5.79</td>\n",
              "      <td>BRANCA</td>\n",
              "    </tr>\n",
              "    <tr>\n",
              "      <th>5</th>\n",
              "      <td>NE</td>\n",
              "      <td>AL</td>\n",
              "      <td>ARAPIRACA</td>\n",
              "      <td>POSTO ARAPIRACA LTDA</td>\n",
              "      <td>CANAFISTULA</td>\n",
              "      <td>GASOLINA ADITIVADA</td>\n",
              "      <td>01/08/2022</td>\n",
              "      <td>6.09</td>\n",
              "      <td>VIBRA ENERGIA</td>\n",
              "    </tr>\n",
              "    <tr>\n",
              "      <th>...</th>\n",
              "      <td>...</td>\n",
              "      <td>...</td>\n",
              "      <td>...</td>\n",
              "      <td>...</td>\n",
              "      <td>...</td>\n",
              "      <td>...</td>\n",
              "      <td>...</td>\n",
              "      <td>...</td>\n",
              "      <td>...</td>\n",
              "    </tr>\n",
              "    <tr>\n",
              "      <th>57627</th>\n",
              "      <td>SE</td>\n",
              "      <td>MG</td>\n",
              "      <td>DIVINOPOLIS</td>\n",
              "      <td>AUTO POSTO DE COMBUSTIVEIS ATACADAO LTDA</td>\n",
              "      <td>CATALAO</td>\n",
              "      <td>GASOLINA</td>\n",
              "      <td>29/07/2022</td>\n",
              "      <td>5.38</td>\n",
              "      <td>BRANCA</td>\n",
              "    </tr>\n",
              "    <tr>\n",
              "      <th>57628</th>\n",
              "      <td>S</td>\n",
              "      <td>RS</td>\n",
              "      <td>PORTO ALEGRE</td>\n",
              "      <td>LUIZ GUSTAVO DI LORENZO GARCIA SCHERER</td>\n",
              "      <td>PARTENON</td>\n",
              "      <td>GASOLINA ADITIVADA</td>\n",
              "      <td>29/07/2022</td>\n",
              "      <td>5.46</td>\n",
              "      <td>BRANCA</td>\n",
              "    </tr>\n",
              "    <tr>\n",
              "      <th>57629</th>\n",
              "      <td>S</td>\n",
              "      <td>RS</td>\n",
              "      <td>PORTO ALEGRE</td>\n",
              "      <td>LUIZ GUSTAVO DI LORENZO GARCIA SCHERER</td>\n",
              "      <td>PARTENON</td>\n",
              "      <td>GASOLINA</td>\n",
              "      <td>29/07/2022</td>\n",
              "      <td>5.46</td>\n",
              "      <td>BRANCA</td>\n",
              "    </tr>\n",
              "    <tr>\n",
              "      <th>57630</th>\n",
              "      <td>NE</td>\n",
              "      <td>MA</td>\n",
              "      <td>CAXIAS</td>\n",
              "      <td>POSTAO COMERCIO DE COMBUSTIVEIS LTDA</td>\n",
              "      <td>VOLTA REDONDA</td>\n",
              "      <td>GASOLINA ADITIVADA</td>\n",
              "      <td>29/07/2022</td>\n",
              "      <td>5.68</td>\n",
              "      <td>BRANCA</td>\n",
              "    </tr>\n",
              "    <tr>\n",
              "      <th>57631</th>\n",
              "      <td>NE</td>\n",
              "      <td>MA</td>\n",
              "      <td>CAXIAS</td>\n",
              "      <td>POSTAO COMERCIO DE COMBUSTIVEIS LTDA</td>\n",
              "      <td>VOLTA REDONDA</td>\n",
              "      <td>GASOLINA</td>\n",
              "      <td>29/07/2022</td>\n",
              "      <td>5.68</td>\n",
              "      <td>BRANCA</td>\n",
              "    </tr>\n",
              "  </tbody>\n",
              "</table>\n",
              "<p>123965 rows × 9 columns</p>\n",
              "</div>\n",
              "      <button class=\"colab-df-convert\" onclick=\"convertToInteractive('df-195d87ed-d0c1-4286-9a11-fa686407bbfe')\"\n",
              "              title=\"Convert this dataframe to an interactive table.\"\n",
              "              style=\"display:none;\">\n",
              "        \n",
              "  <svg xmlns=\"http://www.w3.org/2000/svg\" height=\"24px\"viewBox=\"0 0 24 24\"\n",
              "       width=\"24px\">\n",
              "    <path d=\"M0 0h24v24H0V0z\" fill=\"none\"/>\n",
              "    <path d=\"M18.56 5.44l.94 2.06.94-2.06 2.06-.94-2.06-.94-.94-2.06-.94 2.06-2.06.94zm-11 1L8.5 8.5l.94-2.06 2.06-.94-2.06-.94L8.5 2.5l-.94 2.06-2.06.94zm10 10l.94 2.06.94-2.06 2.06-.94-2.06-.94-.94-2.06-.94 2.06-2.06.94z\"/><path d=\"M17.41 7.96l-1.37-1.37c-.4-.4-.92-.59-1.43-.59-.52 0-1.04.2-1.43.59L10.3 9.45l-7.72 7.72c-.78.78-.78 2.05 0 2.83L4 21.41c.39.39.9.59 1.41.59.51 0 1.02-.2 1.41-.59l7.78-7.78 2.81-2.81c.8-.78.8-2.07 0-2.86zM5.41 20L4 18.59l7.72-7.72 1.47 1.35L5.41 20z\"/>\n",
              "  </svg>\n",
              "      </button>\n",
              "      \n",
              "  <style>\n",
              "    .colab-df-container {\n",
              "      display:flex;\n",
              "      flex-wrap:wrap;\n",
              "      gap: 12px;\n",
              "    }\n",
              "\n",
              "    .colab-df-convert {\n",
              "      background-color: #E8F0FE;\n",
              "      border: none;\n",
              "      border-radius: 50%;\n",
              "      cursor: pointer;\n",
              "      display: none;\n",
              "      fill: #1967D2;\n",
              "      height: 32px;\n",
              "      padding: 0 0 0 0;\n",
              "      width: 32px;\n",
              "    }\n",
              "\n",
              "    .colab-df-convert:hover {\n",
              "      background-color: #E2EBFA;\n",
              "      box-shadow: 0px 1px 2px rgba(60, 64, 67, 0.3), 0px 1px 3px 1px rgba(60, 64, 67, 0.15);\n",
              "      fill: #174EA6;\n",
              "    }\n",
              "\n",
              "    [theme=dark] .colab-df-convert {\n",
              "      background-color: #3B4455;\n",
              "      fill: #D2E3FC;\n",
              "    }\n",
              "\n",
              "    [theme=dark] .colab-df-convert:hover {\n",
              "      background-color: #434B5C;\n",
              "      box-shadow: 0px 1px 3px 1px rgba(0, 0, 0, 0.15);\n",
              "      filter: drop-shadow(0px 1px 2px rgba(0, 0, 0, 0.3));\n",
              "      fill: #FFFFFF;\n",
              "    }\n",
              "  </style>\n",
              "\n",
              "      <script>\n",
              "        const buttonEl =\n",
              "          document.querySelector('#df-195d87ed-d0c1-4286-9a11-fa686407bbfe button.colab-df-convert');\n",
              "        buttonEl.style.display =\n",
              "          google.colab.kernel.accessAllowed ? 'block' : 'none';\n",
              "\n",
              "        async function convertToInteractive(key) {\n",
              "          const element = document.querySelector('#df-195d87ed-d0c1-4286-9a11-fa686407bbfe');\n",
              "          const dataTable =\n",
              "            await google.colab.kernel.invokeFunction('convertToInteractive',\n",
              "                                                     [key], {});\n",
              "          if (!dataTable) return;\n",
              "\n",
              "          const docLinkHtml = 'Like what you see? Visit the ' +\n",
              "            '<a target=\"_blank\" href=https://colab.research.google.com/notebooks/data_table.ipynb>data table notebook</a>'\n",
              "            + ' to learn more about interactive tables.';\n",
              "          element.innerHTML = '';\n",
              "          dataTable['output_type'] = 'display_data';\n",
              "          await google.colab.output.renderOutput(dataTable, element);\n",
              "          const docLink = document.createElement('div');\n",
              "          docLink.innerHTML = docLinkHtml;\n",
              "          element.appendChild(docLink);\n",
              "        }\n",
              "      </script>\n",
              "    </div>\n",
              "  </div>\n",
              "  "
            ]
          },
          "metadata": {},
          "execution_count": 21
        }
      ]
    },
    {
      "cell_type": "code",
      "source": [
        "df_completo_copy.shape"
      ],
      "metadata": {
        "colab": {
          "base_uri": "https://localhost:8080/"
        },
        "id": "DkVI9B4L2DDs",
        "outputId": "28638049-5a32-4926-e72f-44d37de1ded7"
      },
      "execution_count": null,
      "outputs": [
        {
          "output_type": "execute_result",
          "data": {
            "text/plain": [
              "(123965, 9)"
            ]
          },
          "metadata": {},
          "execution_count": 22
        }
      ]
    },
    {
      "cell_type": "markdown",
      "source": [
        "Após a execução da Análise de Amplitude InterQuartil é possível observar que **2738** linhas foram removidas do nosso Dataset, eliminando assim possíveis disturbios na solução das perguntas."
      ],
      "metadata": {
        "id": "X16z-6qX2Hl8"
      }
    },
    {
      "cell_type": "code",
      "source": [
        "df_completo_copy.describe()"
      ],
      "metadata": {
        "id": "Owza2Wk73v_7",
        "outputId": "b597cb8b-9626-47f9-d59e-e9a11929355b",
        "colab": {
          "base_uri": "https://localhost:8080/",
          "height": 300
        }
      },
      "execution_count": null,
      "outputs": [
        {
          "output_type": "execute_result",
          "data": {
            "text/plain": [
              "       Valor_de_Venda\n",
              "count   123965.000000\n",
              "mean         5.347514\n",
              "std          0.828911\n",
              "min          3.370000\n",
              "25%          4.880000\n",
              "50%          5.490000\n",
              "75%          5.890000\n",
              "max          7.400000"
            ],
            "text/html": [
              "\n",
              "  <div id=\"df-4f9ae481-f6a4-4a5a-a353-76f7c680e8c8\">\n",
              "    <div class=\"colab-df-container\">\n",
              "      <div>\n",
              "<style scoped>\n",
              "    .dataframe tbody tr th:only-of-type {\n",
              "        vertical-align: middle;\n",
              "    }\n",
              "\n",
              "    .dataframe tbody tr th {\n",
              "        vertical-align: top;\n",
              "    }\n",
              "\n",
              "    .dataframe thead th {\n",
              "        text-align: right;\n",
              "    }\n",
              "</style>\n",
              "<table border=\"1\" class=\"dataframe\">\n",
              "  <thead>\n",
              "    <tr style=\"text-align: right;\">\n",
              "      <th></th>\n",
              "      <th>Valor_de_Venda</th>\n",
              "    </tr>\n",
              "  </thead>\n",
              "  <tbody>\n",
              "    <tr>\n",
              "      <th>count</th>\n",
              "      <td>123965.000000</td>\n",
              "    </tr>\n",
              "    <tr>\n",
              "      <th>mean</th>\n",
              "      <td>5.347514</td>\n",
              "    </tr>\n",
              "    <tr>\n",
              "      <th>std</th>\n",
              "      <td>0.828911</td>\n",
              "    </tr>\n",
              "    <tr>\n",
              "      <th>min</th>\n",
              "      <td>3.370000</td>\n",
              "    </tr>\n",
              "    <tr>\n",
              "      <th>25%</th>\n",
              "      <td>4.880000</td>\n",
              "    </tr>\n",
              "    <tr>\n",
              "      <th>50%</th>\n",
              "      <td>5.490000</td>\n",
              "    </tr>\n",
              "    <tr>\n",
              "      <th>75%</th>\n",
              "      <td>5.890000</td>\n",
              "    </tr>\n",
              "    <tr>\n",
              "      <th>max</th>\n",
              "      <td>7.400000</td>\n",
              "    </tr>\n",
              "  </tbody>\n",
              "</table>\n",
              "</div>\n",
              "      <button class=\"colab-df-convert\" onclick=\"convertToInteractive('df-4f9ae481-f6a4-4a5a-a353-76f7c680e8c8')\"\n",
              "              title=\"Convert this dataframe to an interactive table.\"\n",
              "              style=\"display:none;\">\n",
              "        \n",
              "  <svg xmlns=\"http://www.w3.org/2000/svg\" height=\"24px\"viewBox=\"0 0 24 24\"\n",
              "       width=\"24px\">\n",
              "    <path d=\"M0 0h24v24H0V0z\" fill=\"none\"/>\n",
              "    <path d=\"M18.56 5.44l.94 2.06.94-2.06 2.06-.94-2.06-.94-.94-2.06-.94 2.06-2.06.94zm-11 1L8.5 8.5l.94-2.06 2.06-.94-2.06-.94L8.5 2.5l-.94 2.06-2.06.94zm10 10l.94 2.06.94-2.06 2.06-.94-2.06-.94-.94-2.06-.94 2.06-2.06.94z\"/><path d=\"M17.41 7.96l-1.37-1.37c-.4-.4-.92-.59-1.43-.59-.52 0-1.04.2-1.43.59L10.3 9.45l-7.72 7.72c-.78.78-.78 2.05 0 2.83L4 21.41c.39.39.9.59 1.41.59.51 0 1.02-.2 1.41-.59l7.78-7.78 2.81-2.81c.8-.78.8-2.07 0-2.86zM5.41 20L4 18.59l7.72-7.72 1.47 1.35L5.41 20z\"/>\n",
              "  </svg>\n",
              "      </button>\n",
              "      \n",
              "  <style>\n",
              "    .colab-df-container {\n",
              "      display:flex;\n",
              "      flex-wrap:wrap;\n",
              "      gap: 12px;\n",
              "    }\n",
              "\n",
              "    .colab-df-convert {\n",
              "      background-color: #E8F0FE;\n",
              "      border: none;\n",
              "      border-radius: 50%;\n",
              "      cursor: pointer;\n",
              "      display: none;\n",
              "      fill: #1967D2;\n",
              "      height: 32px;\n",
              "      padding: 0 0 0 0;\n",
              "      width: 32px;\n",
              "    }\n",
              "\n",
              "    .colab-df-convert:hover {\n",
              "      background-color: #E2EBFA;\n",
              "      box-shadow: 0px 1px 2px rgba(60, 64, 67, 0.3), 0px 1px 3px 1px rgba(60, 64, 67, 0.15);\n",
              "      fill: #174EA6;\n",
              "    }\n",
              "\n",
              "    [theme=dark] .colab-df-convert {\n",
              "      background-color: #3B4455;\n",
              "      fill: #D2E3FC;\n",
              "    }\n",
              "\n",
              "    [theme=dark] .colab-df-convert:hover {\n",
              "      background-color: #434B5C;\n",
              "      box-shadow: 0px 1px 3px 1px rgba(0, 0, 0, 0.15);\n",
              "      filter: drop-shadow(0px 1px 2px rgba(0, 0, 0, 0.3));\n",
              "      fill: #FFFFFF;\n",
              "    }\n",
              "  </style>\n",
              "\n",
              "      <script>\n",
              "        const buttonEl =\n",
              "          document.querySelector('#df-4f9ae481-f6a4-4a5a-a353-76f7c680e8c8 button.colab-df-convert');\n",
              "        buttonEl.style.display =\n",
              "          google.colab.kernel.accessAllowed ? 'block' : 'none';\n",
              "\n",
              "        async function convertToInteractive(key) {\n",
              "          const element = document.querySelector('#df-4f9ae481-f6a4-4a5a-a353-76f7c680e8c8');\n",
              "          const dataTable =\n",
              "            await google.colab.kernel.invokeFunction('convertToInteractive',\n",
              "                                                     [key], {});\n",
              "          if (!dataTable) return;\n",
              "\n",
              "          const docLinkHtml = 'Like what you see? Visit the ' +\n",
              "            '<a target=\"_blank\" href=https://colab.research.google.com/notebooks/data_table.ipynb>data table notebook</a>'\n",
              "            + ' to learn more about interactive tables.';\n",
              "          element.innerHTML = '';\n",
              "          dataTable['output_type'] = 'display_data';\n",
              "          await google.colab.output.renderOutput(dataTable, element);\n",
              "          const docLink = document.createElement('div');\n",
              "          docLink.innerHTML = docLinkHtml;\n",
              "          element.appendChild(docLink);\n",
              "        }\n",
              "      </script>\n",
              "    </div>\n",
              "  </div>\n",
              "  "
            ]
          },
          "metadata": {},
          "execution_count": 23
        }
      ]
    },
    {
      "cell_type": "markdown",
      "source": [
        "##### **3.4 - Resultado final da análise de outliers**"
      ],
      "metadata": {
        "id": "18JCnhSy4F2l"
      }
    },
    {
      "cell_type": "markdown",
      "source": [
        "Comparando o dataset original com o dataset sem a presença de outliers é possível concluir que:\n",
        "* Foram removidas **2738** linhas. O que representa apenas **2.16%** da quantidade total de linhas.\n",
        "* A média teve uma mudança ínfima. Indo de **5.354** para **5.347** (R$/L)\n",
        "* Os valores do Primeiro e Terceiro Quartil não tiveram alterações.\n",
        "* O desvio Padrão praticamente não se alterou. No Dataset original seu valor é de **0.860**, e no dataset sem outliers o seu valor é de **0.828**. Variação de **3.72%** apenas, confirmando que a dispersão em torno da média pouco se alterou.\n",
        "\n",
        "**Baseado no resultado da análise acima, decidiu-se manter os outliers dentro do dataset, visto que pouco impactam nas variáveis que serão utilizadas na resolução das perguntas.**"
      ],
      "metadata": {
        "id": "ggb3ZAiS4Mng"
      }
    },
    {
      "cell_type": "markdown",
      "source": [
        "##### **4.1. Análise Exploratória de Dados - Problemas Investigados no Projeto de DS**\n",
        "\n",
        "* 1. Como se comportaram o preço dos combustíveis durante os dois meses citados? Os valores do etanol e\n",
        "da gasolina tiveram uma de queda ou diminuição?\n",
        "* 2. Qual o preço médio da gasolina e do etanol nesses dois meses?\n",
        "* 3. Quais os 5 estados com o preço médio da gasolina e do etanol mais caros?\n",
        "* 4. Qual o preço médio da gasolina e do etanol por estado?\n",
        "* 5. Qual o município que possui o menor preço para a gasolina e para o etanol?\n",
        "* 6. Qual o município que possui o maior preço para a gasolina e para o etanol?\n",
        "* 7. Qual a região que possui o maior valor médio da gasolina?\n",
        "* 8. Qual a região que possui o menor valor médio do etanol?\n",
        "* 9. Há alguma correlação entre o valor do combustível (gasolina e etanol) e a região onde ele é vendido?\n",
        "* 10. Há alguma correlação entre o valor do combustível (gasolina e etanol) e a bandeira que vende ele?"
      ],
      "metadata": {
        "id": "ygqgHygIlcBE"
      }
    },
    {
      "cell_type": "markdown",
      "source": [
        "*1*. **Como se comportaram o preço dos combustíveis durante os dois meses citados? Os valores do etanol e da gasolina tiveram uma de queda ou diminuição?**"
      ],
      "metadata": {
        "id": "MZ_qTtJH4J8h"
      }
    },
    {
      "cell_type": "code",
      "source": [
        "df_comportamento = df_completo\n",
        "df_comportamento.groupby(['Data da Coleta'])['Valor_de_Venda',].agg(['max','min']).plot(kind='bar', figsize=(30,10))"
      ],
      "metadata": {
        "id": "lenSs_xX4UaR",
        "outputId": "54d0b6de-094b-451f-97ad-75adc9bff358",
        "colab": {
          "base_uri": "https://localhost:8080/",
          "height": 563
        }
      },
      "execution_count": null,
      "outputs": [
        {
          "output_type": "execute_result",
          "data": {
            "text/plain": [
              "<matplotlib.axes._subplots.AxesSubplot at 0x7f0c5496e610>"
            ]
          },
          "metadata": {},
          "execution_count": 24
        },
        {
          "output_type": "display_data",
          "data": {
            "text/plain": [
              "<Figure size 2160x720 with 1 Axes>"
            ],
            "image/png": "[encoded data removed]"
          },
          "metadata": {
            "needs_background": "light"
          }
        }
      ]
    },
    {
      "cell_type": "markdown",
      "source": [
        "*1.1*. **Os valores do etanol e da gasolina tiveram uma de queda ou diminuição?**\n",
        "Tivemos uma diminuição nos preços dos combustíveis.\n",
        "\n",
        "\n"
      ],
      "metadata": {
        "id": "f1ZdcpS43475"
      }
    },
    {
      "cell_type": "code",
      "source": [
        "df_comportamento.groupby(['Data da Coleta', 'Produto'])['Valor_de_Venda',].agg(['max','min'])"
      ],
      "metadata": {
        "id": "hDQotIEt34i6",
        "outputId": "64bf741c-545e-4b59-9b36-281c14af6246",
        "colab": {
          "base_uri": "https://localhost:8080/",
          "height": 486
        }
      },
      "execution_count": null,
      "outputs": [
        {
          "output_type": "execute_result",
          "data": {
            "text/plain": [
              "                                  Valor_de_Venda      \n",
              "                                             max   min\n",
              "Data da Coleta Produto                                \n",
              "01/07/2022     ETANOL                       7.65  4.09\n",
              "               GASOLINA                     7.77  5.99\n",
              "               GASOLINA ADITIVADA           7.95  6.04\n",
              "01/08/2022     ETANOL                       7.19  3.47\n",
              "               GASOLINA                     7.39  4.88\n",
              "...                                          ...   ...\n",
              "30/08/2022     GASOLINA                     6.99  4.45\n",
              "               GASOLINA ADITIVADA           7.49  4.47\n",
              "31/08/2022     ETANOL                       6.96  2.89\n",
              "               GASOLINA                     7.00  4.19\n",
              "               GASOLINA ADITIVADA           8.82  4.29\n",
              "\n",
              "[132 rows x 2 columns]"
            ],
            "text/html": [
              "\n",
              "  <div id=\"df-b3f78089-ac6a-4add-b041-36e80c76bc1d\">\n",
              "    <div class=\"colab-df-container\">\n",
              "      <div>\n",
              "<style scoped>\n",
              "    .dataframe tbody tr th:only-of-type {\n",
              "        vertical-align: middle;\n",
              "    }\n",
              "\n",
              "    .dataframe tbody tr th {\n",
              "        vertical-align: top;\n",
              "    }\n",
              "\n",
              "    .dataframe thead tr th {\n",
              "        text-align: left;\n",
              "    }\n",
              "\n",
              "    .dataframe thead tr:last-of-type th {\n",
              "        text-align: right;\n",
              "    }\n",
              "</style>\n",
              "<table border=\"1\" class=\"dataframe\">\n",
              "  <thead>\n",
              "    <tr>\n",
              "      <th></th>\n",
              "      <th></th>\n",
              "      <th colspan=\"2\" halign=\"left\">Valor_de_Venda</th>\n",
              "    </tr>\n",
              "    <tr>\n",
              "      <th></th>\n",
              "      <th></th>\n",
              "      <th>max</th>\n",
              "      <th>min</th>\n",
              "    </tr>\n",
              "    <tr>\n",
              "      <th>Data da Coleta</th>\n",
              "      <th>Produto</th>\n",
              "      <th></th>\n",
              "      <th></th>\n",
              "    </tr>\n",
              "  </thead>\n",
              "  <tbody>\n",
              "    <tr>\n",
              "      <th rowspan=\"3\" valign=\"top\">01/07/2022</th>\n",
              "      <th>ETANOL</th>\n",
              "      <td>7.65</td>\n",
              "      <td>4.09</td>\n",
              "    </tr>\n",
              "    <tr>\n",
              "      <th>GASOLINA</th>\n",
              "      <td>7.77</td>\n",
              "      <td>5.99</td>\n",
              "    </tr>\n",
              "    <tr>\n",
              "      <th>GASOLINA ADITIVADA</th>\n",
              "      <td>7.95</td>\n",
              "      <td>6.04</td>\n",
              "    </tr>\n",
              "    <tr>\n",
              "      <th rowspan=\"2\" valign=\"top\">01/08/2022</th>\n",
              "      <th>ETANOL</th>\n",
              "      <td>7.19</td>\n",
              "      <td>3.47</td>\n",
              "    </tr>\n",
              "    <tr>\n",
              "      <th>GASOLINA</th>\n",
              "      <td>7.39</td>\n",
              "      <td>4.88</td>\n",
              "    </tr>\n",
              "    <tr>\n",
              "      <th>...</th>\n",
              "      <th>...</th>\n",
              "      <td>...</td>\n",
              "      <td>...</td>\n",
              "    </tr>\n",
              "    <tr>\n",
              "      <th rowspan=\"2\" valign=\"top\">30/08/2022</th>\n",
              "      <th>GASOLINA</th>\n",
              "      <td>6.99</td>\n",
              "      <td>4.45</td>\n",
              "    </tr>\n",
              "    <tr>\n",
              "      <th>GASOLINA ADITIVADA</th>\n",
              "      <td>7.49</td>\n",
              "      <td>4.47</td>\n",
              "    </tr>\n",
              "    <tr>\n",
              "      <th rowspan=\"3\" valign=\"top\">31/08/2022</th>\n",
              "      <th>ETANOL</th>\n",
              "      <td>6.96</td>\n",
              "      <td>2.89</td>\n",
              "    </tr>\n",
              "    <tr>\n",
              "      <th>GASOLINA</th>\n",
              "      <td>7.00</td>\n",
              "      <td>4.19</td>\n",
              "    </tr>\n",
              "    <tr>\n",
              "      <th>GASOLINA ADITIVADA</th>\n",
              "      <td>8.82</td>\n",
              "      <td>4.29</td>\n",
              "    </tr>\n",
              "  </tbody>\n",
              "</table>\n",
              "<p>132 rows × 2 columns</p>\n",
              "</div>\n",
              "      <button class=\"colab-df-convert\" onclick=\"convertToInteractive('df-b3f78089-ac6a-4add-b041-36e80c76bc1d')\"\n",
              "              title=\"Convert this dataframe to an interactive table.\"\n",
              "              style=\"display:none;\">\n",
              "        \n",
              "  <svg xmlns=\"http://www.w3.org/2000/svg\" height=\"24px\"viewBox=\"0 0 24 24\"\n",
              "       width=\"24px\">\n",
              "    <path d=\"M0 0h24v24H0V0z\" fill=\"none\"/>\n",
              "    <path d=\"M18.56 5.44l.94 2.06.94-2.06 2.06-.94-2.06-.94-.94-2.06-.94 2.06-2.06.94zm-11 1L8.5 8.5l.94-2.06 2.06-.94-2.06-.94L8.5 2.5l-.94 2.06-2.06.94zm10 10l.94 2.06.94-2.06 2.06-.94-2.06-.94-.94-2.06-.94 2.06-2.06.94z\"/><path d=\"M17.41 7.96l-1.37-1.37c-.4-.4-.92-.59-1.43-.59-.52 0-1.04.2-1.43.59L10.3 9.45l-7.72 7.72c-.78.78-.78 2.05 0 2.83L4 21.41c.39.39.9.59 1.41.59.51 0 1.02-.2 1.41-.59l7.78-7.78 2.81-2.81c.8-.78.8-2.07 0-2.86zM5.41 20L4 18.59l7.72-7.72 1.47 1.35L5.41 20z\"/>\n",
              "  </svg>\n",
              "      </button>\n",
              "      \n",
              "  <style>\n",
              "    .colab-df-container {\n",
              "      display:flex;\n",
              "      flex-wrap:wrap;\n",
              "      gap: 12px;\n",
              "    }\n",
              "\n",
              "    .colab-df-convert {\n",
              "      background-color: #E8F0FE;\n",
              "      border: none;\n",
              "      border-radius: 50%;\n",
              "      cursor: pointer;\n",
              "      display: none;\n",
              "      fill: #1967D2;\n",
              "      height: 32px;\n",
              "      padding: 0 0 0 0;\n",
              "      width: 32px;\n",
              "    }\n",
              "\n",
              "    .colab-df-convert:hover {\n",
              "      background-color: #E2EBFA;\n",
              "      box-shadow: 0px 1px 2px rgba(60, 64, 67, 0.3), 0px 1px 3px 1px rgba(60, 64, 67, 0.15);\n",
              "      fill: #174EA6;\n",
              "    }\n",
              "\n",
              "    [theme=dark] .colab-df-convert {\n",
              "      background-color: #3B4455;\n",
              "      fill: #D2E3FC;\n",
              "    }\n",
              "\n",
              "    [theme=dark] .colab-df-convert:hover {\n",
              "      background-color: #434B5C;\n",
              "      box-shadow: 0px 1px 3px 1px rgba(0, 0, 0, 0.15);\n",
              "      filter: drop-shadow(0px 1px 2px rgba(0, 0, 0, 0.3));\n",
              "      fill: #FFFFFF;\n",
              "    }\n",
              "  </style>\n",
              "\n",
              "      <script>\n",
              "        const buttonEl =\n",
              "          document.querySelector('#df-b3f78089-ac6a-4add-b041-36e80c76bc1d button.colab-df-convert');\n",
              "        buttonEl.style.display =\n",
              "          google.colab.kernel.accessAllowed ? 'block' : 'none';\n",
              "\n",
              "        async function convertToInteractive(key) {\n",
              "          const element = document.querySelector('#df-b3f78089-ac6a-4add-b041-36e80c76bc1d');\n",
              "          const dataTable =\n",
              "            await google.colab.kernel.invokeFunction('convertToInteractive',\n",
              "                                                     [key], {});\n",
              "          if (!dataTable) return;\n",
              "\n",
              "          const docLinkHtml = 'Like what you see? Visit the ' +\n",
              "            '<a target=\"_blank\" href=https://colab.research.google.com/notebooks/data_table.ipynb>data table notebook</a>'\n",
              "            + ' to learn more about interactive tables.';\n",
              "          element.innerHTML = '';\n",
              "          dataTable['output_type'] = 'display_data';\n",
              "          await google.colab.output.renderOutput(dataTable, element);\n",
              "          const docLink = document.createElement('div');\n",
              "          docLink.innerHTML = docLinkHtml;\n",
              "          element.appendChild(docLink);\n",
              "        }\n",
              "      </script>\n",
              "    </div>\n",
              "  </div>\n",
              "  "
            ]
          },
          "metadata": {},
          "execution_count": 25
        }
      ]
    },
    {
      "cell_type": "markdown",
      "source": [
        "*2*. **Qual o preço médio da gasolina e do etanol nesses dois meses?**"
      ],
      "metadata": {
        "id": "nmJUEo5m4m14"
      }
    },
    {
      "cell_type": "code",
      "source": [
        "df_media = df_completo\n",
        "df_media.groupby(['Produto'])['Valor_de_Venda'].agg(['median','mean'])"
      ],
      "metadata": {
        "id": "LY98WB714l0p",
        "outputId": "c7571f74-794d-44c9-9422-f61e506c4c97",
        "colab": {
          "base_uri": "https://localhost:8080/",
          "height": 175
        }
      },
      "execution_count": null,
      "outputs": [
        {
          "output_type": "execute_result",
          "data": {
            "text/plain": [
              "                    median      mean\n",
              "Produto                             \n",
              "ETANOL                4.38  4.504968\n",
              "GASOLINA              5.67  5.711296\n",
              "GASOLINA ADITIVADA    5.84  5.887914"
            ],
            "text/html": [
              "\n",
              "  <div id=\"df-8dabffa5-aa09-4c06-9b1f-5a4569994651\">\n",
              "    <div class=\"colab-df-container\">\n",
              "      <div>\n",
              "<style scoped>\n",
              "    .dataframe tbody tr th:only-of-type {\n",
              "        vertical-align: middle;\n",
              "    }\n",
              "\n",
              "    .dataframe tbody tr th {\n",
              "        vertical-align: top;\n",
              "    }\n",
              "\n",
              "    .dataframe thead th {\n",
              "        text-align: right;\n",
              "    }\n",
              "</style>\n",
              "<table border=\"1\" class=\"dataframe\">\n",
              "  <thead>\n",
              "    <tr style=\"text-align: right;\">\n",
              "      <th></th>\n",
              "      <th>median</th>\n",
              "      <th>mean</th>\n",
              "    </tr>\n",
              "    <tr>\n",
              "      <th>Produto</th>\n",
              "      <th></th>\n",
              "      <th></th>\n",
              "    </tr>\n",
              "  </thead>\n",
              "  <tbody>\n",
              "    <tr>\n",
              "      <th>ETANOL</th>\n",
              "      <td>4.38</td>\n",
              "      <td>4.504968</td>\n",
              "    </tr>\n",
              "    <tr>\n",
              "      <th>GASOLINA</th>\n",
              "      <td>5.67</td>\n",
              "      <td>5.711296</td>\n",
              "    </tr>\n",
              "    <tr>\n",
              "      <th>GASOLINA ADITIVADA</th>\n",
              "      <td>5.84</td>\n",
              "      <td>5.887914</td>\n",
              "    </tr>\n",
              "  </tbody>\n",
              "</table>\n",
              "</div>\n",
              "      <button class=\"colab-df-convert\" onclick=\"convertToInteractive('df-8dabffa5-aa09-4c06-9b1f-5a4569994651')\"\n",
              "              title=\"Convert this dataframe to an interactive table.\"\n",
              "              style=\"display:none;\">\n",
              "        \n",
              "  <svg xmlns=\"http://www.w3.org/2000/svg\" height=\"24px\"viewBox=\"0 0 24 24\"\n",
              "       width=\"24px\">\n",
              "    <path d=\"M0 0h24v24H0V0z\" fill=\"none\"/>\n",
              "    <path d=\"M18.56 5.44l.94 2.06.94-2.06 2.06-.94-2.06-.94-.94-2.06-.94 2.06-2.06.94zm-11 1L8.5 8.5l.94-2.06 2.06-.94-2.06-.94L8.5 2.5l-.94 2.06-2.06.94zm10 10l.94 2.06.94-2.06 2.06-.94-2.06-.94-.94-2.06-.94 2.06-2.06.94z\"/><path d=\"M17.41 7.96l-1.37-1.37c-.4-.4-.92-.59-1.43-.59-.52 0-1.04.2-1.43.59L10.3 9.45l-7.72 7.72c-.78.78-.78 2.05 0 2.83L4 21.41c.39.39.9.59 1.41.59.51 0 1.02-.2 1.41-.59l7.78-7.78 2.81-2.81c.8-.78.8-2.07 0-2.86zM5.41 20L4 18.59l7.72-7.72 1.47 1.35L5.41 20z\"/>\n",
              "  </svg>\n",
              "      </button>\n",
              "      \n",
              "  <style>\n",
              "    .colab-df-container {\n",
              "      display:flex;\n",
              "      flex-wrap:wrap;\n",
              "      gap: 12px;\n",
              "    }\n",
              "\n",
              "    .colab-df-convert {\n",
              "      background-color: #E8F0FE;\n",
              "      border: none;\n",
              "      border-radius: 50%;\n",
              "      cursor: pointer;\n",
              "      display: none;\n",
              "      fill: #1967D2;\n",
              "      height: 32px;\n",
              "      padding: 0 0 0 0;\n",
              "      width: 32px;\n",
              "    }\n",
              "\n",
              "    .colab-df-convert:hover {\n",
              "      background-color: #E2EBFA;\n",
              "      box-shadow: 0px 1px 2px rgba(60, 64, 67, 0.3), 0px 1px 3px 1px rgba(60, 64, 67, 0.15);\n",
              "      fill: #174EA6;\n",
              "    }\n",
              "\n",
              "    [theme=dark] .colab-df-convert {\n",
              "      background-color: #3B4455;\n",
              "      fill: #D2E3FC;\n",
              "    }\n",
              "\n",
              "    [theme=dark] .colab-df-convert:hover {\n",
              "      background-color: #434B5C;\n",
              "      box-shadow: 0px 1px 3px 1px rgba(0, 0, 0, 0.15);\n",
              "      filter: drop-shadow(0px 1px 2px rgba(0, 0, 0, 0.3));\n",
              "      fill: #FFFFFF;\n",
              "    }\n",
              "  </style>\n",
              "\n",
              "      <script>\n",
              "        const buttonEl =\n",
              "          document.querySelector('#df-8dabffa5-aa09-4c06-9b1f-5a4569994651 button.colab-df-convert');\n",
              "        buttonEl.style.display =\n",
              "          google.colab.kernel.accessAllowed ? 'block' : 'none';\n",
              "\n",
              "        async function convertToInteractive(key) {\n",
              "          const element = document.querySelector('#df-8dabffa5-aa09-4c06-9b1f-5a4569994651');\n",
              "          const dataTable =\n",
              "            await google.colab.kernel.invokeFunction('convertToInteractive',\n",
              "                                                     [key], {});\n",
              "          if (!dataTable) return;\n",
              "\n",
              "          const docLinkHtml = 'Like what you see? Visit the ' +\n",
              "            '<a target=\"_blank\" href=https://colab.research.google.com/notebooks/data_table.ipynb>data table notebook</a>'\n",
              "            + ' to learn more about interactive tables.';\n",
              "          element.innerHTML = '';\n",
              "          dataTable['output_type'] = 'display_data';\n",
              "          await google.colab.output.renderOutput(dataTable, element);\n",
              "          const docLink = document.createElement('div');\n",
              "          docLink.innerHTML = docLinkHtml;\n",
              "          element.appendChild(docLink);\n",
              "        }\n",
              "      </script>\n",
              "    </div>\n",
              "  </div>\n",
              "  "
            ]
          },
          "metadata": {},
          "execution_count": 26
        }
      ]
    },
    {
      "cell_type": "code",
      "source": [
        "df_combustivel = df_completo\n",
        "df_combustivel.groupby(['Produto'])['Valor_de_Venda'].agg(['mean']).plot(kind='bar', figsize=(20,5))"
      ],
      "metadata": {
        "id": "4m1Is5yA41qM",
        "outputId": "2cab2327-6349-4032-e413-df950142f967",
        "colab": {
          "base_uri": "https://localhost:8080/",
          "height": 449
        }
      },
      "execution_count": null,
      "outputs": [
        {
          "output_type": "execute_result",
          "data": {
            "text/plain": [
              "<matplotlib.axes._subplots.AxesSubplot at 0x7f0c55018710>"
            ]
          },
          "metadata": {},
          "execution_count": 27
        },
        {
          "output_type": "display_data",
          "data": {
            "text/plain": [
              "<Figure size 1440x360 with 1 Axes>"
            ],
            "image/png": "[encoded data removed]"
          },
          "metadata": {
            "needs_background": "light"
          }
        }
      ]
    },
    {
      "cell_type": "markdown",
      "source": [
        "* Média da gasolina e do etanol nos meses de Julho e Agosto de 2022."
      ],
      "metadata": {
        "id": "dqotE4z_4xNA"
      }
    },
    {
      "cell_type": "markdown",
      "source": [
        "*3*. **Quais os 5 estados com o preço médio da gasolina e do etanol mais caros?**"
      ],
      "metadata": {
        "id": "YEPgUV0v8rMK"
      }
    },
    {
      "cell_type": "code",
      "source": [
        "df_completo.query('Produto== \"GASOLINA\"').groupby(['Estado','Produto'])['Valor_de_Venda'].agg(['mean']).head(5).plot(kind='bar', figsize=(10,5));"
      ],
      "metadata": {
        "colab": {
          "base_uri": "https://localhost:8080/",
          "height": 405
        },
        "id": "vKtJqeKz2-FR",
        "outputId": "3bca1b41-0d9b-43fe-a313-93298e7cc208"
      },
      "execution_count": null,
      "outputs": [
        {
          "output_type": "display_data",
          "data": {
            "text/plain": [
              "<Figure size 720x360 with 1 Axes>"
            ],
            "image/png": "[encoded data removed]"
          },
          "metadata": {
            "needs_background": "light"
          }
        }
      ]
    },
    {
      "cell_type": "code",
      "source": [
        "df_completo.query('Produto== \"GASOLINA ADITIVADA\"').groupby(['Estado','Produto'])['Valor_de_Venda'].agg(['mean']).head(5).plot(kind='bar', figsize=(10,5));"
      ],
      "metadata": {
        "colab": {
          "base_uri": "https://localhost:8080/",
          "height": 462
        },
        "id": "lx85ihWFNbdy",
        "outputId": "1a137f88-6a94-45b3-b381-4bbd94c07a27"
      },
      "execution_count": null,
      "outputs": [
        {
          "output_type": "display_data",
          "data": {
            "text/plain": [
              "<Figure size 720x360 with 1 Axes>"
            ],
            "image/png": "[encoded data removed]"
          },
          "metadata": {
            "needs_background": "light"
          }
        }
      ]
    },
    {
      "cell_type": "code",
      "source": [
        "df_completo.query('Produto== \"ETANOL\"').groupby(['Estado','Produto'])['Valor_de_Venda'].agg(['mean']).head(5).plot(kind='bar', figsize=(10,5));"
      ],
      "metadata": {
        "colab": {
          "base_uri": "https://localhost:8080/",
          "height": 392
        },
        "id": "iTi_oZoFNbsh",
        "outputId": "ec6b3f00-a270-4a6f-8bc6-790774fa2c01"
      },
      "execution_count": null,
      "outputs": [
        {
          "output_type": "display_data",
          "data": {
            "text/plain": [
              "<Figure size 720x360 with 1 Axes>"
            ],
            "image/png": "[encoded data removed]"
          },
          "metadata": {
            "needs_background": "light"
          }
        }
      ]
    },
    {
      "cell_type": "markdown",
      "source": [
        "*4*. **Qual o preço médio da gasolina e do etanol por estado?**"
      ],
      "metadata": {
        "id": "aehEnQ8e2okp"
      }
    },
    {
      "cell_type": "code",
      "source": [
        "# valor de venda máximo, minimo, medio e mediana de combustível por estado\n",
        "df_completo_comb = df_completo\n",
        "df_completo_comb.groupby(['Regiao','Produto'])['Valor_de_Venda'].agg(['mean']).plot(kind='bar', figsize=(20,5));"
      ],
      "metadata": {
        "colab": {
          "base_uri": "https://localhost:8080/",
          "height": 461
        },
        "id": "SUGvnt9y2-qg",
        "outputId": "963265c6-8ba7-4049-d141-88136deeed97"
      },
      "execution_count": null,
      "outputs": [
        {
          "output_type": "display_data",
          "data": {
            "text/plain": [
              "<Figure size 1440x360 with 1 Axes>"
            ],
            "image/png": "[encoded data removed]"
          },
          "metadata": {
            "needs_background": "light"
          }
        }
      ]
    },
    {
      "cell_type": "markdown",
      "source": [
        "*5*. **Qual o município que possui o menor preço para a gasolina e para o etanol?**"
      ],
      "metadata": {
        "id": "V8k79TN_7ee9"
      }
    },
    {
      "cell_type": "code",
      "source": [
        "#5. Qual municipio possui o menor preço para a gasolina e para o etanol?\n",
        "\n",
        "df_produto_municipio = df_completo.groupby(['Produto', 'Municipio'])\n",
        "df_minima_municipio = df_produto_municipio[['Valor_de_Venda']].min()\n",
        "\n",
        "#Etanol\n",
        "\n",
        "df_min_municipio_etanol = df_minima_municipio.loc['ETANOL'].sort_values(by = 'Valor_de_Venda')\n",
        "df_min_municipio_etanol = df_min_municipio_etanol.reset_index().head(1)\n",
        "df_min_municipio_etanol['Produto'] = 'Etanol'\n",
        "\n",
        "#Gasolina\n",
        "\n",
        "df_min_municipio_gasolina = df_minima_municipio.loc['GASOLINA'].sort_values(by = 'Valor_de_Venda')\n",
        "df_min_municipio_gasolina = df_min_municipio_gasolina.reset_index().head(1)\n",
        "df_min_municipio_gasolina['Produto'] = 'Gasolina'\n",
        "\n",
        "#Gasolina Aditivada\n",
        "\n",
        "df_min_municipio_gasolina_adt = df_minima_municipio.loc['GASOLINA ADITIVADA'].sort_values(by = 'Valor_de_Venda')\n",
        "df_min_municipio_gasolina_adt = df_min_municipio_gasolina_adt.reset_index().head(1)\n",
        "df_min_municipio_gasolina_adt['Produto'] = 'Gasolina Aditivada'\n",
        "\n",
        "df_minimos_municipio = pd.concat([df_min_municipio_etanol,df_min_municipio_gasolina,df_min_municipio_gasolina_adt])\n",
        "\n",
        "#criando tabela final (minimas)com resultados\n",
        "minimas_por_municipio = df_minimos_municipio[['Produto','Municipio','Valor_de_Venda']]\n",
        "minimas_por_municipio.style.format({'Valor_de_Venda':'R$ {:.3F}'})"
      ],
      "metadata": {
        "colab": {
          "base_uri": "https://localhost:8080/",
          "height": 143
        },
        "id": "jzYzFAN97cpL",
        "outputId": "ad1c3c42-13fb-434b-c2ea-27c6035de24e"
      },
      "execution_count": null,
      "outputs": [
        {
          "output_type": "execute_result",
          "data": {
            "text/plain": [
              "<pandas.io.formats.style.Styler at 0x7f0c513f6810>"
            ],
            "text/html": [
              "<style type=\"text/css\">\n",
              "</style>\n",
              "<table id=\"T_46927_\" class=\"dataframe\">\n",
              "  <thead>\n",
              "    <tr>\n",
              "      <th class=\"blank level0\" >&nbsp;</th>\n",
              "      <th class=\"col_heading level0 col0\" >Produto</th>\n",
              "      <th class=\"col_heading level0 col1\" >Municipio</th>\n",
              "      <th class=\"col_heading level0 col2\" >Valor_de_Venda</th>\n",
              "    </tr>\n",
              "  </thead>\n",
              "  <tbody>\n",
              "    <tr>\n",
              "      <th id=\"T_46927_level0_row0\" class=\"row_heading level0 row0\" >0</th>\n",
              "      <td id=\"T_46927_row0_col0\" class=\"data row0 col0\" >Etanol</td>\n",
              "      <td id=\"T_46927_row0_col1\" class=\"data row0 col1\" >PRESIDENTE PRUDENTE</td>\n",
              "      <td id=\"T_46927_row0_col2\" class=\"data row0 col2\" >R$ 2.890</td>\n",
              "    </tr>\n",
              "    <tr>\n",
              "      <th id=\"T_46927_level0_row1\" class=\"row_heading level0 row1\" >0</th>\n",
              "      <td id=\"T_46927_row1_col0\" class=\"data row1 col0\" >Gasolina</td>\n",
              "      <td id=\"T_46927_row1_col1\" class=\"data row1 col1\" >PASSO FUNDO</td>\n",
              "      <td id=\"T_46927_row1_col2\" class=\"data row1 col2\" >R$ 4.130</td>\n",
              "    </tr>\n",
              "    <tr>\n",
              "      <th id=\"T_46927_level0_row2\" class=\"row_heading level0 row2\" >0</th>\n",
              "      <td id=\"T_46927_row2_col0\" class=\"data row2 col0\" >Gasolina Aditivada</td>\n",
              "      <td id=\"T_46927_row2_col1\" class=\"data row2 col1\" >PASSO FUNDO</td>\n",
              "      <td id=\"T_46927_row2_col2\" class=\"data row2 col2\" >R$ 4.130</td>\n",
              "    </tr>\n",
              "  </tbody>\n",
              "</table>\n"
            ]
          },
          "metadata": {},
          "execution_count": 49
        }
      ]
    },
    {
      "cell_type": "markdown",
      "source": [
        "*6*. **Qual o município que possui o maior preço para a gasolina e para o etanol?**"
      ],
      "metadata": {
        "id": "D4-hWEgu7kBN"
      }
    },
    {
      "cell_type": "code",
      "source": [
        "df_maxima_municipio = df_produto_municipio[['Valor_de_Venda']].max()\n",
        "\n",
        "#Etanol\n",
        "\n",
        "df_max_municipio_etanol = df_maxima_municipio.loc['ETANOL'].sort_values(by = 'Valor_de_Venda')\n",
        "df_max_municipio_etanol = df_max_municipio_etanol.reset_index().head(1)\n",
        "df_max_municipio_etanol['Produto'] = 'Etanol'\n",
        "\n",
        "#Gasolina\n",
        "\n",
        "df_max_municipio_gasolina = df_maxima_municipio.loc['GASOLINA'].sort_values(by = 'Valor_de_Venda')\n",
        "df_max_municipio_gasolina = df_max_municipio_gasolina.reset_index().head(1)\n",
        "df_max_municipio_gasolina['Produto'] = 'Gasolina'\n",
        "\n",
        "#Gasolina Aditivada\n",
        "\n",
        "df_max_municipio_gasolina_adt = df_maxima_municipio.loc['GASOLINA ADITIVADA'].sort_values(by = 'Valor_de_Venda')\n",
        "df_max_municipio_gasolina_adt = df_max_municipio_gasolina_adt.reset_index().head(1)\n",
        "df_max_municipio_gasolina_adt['Produto'] = 'Gasolina Aditivada'\n",
        "\n",
        "df_maximas_municipio = pd.concat([df_max_municipio_etanol,df_max_municipio_gasolina,df_max_municipio_gasolina_adt])\n",
        "\n",
        "#criando tabela final (minimas)com resultados\n",
        "maximas_por_municipio = df_maximas_municipio[['Produto','Municipio','Valor_de_Venda']]\n",
        "maximas_por_municipio.style.format({'Valor_de_Venda': 'R$ {:.3F}'})"
      ],
      "metadata": {
        "colab": {
          "base_uri": "https://localhost:8080/",
          "height": 143
        },
        "id": "i-vD7OkS7p9E",
        "outputId": "b776ec9f-c06e-4f07-a218-a04b40be03cc"
      },
      "execution_count": null,
      "outputs": [
        {
          "output_type": "execute_result",
          "data": {
            "text/plain": [
              "<pandas.io.formats.style.Styler at 0x7f0c514b1950>"
            ],
            "text/html": [
              "<style type=\"text/css\">\n",
              "</style>\n",
              "<table id=\"T_3cd8a_\" class=\"dataframe\">\n",
              "  <thead>\n",
              "    <tr>\n",
              "      <th class=\"blank level0\" >&nbsp;</th>\n",
              "      <th class=\"col_heading level0 col0\" >Produto</th>\n",
              "      <th class=\"col_heading level0 col1\" >Municipio</th>\n",
              "      <th class=\"col_heading level0 col2\" >Valor_de_Venda</th>\n",
              "    </tr>\n",
              "  </thead>\n",
              "  <tbody>\n",
              "    <tr>\n",
              "      <th id=\"T_3cd8a_level0_row0\" class=\"row_heading level0 row0\" >0</th>\n",
              "      <td id=\"T_3cd8a_row0_col0\" class=\"data row0 col0\" >Etanol</td>\n",
              "      <td id=\"T_3cd8a_row0_col1\" class=\"data row0 col1\" >GARCA</td>\n",
              "      <td id=\"T_3cd8a_row0_col2\" class=\"data row0 col2\" >R$ 3.990</td>\n",
              "    </tr>\n",
              "    <tr>\n",
              "      <th id=\"T_3cd8a_level0_row1\" class=\"row_heading level0 row1\" >0</th>\n",
              "      <td id=\"T_3cd8a_row1_col0\" class=\"data row1 col0\" >Gasolina</td>\n",
              "      <td id=\"T_3cd8a_row1_col1\" class=\"data row1 col1\" >SANTANA</td>\n",
              "      <td id=\"T_3cd8a_row1_col2\" class=\"data row1 col2\" >R$ 5.590</td>\n",
              "    </tr>\n",
              "    <tr>\n",
              "      <th id=\"T_3cd8a_level0_row2\" class=\"row_heading level0 row2\" >0</th>\n",
              "      <td id=\"T_3cd8a_row2_col0\" class=\"data row2 col0\" >Gasolina Aditivada</td>\n",
              "      <td id=\"T_3cd8a_row2_col1\" class=\"data row2 col1\" >SANTANA</td>\n",
              "      <td id=\"T_3cd8a_row2_col2\" class=\"data row2 col2\" >R$ 5.530</td>\n",
              "    </tr>\n",
              "  </tbody>\n",
              "</table>\n"
            ]
          },
          "metadata": {},
          "execution_count": 48
        }
      ]
    },
    {
      "cell_type": "markdown",
      "source": [
        "*7.* **Qual a região que possui o maior valor médio da gasolina?**"
      ],
      "metadata": {
        "id": "7OtX2uNBl1NY"
      }
    },
    {
      "cell_type": "code",
      "source": [
        "# Media do valor de venda de Gasolina por região ordenado de forma descrescente\n",
        "mean_gasolina = pd.DataFrame (df_completo.query('Produto == \"GASOLINA\"').groupby(['Regiao'])['Valor_de_Venda'].mean())\n",
        "mean_gasolina.sort_values(by = 'Valor_de_Venda', ascending = False).style.format({'Valor_de_Venda':'R$ {:.3F}'})"
      ],
      "metadata": {
        "id": "oEQ00Fddl0xf",
        "colab": {
          "base_uri": "https://localhost:8080/",
          "height": 237
        },
        "outputId": "f3013941-0900-4041-a38f-0eb3e7a7ecd9"
      },
      "execution_count": null,
      "outputs": [
        {
          "output_type": "execute_result",
          "data": {
            "text/plain": [
              "<pandas.io.formats.style.Styler at 0x7f0c555d0210>"
            ],
            "text/html": [
              "<style type=\"text/css\">\n",
              "</style>\n",
              "<table id=\"T_4de43_\" class=\"dataframe\">\n",
              "  <thead>\n",
              "    <tr>\n",
              "      <th class=\"blank level0\" >&nbsp;</th>\n",
              "      <th class=\"col_heading level0 col0\" >Valor_de_Venda</th>\n",
              "    </tr>\n",
              "    <tr>\n",
              "      <th class=\"index_name level0\" >Regiao</th>\n",
              "      <th class=\"blank col0\" >&nbsp;</th>\n",
              "    </tr>\n",
              "  </thead>\n",
              "  <tbody>\n",
              "    <tr>\n",
              "      <th id=\"T_4de43_level0_row0\" class=\"row_heading level0 row0\" >N</th>\n",
              "      <td id=\"T_4de43_row0_col0\" class=\"data row0 col0\" >R$ 5.973</td>\n",
              "    </tr>\n",
              "    <tr>\n",
              "      <th id=\"T_4de43_level0_row1\" class=\"row_heading level0 row1\" >NE</th>\n",
              "      <td id=\"T_4de43_row1_col0\" class=\"data row1 col0\" >R$ 5.955</td>\n",
              "    </tr>\n",
              "    <tr>\n",
              "      <th id=\"T_4de43_level0_row2\" class=\"row_heading level0 row2\" >S</th>\n",
              "      <td id=\"T_4de43_row2_col0\" class=\"data row2 col0\" >R$ 5.642</td>\n",
              "    </tr>\n",
              "    <tr>\n",
              "      <th id=\"T_4de43_level0_row3\" class=\"row_heading level0 row3\" >SE</th>\n",
              "      <td id=\"T_4de43_row3_col0\" class=\"data row3 col0\" >R$ 5.616</td>\n",
              "    </tr>\n",
              "    <tr>\n",
              "      <th id=\"T_4de43_level0_row4\" class=\"row_heading level0 row4\" >CO</th>\n",
              "      <td id=\"T_4de43_row4_col0\" class=\"data row4 col0\" >R$ 5.580</td>\n",
              "    </tr>\n",
              "  </tbody>\n",
              "</table>\n"
            ]
          },
          "metadata": {},
          "execution_count": 34
        }
      ]
    },
    {
      "cell_type": "markdown",
      "source": [
        "Como os valores foram ordenados em forma decrescente, chega-se a conclusão de que a Região do Nordeste possui o maior valor médio de venda e a região do Centro-Oeste possui a menor."
      ],
      "metadata": {
        "id": "kfQxV9qTmZZ_"
      }
    },
    {
      "cell_type": "markdown",
      "source": [
        "*8*. **Qual a região que possui o menor valor médio do etanol?**"
      ],
      "metadata": {
        "id": "ylmc9FWRmdce"
      }
    },
    {
      "cell_type": "code",
      "source": [
        "# Media do valor de venda do etanol por região ordenado de forma crescente\n",
        "mean_etanol = pd.DataFrame (df_completo.query('Produto == \"ETANOL\"'  ).groupby(['Regiao'])['Valor_de_Venda'].mean())\n",
        "grafic_mean_etanol= mean_etanol.sort_values(by ='Valor_de_Venda', ascending = True)\n",
        "grafic_mean_etanol.style.format({'Valor_de_Venda': 'R$ {:.3F}'})"
      ],
      "metadata": {
        "id": "SZvIdavGmit3",
        "colab": {
          "base_uri": "https://localhost:8080/",
          "height": 237
        },
        "outputId": "feecfc25-ef85-469b-eef1-c7b0f24258a5"
      },
      "execution_count": null,
      "outputs": [
        {
          "output_type": "execute_result",
          "data": {
            "text/plain": [
              "<pandas.io.formats.style.Styler at 0x7f0c51413810>"
            ],
            "text/html": [
              "<style type=\"text/css\">\n",
              "</style>\n",
              "<table id=\"T_5c1fa_\" class=\"dataframe\">\n",
              "  <thead>\n",
              "    <tr>\n",
              "      <th class=\"blank level0\" >&nbsp;</th>\n",
              "      <th class=\"col_heading level0 col0\" >Valor_de_Venda</th>\n",
              "    </tr>\n",
              "    <tr>\n",
              "      <th class=\"index_name level0\" >Regiao</th>\n",
              "      <th class=\"blank col0\" >&nbsp;</th>\n",
              "    </tr>\n",
              "  </thead>\n",
              "  <tbody>\n",
              "    <tr>\n",
              "      <th id=\"T_5c1fa_level0_row0\" class=\"row_heading level0 row0\" >CO</th>\n",
              "      <td id=\"T_5c1fa_row0_col0\" class=\"data row0 col0\" >R$ 4.105</td>\n",
              "    </tr>\n",
              "    <tr>\n",
              "      <th id=\"T_5c1fa_level0_row1\" class=\"row_heading level0 row1\" >SE</th>\n",
              "      <td id=\"T_5c1fa_row1_col0\" class=\"data row1 col0\" >R$ 4.150</td>\n",
              "    </tr>\n",
              "    <tr>\n",
              "      <th id=\"T_5c1fa_level0_row2\" class=\"row_heading level0 row2\" >S</th>\n",
              "      <td id=\"T_5c1fa_row2_col0\" class=\"data row2 col0\" >R$ 4.842</td>\n",
              "    </tr>\n",
              "    <tr>\n",
              "      <th id=\"T_5c1fa_level0_row3\" class=\"row_heading level0 row3\" >NE</th>\n",
              "      <td id=\"T_5c1fa_row3_col0\" class=\"data row3 col0\" >R$ 5.245</td>\n",
              "    </tr>\n",
              "    <tr>\n",
              "      <th id=\"T_5c1fa_level0_row4\" class=\"row_heading level0 row4\" >N</th>\n",
              "      <td id=\"T_5c1fa_row4_col0\" class=\"data row4 col0\" >R$ 5.342</td>\n",
              "    </tr>\n",
              "  </tbody>\n",
              "</table>\n"
            ]
          },
          "metadata": {},
          "execution_count": 51
        }
      ]
    },
    {
      "cell_type": "markdown",
      "source": [
        "A região Centro-Oeste possui o menor valor médio do etanol, enquanto a região Nordeste possui o maior."
      ],
      "metadata": {
        "id": "W1UMNi4hnx43"
      }
    },
    {
      "cell_type": "markdown",
      "source": [
        "*8.1*.  **Média dos valores da Gasolina Aditivada por estado:**"
      ],
      "metadata": {
        "id": "jj5Xzk9WnjIe"
      }
    },
    {
      "cell_type": "code",
      "source": [
        "mean_gasolina_adt = pd.DataFrame (df_completo.query('Produto == \"GASOLINA ADITIVADA\"').groupby(['Regiao'])['Valor_de_Venda'].mean())\n",
        "mean_gasolina_adt.sort_values(by = 'Valor_de_Venda', ascending = True).style.format({'Valor_de_Venda':'R$ {:.3F}'})"
      ],
      "metadata": {
        "colab": {
          "base_uri": "https://localhost:8080/",
          "height": 237
        },
        "id": "ImQ4k9w9nVd-",
        "outputId": "a9484a38-18e8-4a57-9b2d-c5110ec91030"
      },
      "execution_count": null,
      "outputs": [
        {
          "output_type": "execute_result",
          "data": {
            "text/plain": [
              "<pandas.io.formats.style.Styler at 0x7f0c553f1710>"
            ],
            "text/html": [
              "<style type=\"text/css\">\n",
              "</style>\n",
              "<table id=\"T_027fd_\" class=\"dataframe\">\n",
              "  <thead>\n",
              "    <tr>\n",
              "      <th class=\"blank level0\" >&nbsp;</th>\n",
              "      <th class=\"col_heading level0 col0\" >Valor_de_Venda</th>\n",
              "    </tr>\n",
              "    <tr>\n",
              "      <th class=\"index_name level0\" >Regiao</th>\n",
              "      <th class=\"blank col0\" >&nbsp;</th>\n",
              "    </tr>\n",
              "  </thead>\n",
              "  <tbody>\n",
              "    <tr>\n",
              "      <th id=\"T_027fd_level0_row0\" class=\"row_heading level0 row0\" >CO</th>\n",
              "      <td id=\"T_027fd_row0_col0\" class=\"data row0 col0\" >R$ 5.720</td>\n",
              "    </tr>\n",
              "    <tr>\n",
              "      <th id=\"T_027fd_level0_row1\" class=\"row_heading level0 row1\" >S</th>\n",
              "      <td id=\"T_027fd_row1_col0\" class=\"data row1 col0\" >R$ 5.778</td>\n",
              "    </tr>\n",
              "    <tr>\n",
              "      <th id=\"T_027fd_level0_row2\" class=\"row_heading level0 row2\" >SE</th>\n",
              "      <td id=\"T_027fd_row2_col0\" class=\"data row2 col0\" >R$ 5.827</td>\n",
              "    </tr>\n",
              "    <tr>\n",
              "      <th id=\"T_027fd_level0_row3\" class=\"row_heading level0 row3\" >N</th>\n",
              "      <td id=\"T_027fd_row3_col0\" class=\"data row3 col0\" >R$ 6.107</td>\n",
              "    </tr>\n",
              "    <tr>\n",
              "      <th id=\"T_027fd_level0_row4\" class=\"row_heading level0 row4\" >NE</th>\n",
              "      <td id=\"T_027fd_row4_col0\" class=\"data row4 col0\" >R$ 6.109</td>\n",
              "    </tr>\n",
              "  </tbody>\n",
              "</table>\n"
            ]
          },
          "metadata": {},
          "execution_count": 36
        }
      ]
    },
    {
      "cell_type": "markdown",
      "source": [
        "Após ser feita a ánalise da média de venda dos 3 biocombustíveis disponíveis, pode-se concluir que o Centro-Oeste é a região com as menores médias tanto da gasolina e gasolina aditivada, quanto do etanol, já Nordeste, possui as médias mais altas. "
      ],
      "metadata": {
        "id": "HSjjpjGin0H5"
      }
    },
    {
      "cell_type": "markdown",
      "source": [
        "*9*. **Há alguma correlação entre o valor do combustível (gasolina e etanol) e a região onde ele é vendido?**"
      ],
      "metadata": {
        "id": "gh6VICZN2z2X"
      }
    },
    {
      "cell_type": "code",
      "source": [
        "# Criação de um dataframe apenas com a região e o valor de venda.\n",
        "df_corr = df_completo[['Regiao','Valor_de_Venda']].copy()\n",
        "\n",
        "df_corr"
      ],
      "metadata": {
        "colab": {
          "base_uri": "https://localhost:8080/",
          "height": 424
        },
        "id": "CRLdMzyWKZOz",
        "outputId": "82150e91-b0c8-4bb8-ea50-12e1fd1595f9"
      },
      "execution_count": null,
      "outputs": [
        {
          "output_type": "execute_result",
          "data": {
            "text/plain": [
              "      Regiao  Valor_de_Venda\n",
              "0         NE            4.79\n",
              "1         NE            5.59\n",
              "2         NE            5.99\n",
              "3         NE            4.99\n",
              "4         NE            5.79\n",
              "...      ...             ...\n",
              "57627     SE            5.38\n",
              "57628      S            5.46\n",
              "57629      S            5.46\n",
              "57630     NE            5.68\n",
              "57631     NE            5.68\n",
              "\n",
              "[126696 rows x 2 columns]"
            ],
            "text/html": [
              "\n",
              "  <div id=\"df-eb762744-ed5b-48ae-94cf-fbc960bd3ca3\">\n",
              "    <div class=\"colab-df-container\">\n",
              "      <div>\n",
              "<style scoped>\n",
              "    .dataframe tbody tr th:only-of-type {\n",
              "        vertical-align: middle;\n",
              "    }\n",
              "\n",
              "    .dataframe tbody tr th {\n",
              "        vertical-align: top;\n",
              "    }\n",
              "\n",
              "    .dataframe thead th {\n",
              "        text-align: right;\n",
              "    }\n",
              "</style>\n",
              "<table border=\"1\" class=\"dataframe\">\n",
              "  <thead>\n",
              "    <tr style=\"text-align: right;\">\n",
              "      <th></th>\n",
              "      <th>Regiao</th>\n",
              "      <th>Valor_de_Venda</th>\n",
              "    </tr>\n",
              "  </thead>\n",
              "  <tbody>\n",
              "    <tr>\n",
              "      <th>0</th>\n",
              "      <td>NE</td>\n",
              "      <td>4.79</td>\n",
              "    </tr>\n",
              "    <tr>\n",
              "      <th>1</th>\n",
              "      <td>NE</td>\n",
              "      <td>5.59</td>\n",
              "    </tr>\n",
              "    <tr>\n",
              "      <th>2</th>\n",
              "      <td>NE</td>\n",
              "      <td>5.99</td>\n",
              "    </tr>\n",
              "    <tr>\n",
              "      <th>3</th>\n",
              "      <td>NE</td>\n",
              "      <td>4.99</td>\n",
              "    </tr>\n",
              "    <tr>\n",
              "      <th>4</th>\n",
              "      <td>NE</td>\n",
              "      <td>5.79</td>\n",
              "    </tr>\n",
              "    <tr>\n",
              "      <th>...</th>\n",
              "      <td>...</td>\n",
              "      <td>...</td>\n",
              "    </tr>\n",
              "    <tr>\n",
              "      <th>57627</th>\n",
              "      <td>SE</td>\n",
              "      <td>5.38</td>\n",
              "    </tr>\n",
              "    <tr>\n",
              "      <th>57628</th>\n",
              "      <td>S</td>\n",
              "      <td>5.46</td>\n",
              "    </tr>\n",
              "    <tr>\n",
              "      <th>57629</th>\n",
              "      <td>S</td>\n",
              "      <td>5.46</td>\n",
              "    </tr>\n",
              "    <tr>\n",
              "      <th>57630</th>\n",
              "      <td>NE</td>\n",
              "      <td>5.68</td>\n",
              "    </tr>\n",
              "    <tr>\n",
              "      <th>57631</th>\n",
              "      <td>NE</td>\n",
              "      <td>5.68</td>\n",
              "    </tr>\n",
              "  </tbody>\n",
              "</table>\n",
              "<p>126696 rows × 2 columns</p>\n",
              "</div>\n",
              "      <button class=\"colab-df-convert\" onclick=\"convertToInteractive('df-eb762744-ed5b-48ae-94cf-fbc960bd3ca3')\"\n",
              "              title=\"Convert this dataframe to an interactive table.\"\n",
              "              style=\"display:none;\">\n",
              "        \n",
              "  <svg xmlns=\"http://www.w3.org/2000/svg\" height=\"24px\"viewBox=\"0 0 24 24\"\n",
              "       width=\"24px\">\n",
              "    <path d=\"M0 0h24v24H0V0z\" fill=\"none\"/>\n",
              "    <path d=\"M18.56 5.44l.94 2.06.94-2.06 2.06-.94-2.06-.94-.94-2.06-.94 2.06-2.06.94zm-11 1L8.5 8.5l.94-2.06 2.06-.94-2.06-.94L8.5 2.5l-.94 2.06-2.06.94zm10 10l.94 2.06.94-2.06 2.06-.94-2.06-.94-.94-2.06-.94 2.06-2.06.94z\"/><path d=\"M17.41 7.96l-1.37-1.37c-.4-.4-.92-.59-1.43-.59-.52 0-1.04.2-1.43.59L10.3 9.45l-7.72 7.72c-.78.78-.78 2.05 0 2.83L4 21.41c.39.39.9.59 1.41.59.51 0 1.02-.2 1.41-.59l7.78-7.78 2.81-2.81c.8-.78.8-2.07 0-2.86zM5.41 20L4 18.59l7.72-7.72 1.47 1.35L5.41 20z\"/>\n",
              "  </svg>\n",
              "      </button>\n",
              "      \n",
              "  <style>\n",
              "    .colab-df-container {\n",
              "      display:flex;\n",
              "      flex-wrap:wrap;\n",
              "      gap: 12px;\n",
              "    }\n",
              "\n",
              "    .colab-df-convert {\n",
              "      background-color: #E8F0FE;\n",
              "      border: none;\n",
              "      border-radius: 50%;\n",
              "      cursor: pointer;\n",
              "      display: none;\n",
              "      fill: #1967D2;\n",
              "      height: 32px;\n",
              "      padding: 0 0 0 0;\n",
              "      width: 32px;\n",
              "    }\n",
              "\n",
              "    .colab-df-convert:hover {\n",
              "      background-color: #E2EBFA;\n",
              "      box-shadow: 0px 1px 2px rgba(60, 64, 67, 0.3), 0px 1px 3px 1px rgba(60, 64, 67, 0.15);\n",
              "      fill: #174EA6;\n",
              "    }\n",
              "\n",
              "    [theme=dark] .colab-df-convert {\n",
              "      background-color: #3B4455;\n",
              "      fill: #D2E3FC;\n",
              "    }\n",
              "\n",
              "    [theme=dark] .colab-df-convert:hover {\n",
              "      background-color: #434B5C;\n",
              "      box-shadow: 0px 1px 3px 1px rgba(0, 0, 0, 0.15);\n",
              "      filter: drop-shadow(0px 1px 2px rgba(0, 0, 0, 0.3));\n",
              "      fill: #FFFFFF;\n",
              "    }\n",
              "  </style>\n",
              "\n",
              "      <script>\n",
              "        const buttonEl =\n",
              "          document.querySelector('#df-eb762744-ed5b-48ae-94cf-fbc960bd3ca3 button.colab-df-convert');\n",
              "        buttonEl.style.display =\n",
              "          google.colab.kernel.accessAllowed ? 'block' : 'none';\n",
              "\n",
              "        async function convertToInteractive(key) {\n",
              "          const element = document.querySelector('#df-eb762744-ed5b-48ae-94cf-fbc960bd3ca3');\n",
              "          const dataTable =\n",
              "            await google.colab.kernel.invokeFunction('convertToInteractive',\n",
              "                                                     [key], {});\n",
              "          if (!dataTable) return;\n",
              "\n",
              "          const docLinkHtml = 'Like what you see? Visit the ' +\n",
              "            '<a target=\"_blank\" href=https://colab.research.google.com/notebooks/data_table.ipynb>data table notebook</a>'\n",
              "            + ' to learn more about interactive tables.';\n",
              "          element.innerHTML = '';\n",
              "          dataTable['output_type'] = 'display_data';\n",
              "          await google.colab.output.renderOutput(dataTable, element);\n",
              "          const docLink = document.createElement('div');\n",
              "          docLink.innerHTML = docLinkHtml;\n",
              "          element.appendChild(docLink);\n",
              "        }\n",
              "      </script>\n",
              "    </div>\n",
              "  </div>\n",
              "  "
            ]
          },
          "metadata": {},
          "execution_count": 60
        }
      ]
    },
    {
      "cell_type": "code",
      "source": [
        "# Função que será aplicada na coluna Região para poder transformar cada sigla em um valor númerico\n",
        "funcao = lambda x: 1 if x == 'CO' else 2 if x == 'N' else 3 if x == 'NE' else 4 if x =='S' else 5"
      ],
      "metadata": {
        "id": "ov5UV51SLpZr"
      },
      "execution_count": null,
      "outputs": []
    },
    {
      "cell_type": "code",
      "source": [
        "# Aplicação da função\n",
        "df_corr['Regiao'] = df_corr['Regiao'].apply(funcao)\n",
        "df_corr"
      ],
      "metadata": {
        "colab": {
          "base_uri": "https://localhost:8080/",
          "height": 424
        },
        "id": "Ioz8ii58LE6L",
        "outputId": "ed495297-5277-469b-ed07-2b7c70801e00"
      },
      "execution_count": null,
      "outputs": [
        {
          "output_type": "execute_result",
          "data": {
            "text/plain": [
              "       Regiao  Valor_de_Venda\n",
              "0           3            4.79\n",
              "1           3            5.59\n",
              "2           3            5.99\n",
              "3           3            4.99\n",
              "4           3            5.79\n",
              "...       ...             ...\n",
              "57627       5            5.38\n",
              "57628       4            5.46\n",
              "57629       4            5.46\n",
              "57630       3            5.68\n",
              "57631       3            5.68\n",
              "\n",
              "[126696 rows x 2 columns]"
            ],
            "text/html": [
              "\n",
              "  <div id=\"df-140f4541-72c4-48e8-8c3c-a853a0c6cc6f\">\n",
              "    <div class=\"colab-df-container\">\n",
              "      <div>\n",
              "<style scoped>\n",
              "    .dataframe tbody tr th:only-of-type {\n",
              "        vertical-align: middle;\n",
              "    }\n",
              "\n",
              "    .dataframe tbody tr th {\n",
              "        vertical-align: top;\n",
              "    }\n",
              "\n",
              "    .dataframe thead th {\n",
              "        text-align: right;\n",
              "    }\n",
              "</style>\n",
              "<table border=\"1\" class=\"dataframe\">\n",
              "  <thead>\n",
              "    <tr style=\"text-align: right;\">\n",
              "      <th></th>\n",
              "      <th>Regiao</th>\n",
              "      <th>Valor_de_Venda</th>\n",
              "    </tr>\n",
              "  </thead>\n",
              "  <tbody>\n",
              "    <tr>\n",
              "      <th>0</th>\n",
              "      <td>3</td>\n",
              "      <td>4.79</td>\n",
              "    </tr>\n",
              "    <tr>\n",
              "      <th>1</th>\n",
              "      <td>3</td>\n",
              "      <td>5.59</td>\n",
              "    </tr>\n",
              "    <tr>\n",
              "      <th>2</th>\n",
              "      <td>3</td>\n",
              "      <td>5.99</td>\n",
              "    </tr>\n",
              "    <tr>\n",
              "      <th>3</th>\n",
              "      <td>3</td>\n",
              "      <td>4.99</td>\n",
              "    </tr>\n",
              "    <tr>\n",
              "      <th>4</th>\n",
              "      <td>3</td>\n",
              "      <td>5.79</td>\n",
              "    </tr>\n",
              "    <tr>\n",
              "      <th>...</th>\n",
              "      <td>...</td>\n",
              "      <td>...</td>\n",
              "    </tr>\n",
              "    <tr>\n",
              "      <th>57627</th>\n",
              "      <td>5</td>\n",
              "      <td>5.38</td>\n",
              "    </tr>\n",
              "    <tr>\n",
              "      <th>57628</th>\n",
              "      <td>4</td>\n",
              "      <td>5.46</td>\n",
              "    </tr>\n",
              "    <tr>\n",
              "      <th>57629</th>\n",
              "      <td>4</td>\n",
              "      <td>5.46</td>\n",
              "    </tr>\n",
              "    <tr>\n",
              "      <th>57630</th>\n",
              "      <td>3</td>\n",
              "      <td>5.68</td>\n",
              "    </tr>\n",
              "    <tr>\n",
              "      <th>57631</th>\n",
              "      <td>3</td>\n",
              "      <td>5.68</td>\n",
              "    </tr>\n",
              "  </tbody>\n",
              "</table>\n",
              "<p>126696 rows × 2 columns</p>\n",
              "</div>\n",
              "      <button class=\"colab-df-convert\" onclick=\"convertToInteractive('df-140f4541-72c4-48e8-8c3c-a853a0c6cc6f')\"\n",
              "              title=\"Convert this dataframe to an interactive table.\"\n",
              "              style=\"display:none;\">\n",
              "        \n",
              "  <svg xmlns=\"http://www.w3.org/2000/svg\" height=\"24px\"viewBox=\"0 0 24 24\"\n",
              "       width=\"24px\">\n",
              "    <path d=\"M0 0h24v24H0V0z\" fill=\"none\"/>\n",
              "    <path d=\"M18.56 5.44l.94 2.06.94-2.06 2.06-.94-2.06-.94-.94-2.06-.94 2.06-2.06.94zm-11 1L8.5 8.5l.94-2.06 2.06-.94-2.06-.94L8.5 2.5l-.94 2.06-2.06.94zm10 10l.94 2.06.94-2.06 2.06-.94-2.06-.94-.94-2.06-.94 2.06-2.06.94z\"/><path d=\"M17.41 7.96l-1.37-1.37c-.4-.4-.92-.59-1.43-.59-.52 0-1.04.2-1.43.59L10.3 9.45l-7.72 7.72c-.78.78-.78 2.05 0 2.83L4 21.41c.39.39.9.59 1.41.59.51 0 1.02-.2 1.41-.59l7.78-7.78 2.81-2.81c.8-.78.8-2.07 0-2.86zM5.41 20L4 18.59l7.72-7.72 1.47 1.35L5.41 20z\"/>\n",
              "  </svg>\n",
              "      </button>\n",
              "      \n",
              "  <style>\n",
              "    .colab-df-container {\n",
              "      display:flex;\n",
              "      flex-wrap:wrap;\n",
              "      gap: 12px;\n",
              "    }\n",
              "\n",
              "    .colab-df-convert {\n",
              "      background-color: #E8F0FE;\n",
              "      border: none;\n",
              "      border-radius: 50%;\n",
              "      cursor: pointer;\n",
              "      display: none;\n",
              "      fill: #1967D2;\n",
              "      height: 32px;\n",
              "      padding: 0 0 0 0;\n",
              "      width: 32px;\n",
              "    }\n",
              "\n",
              "    .colab-df-convert:hover {\n",
              "      background-color: #E2EBFA;\n",
              "      box-shadow: 0px 1px 2px rgba(60, 64, 67, 0.3), 0px 1px 3px 1px rgba(60, 64, 67, 0.15);\n",
              "      fill: #174EA6;\n",
              "    }\n",
              "\n",
              "    [theme=dark] .colab-df-convert {\n",
              "      background-color: #3B4455;\n",
              "      fill: #D2E3FC;\n",
              "    }\n",
              "\n",
              "    [theme=dark] .colab-df-convert:hover {\n",
              "      background-color: #434B5C;\n",
              "      box-shadow: 0px 1px 3px 1px rgba(0, 0, 0, 0.15);\n",
              "      filter: drop-shadow(0px 1px 2px rgba(0, 0, 0, 0.3));\n",
              "      fill: #FFFFFF;\n",
              "    }\n",
              "  </style>\n",
              "\n",
              "      <script>\n",
              "        const buttonEl =\n",
              "          document.querySelector('#df-140f4541-72c4-48e8-8c3c-a853a0c6cc6f button.colab-df-convert');\n",
              "        buttonEl.style.display =\n",
              "          google.colab.kernel.accessAllowed ? 'block' : 'none';\n",
              "\n",
              "        async function convertToInteractive(key) {\n",
              "          const element = document.querySelector('#df-140f4541-72c4-48e8-8c3c-a853a0c6cc6f');\n",
              "          const dataTable =\n",
              "            await google.colab.kernel.invokeFunction('convertToInteractive',\n",
              "                                                     [key], {});\n",
              "          if (!dataTable) return;\n",
              "\n",
              "          const docLinkHtml = 'Like what you see? Visit the ' +\n",
              "            '<a target=\"_blank\" href=https://colab.research.google.com/notebooks/data_table.ipynb>data table notebook</a>'\n",
              "            + ' to learn more about interactive tables.';\n",
              "          element.innerHTML = '';\n",
              "          dataTable['output_type'] = 'display_data';\n",
              "          await google.colab.output.renderOutput(dataTable, element);\n",
              "          const docLink = document.createElement('div');\n",
              "          docLink.innerHTML = docLinkHtml;\n",
              "          element.appendChild(docLink);\n",
              "        }\n",
              "      </script>\n",
              "    </div>\n",
              "  </div>\n",
              "  "
            ]
          },
          "metadata": {},
          "execution_count": 62
        }
      ]
    },
    {
      "cell_type": "code",
      "source": [
        "# Gerando a correlação\n",
        "df_corr.corr()"
      ],
      "metadata": {
        "colab": {
          "base_uri": "https://localhost:8080/",
          "height": 112
        },
        "id": "TfF59l_oLQ2y",
        "outputId": "a2582bb3-64d5-4db5-8e08-30eafa5981fa"
      },
      "execution_count": null,
      "outputs": [
        {
          "output_type": "execute_result",
          "data": {
            "text/plain": [
              "                  Regiao  Valor_de_Venda\n",
              "Regiao          1.000000       -0.148783\n",
              "Valor_de_Venda -0.148783        1.000000"
            ],
            "text/html": [
              "\n",
              "  <div id=\"df-9b28724e-f972-460d-a996-ffd31a489ccd\">\n",
              "    <div class=\"colab-df-container\">\n",
              "      <div>\n",
              "<style scoped>\n",
              "    .dataframe tbody tr th:only-of-type {\n",
              "        vertical-align: middle;\n",
              "    }\n",
              "\n",
              "    .dataframe tbody tr th {\n",
              "        vertical-align: top;\n",
              "    }\n",
              "\n",
              "    .dataframe thead th {\n",
              "        text-align: right;\n",
              "    }\n",
              "</style>\n",
              "<table border=\"1\" class=\"dataframe\">\n",
              "  <thead>\n",
              "    <tr style=\"text-align: right;\">\n",
              "      <th></th>\n",
              "      <th>Regiao</th>\n",
              "      <th>Valor_de_Venda</th>\n",
              "    </tr>\n",
              "  </thead>\n",
              "  <tbody>\n",
              "    <tr>\n",
              "      <th>Regiao</th>\n",
              "      <td>1.000000</td>\n",
              "      <td>-0.148783</td>\n",
              "    </tr>\n",
              "    <tr>\n",
              "      <th>Valor_de_Venda</th>\n",
              "      <td>-0.148783</td>\n",
              "      <td>1.000000</td>\n",
              "    </tr>\n",
              "  </tbody>\n",
              "</table>\n",
              "</div>\n",
              "      <button class=\"colab-df-convert\" onclick=\"convertToInteractive('df-9b28724e-f972-460d-a996-ffd31a489ccd')\"\n",
              "              title=\"Convert this dataframe to an interactive table.\"\n",
              "              style=\"display:none;\">\n",
              "        \n",
              "  <svg xmlns=\"http://www.w3.org/2000/svg\" height=\"24px\"viewBox=\"0 0 24 24\"\n",
              "       width=\"24px\">\n",
              "    <path d=\"M0 0h24v24H0V0z\" fill=\"none\"/>\n",
              "    <path d=\"M18.56 5.44l.94 2.06.94-2.06 2.06-.94-2.06-.94-.94-2.06-.94 2.06-2.06.94zm-11 1L8.5 8.5l.94-2.06 2.06-.94-2.06-.94L8.5 2.5l-.94 2.06-2.06.94zm10 10l.94 2.06.94-2.06 2.06-.94-2.06-.94-.94-2.06-.94 2.06-2.06.94z\"/><path d=\"M17.41 7.96l-1.37-1.37c-.4-.4-.92-.59-1.43-.59-.52 0-1.04.2-1.43.59L10.3 9.45l-7.72 7.72c-.78.78-.78 2.05 0 2.83L4 21.41c.39.39.9.59 1.41.59.51 0 1.02-.2 1.41-.59l7.78-7.78 2.81-2.81c.8-.78.8-2.07 0-2.86zM5.41 20L4 18.59l7.72-7.72 1.47 1.35L5.41 20z\"/>\n",
              "  </svg>\n",
              "      </button>\n",
              "      \n",
              "  <style>\n",
              "    .colab-df-container {\n",
              "      display:flex;\n",
              "      flex-wrap:wrap;\n",
              "      gap: 12px;\n",
              "    }\n",
              "\n",
              "    .colab-df-convert {\n",
              "      background-color: #E8F0FE;\n",
              "      border: none;\n",
              "      border-radius: 50%;\n",
              "      cursor: pointer;\n",
              "      display: none;\n",
              "      fill: #1967D2;\n",
              "      height: 32px;\n",
              "      padding: 0 0 0 0;\n",
              "      width: 32px;\n",
              "    }\n",
              "\n",
              "    .colab-df-convert:hover {\n",
              "      background-color: #E2EBFA;\n",
              "      box-shadow: 0px 1px 2px rgba(60, 64, 67, 0.3), 0px 1px 3px 1px rgba(60, 64, 67, 0.15);\n",
              "      fill: #174EA6;\n",
              "    }\n",
              "\n",
              "    [theme=dark] .colab-df-convert {\n",
              "      background-color: #3B4455;\n",
              "      fill: #D2E3FC;\n",
              "    }\n",
              "\n",
              "    [theme=dark] .colab-df-convert:hover {\n",
              "      background-color: #434B5C;\n",
              "      box-shadow: 0px 1px 3px 1px rgba(0, 0, 0, 0.15);\n",
              "      filter: drop-shadow(0px 1px 2px rgba(0, 0, 0, 0.3));\n",
              "      fill: #FFFFFF;\n",
              "    }\n",
              "  </style>\n",
              "\n",
              "      <script>\n",
              "        const buttonEl =\n",
              "          document.querySelector('#df-9b28724e-f972-460d-a996-ffd31a489ccd button.colab-df-convert');\n",
              "        buttonEl.style.display =\n",
              "          google.colab.kernel.accessAllowed ? 'block' : 'none';\n",
              "\n",
              "        async function convertToInteractive(key) {\n",
              "          const element = document.querySelector('#df-9b28724e-f972-460d-a996-ffd31a489ccd');\n",
              "          const dataTable =\n",
              "            await google.colab.kernel.invokeFunction('convertToInteractive',\n",
              "                                                     [key], {});\n",
              "          if (!dataTable) return;\n",
              "\n",
              "          const docLinkHtml = 'Like what you see? Visit the ' +\n",
              "            '<a target=\"_blank\" href=https://colab.research.google.com/notebooks/data_table.ipynb>data table notebook</a>'\n",
              "            + ' to learn more about interactive tables.';\n",
              "          element.innerHTML = '';\n",
              "          dataTable['output_type'] = 'display_data';\n",
              "          await google.colab.output.renderOutput(dataTable, element);\n",
              "          const docLink = document.createElement('div');\n",
              "          docLink.innerHTML = docLinkHtml;\n",
              "          element.appendChild(docLink);\n",
              "        }\n",
              "      </script>\n",
              "    </div>\n",
              "  </div>\n",
              "  "
            ]
          },
          "metadata": {},
          "execution_count": 63
        }
      ]
    },
    {
      "cell_type": "code",
      "source": [
        "# Criação do heatmap para melhor visualização da correlação entre região e valor de venda.\n",
        "plt.figure(figsize=(10,5))\n",
        "sns.heatmap(df_corr.corr(), vmin=-1.0, vmax=1.0, annot=True)\n",
        "print()"
      ],
      "metadata": {
        "colab": {
          "base_uri": "https://localhost:8080/",
          "height": 342
        },
        "id": "pnhEav_SpCDG",
        "outputId": "a8b05521-c18c-48b1-bbd7-c01acec6324c"
      },
      "execution_count": null,
      "outputs": [
        {
          "output_type": "stream",
          "name": "stdout",
          "text": [
            "\n"
          ]
        },
        {
          "output_type": "display_data",
          "data": {
            "text/plain": [
              "<Figure size 720x360 with 2 Axes>"
            ],
            "image/png": "[encoded data removed]"
          },
          "metadata": {
            "needs_background": "light"
          }
        }
      ]
    },
    {
      "cell_type": "markdown",
      "source": [
        "Após a visualização do heatmap acima pode-se concluir que a correlação entre o valor do combustível e a região onde ele é vendido é uma correlação fraca."
      ],
      "metadata": {
        "id": "aMZMP2fVcJTv"
      }
    },
    {
      "cell_type": "markdown",
      "source": [
        "*10*. **Há alguma correlação entre o valor do combustível (gasolina e etanol) e a bandeira que vende ele?**"
      ],
      "metadata": {
        "id": "I9a3wYv-q_Kh"
      }
    },
    {
      "cell_type": "code",
      "source": [
        "# Criação de um dataframe apenas com a Bandeira e o valor de venda.\n",
        "df_corr_bandeira = df_completo[['Bandeira','Valor_de_Venda']].copy()\n",
        "df_corr_bandeira"
      ],
      "metadata": {
        "id": "BnSRoG3pbZ3J",
        "outputId": "8eb9b762-0511-41cc-e21a-ac6395651422",
        "colab": {
          "base_uri": "https://localhost:8080/",
          "height": 424
        }
      },
      "execution_count": null,
      "outputs": [
        {
          "output_type": "execute_result",
          "data": {
            "text/plain": [
              "            Bandeira  Valor_de_Venda\n",
              "0      VIBRA ENERGIA            4.79\n",
              "1      VIBRA ENERGIA            5.59\n",
              "2             BRANCA            5.99\n",
              "3             BRANCA            4.99\n",
              "4             BRANCA            5.79\n",
              "...              ...             ...\n",
              "57627         BRANCA            5.38\n",
              "57628         BRANCA            5.46\n",
              "57629         BRANCA            5.46\n",
              "57630         BRANCA            5.68\n",
              "57631         BRANCA            5.68\n",
              "\n",
              "[126696 rows x 2 columns]"
            ],
            "text/html": [
              "\n",
              "  <div id=\"df-902dfe30-e397-4056-a179-96fb7237c784\">\n",
              "    <div class=\"colab-df-container\">\n",
              "      <div>\n",
              "<style scoped>\n",
              "    .dataframe tbody tr th:only-of-type {\n",
              "        vertical-align: middle;\n",
              "    }\n",
              "\n",
              "    .dataframe tbody tr th {\n",
              "        vertical-align: top;\n",
              "    }\n",
              "\n",
              "    .dataframe thead th {\n",
              "        text-align: right;\n",
              "    }\n",
              "</style>\n",
              "<table border=\"1\" class=\"dataframe\">\n",
              "  <thead>\n",
              "    <tr style=\"text-align: right;\">\n",
              "      <th></th>\n",
              "      <th>Bandeira</th>\n",
              "      <th>Valor_de_Venda</th>\n",
              "    </tr>\n",
              "  </thead>\n",
              "  <tbody>\n",
              "    <tr>\n",
              "      <th>0</th>\n",
              "      <td>VIBRA ENERGIA</td>\n",
              "      <td>4.79</td>\n",
              "    </tr>\n",
              "    <tr>\n",
              "      <th>1</th>\n",
              "      <td>VIBRA ENERGIA</td>\n",
              "      <td>5.59</td>\n",
              "    </tr>\n",
              "    <tr>\n",
              "      <th>2</th>\n",
              "      <td>BRANCA</td>\n",
              "      <td>5.99</td>\n",
              "    </tr>\n",
              "    <tr>\n",
              "      <th>3</th>\n",
              "      <td>BRANCA</td>\n",
              "      <td>4.99</td>\n",
              "    </tr>\n",
              "    <tr>\n",
              "      <th>4</th>\n",
              "      <td>BRANCA</td>\n",
              "      <td>5.79</td>\n",
              "    </tr>\n",
              "    <tr>\n",
              "      <th>...</th>\n",
              "      <td>...</td>\n",
              "      <td>...</td>\n",
              "    </tr>\n",
              "    <tr>\n",
              "      <th>57627</th>\n",
              "      <td>BRANCA</td>\n",
              "      <td>5.38</td>\n",
              "    </tr>\n",
              "    <tr>\n",
              "      <th>57628</th>\n",
              "      <td>BRANCA</td>\n",
              "      <td>5.46</td>\n",
              "    </tr>\n",
              "    <tr>\n",
              "      <th>57629</th>\n",
              "      <td>BRANCA</td>\n",
              "      <td>5.46</td>\n",
              "    </tr>\n",
              "    <tr>\n",
              "      <th>57630</th>\n",
              "      <td>BRANCA</td>\n",
              "      <td>5.68</td>\n",
              "    </tr>\n",
              "    <tr>\n",
              "      <th>57631</th>\n",
              "      <td>BRANCA</td>\n",
              "      <td>5.68</td>\n",
              "    </tr>\n",
              "  </tbody>\n",
              "</table>\n",
              "<p>126696 rows × 2 columns</p>\n",
              "</div>\n",
              "      <button class=\"colab-df-convert\" onclick=\"convertToInteractive('df-902dfe30-e397-4056-a179-96fb7237c784')\"\n",
              "              title=\"Convert this dataframe to an interactive table.\"\n",
              "              style=\"display:none;\">\n",
              "        \n",
              "  <svg xmlns=\"http://www.w3.org/2000/svg\" height=\"24px\"viewBox=\"0 0 24 24\"\n",
              "       width=\"24px\">\n",
              "    <path d=\"M0 0h24v24H0V0z\" fill=\"none\"/>\n",
              "    <path d=\"M18.56 5.44l.94 2.06.94-2.06 2.06-.94-2.06-.94-.94-2.06-.94 2.06-2.06.94zm-11 1L8.5 8.5l.94-2.06 2.06-.94-2.06-.94L8.5 2.5l-.94 2.06-2.06.94zm10 10l.94 2.06.94-2.06 2.06-.94-2.06-.94-.94-2.06-.94 2.06-2.06.94z\"/><path d=\"M17.41 7.96l-1.37-1.37c-.4-.4-.92-.59-1.43-.59-.52 0-1.04.2-1.43.59L10.3 9.45l-7.72 7.72c-.78.78-.78 2.05 0 2.83L4 21.41c.39.39.9.59 1.41.59.51 0 1.02-.2 1.41-.59l7.78-7.78 2.81-2.81c.8-.78.8-2.07 0-2.86zM5.41 20L4 18.59l7.72-7.72 1.47 1.35L5.41 20z\"/>\n",
              "  </svg>\n",
              "      </button>\n",
              "      \n",
              "  <style>\n",
              "    .colab-df-container {\n",
              "      display:flex;\n",
              "      flex-wrap:wrap;\n",
              "      gap: 12px;\n",
              "    }\n",
              "\n",
              "    .colab-df-convert {\n",
              "      background-color: #E8F0FE;\n",
              "      border: none;\n",
              "      border-radius: 50%;\n",
              "      cursor: pointer;\n",
              "      display: none;\n",
              "      fill: #1967D2;\n",
              "      height: 32px;\n",
              "      padding: 0 0 0 0;\n",
              "      width: 32px;\n",
              "    }\n",
              "\n",
              "    .colab-df-convert:hover {\n",
              "      background-color: #E2EBFA;\n",
              "      box-shadow: 0px 1px 2px rgba(60, 64, 67, 0.3), 0px 1px 3px 1px rgba(60, 64, 67, 0.15);\n",
              "      fill: #174EA6;\n",
              "    }\n",
              "\n",
              "    [theme=dark] .colab-df-convert {\n",
              "      background-color: #3B4455;\n",
              "      fill: #D2E3FC;\n",
              "    }\n",
              "\n",
              "    [theme=dark] .colab-df-convert:hover {\n",
              "      background-color: #434B5C;\n",
              "      box-shadow: 0px 1px 3px 1px rgba(0, 0, 0, 0.15);\n",
              "      filter: drop-shadow(0px 1px 2px rgba(0, 0, 0, 0.3));\n",
              "      fill: #FFFFFF;\n",
              "    }\n",
              "  </style>\n",
              "\n",
              "      <script>\n",
              "        const buttonEl =\n",
              "          document.querySelector('#df-902dfe30-e397-4056-a179-96fb7237c784 button.colab-df-convert');\n",
              "        buttonEl.style.display =\n",
              "          google.colab.kernel.accessAllowed ? 'block' : 'none';\n",
              "\n",
              "        async function convertToInteractive(key) {\n",
              "          const element = document.querySelector('#df-902dfe30-e397-4056-a179-96fb7237c784');\n",
              "          const dataTable =\n",
              "            await google.colab.kernel.invokeFunction('convertToInteractive',\n",
              "                                                     [key], {});\n",
              "          if (!dataTable) return;\n",
              "\n",
              "          const docLinkHtml = 'Like what you see? Visit the ' +\n",
              "            '<a target=\"_blank\" href=https://colab.research.google.com/notebooks/data_table.ipynb>data table notebook</a>'\n",
              "            + ' to learn more about interactive tables.';\n",
              "          element.innerHTML = '';\n",
              "          dataTable['output_type'] = 'display_data';\n",
              "          await google.colab.output.renderOutput(dataTable, element);\n",
              "          const docLink = document.createElement('div');\n",
              "          docLink.innerHTML = docLinkHtml;\n",
              "          element.appendChild(docLink);\n",
              "        }\n",
              "      </script>\n",
              "    </div>\n",
              "  </div>\n",
              "  "
            ]
          },
          "metadata": {},
          "execution_count": 47
        }
      ]
    },
    {
      "cell_type": "code",
      "source": [
        "# Função que será aplicada na coluna Região para poder transformar cada sigla em um valor númerico\n",
        "funcao = lambda x: 1 if x == 'RAIZEN' else 2 if x == 'PETROBRAS DISTRIBUIDORA S.A.' else 3 if x == 'IPIRANGA' else 4 if x =='ALESAT' else 5"
      ],
      "metadata": {
        "id": "Teqw6aQTcAMh"
      },
      "execution_count": null,
      "outputs": []
    },
    {
      "cell_type": "code",
      "source": [
        "# Aplicação da função\n",
        "df_corr_bandeira['Bandeira'] = df_corr_bandeira['Bandeira'].apply(funcao)\n",
        "df_corr_bandeira"
      ],
      "metadata": {
        "id": "LjuJHUH0cPYv",
        "outputId": "b438b284-4d49-4e1b-fcfe-697d61d20c73",
        "colab": {
          "base_uri": "https://localhost:8080/",
          "height": 424
        }
      },
      "execution_count": null,
      "outputs": [
        {
          "output_type": "execute_result",
          "data": {
            "text/plain": [
              "       Bandeira  Valor_de_Venda\n",
              "0             5            4.79\n",
              "1             5            5.59\n",
              "2             5            5.99\n",
              "3             5            4.99\n",
              "4             5            5.79\n",
              "...         ...             ...\n",
              "57627         5            5.38\n",
              "57628         5            5.46\n",
              "57629         5            5.46\n",
              "57630         5            5.68\n",
              "57631         5            5.68\n",
              "\n",
              "[126696 rows x 2 columns]"
            ],
            "text/html": [
              "\n",
              "  <div id=\"df-459ad4b5-728e-446e-92ad-f6796cc3084b\">\n",
              "    <div class=\"colab-df-container\">\n",
              "      <div>\n",
              "<style scoped>\n",
              "    .dataframe tbody tr th:only-of-type {\n",
              "        vertical-align: middle;\n",
              "    }\n",
              "\n",
              "    .dataframe tbody tr th {\n",
              "        vertical-align: top;\n",
              "    }\n",
              "\n",
              "    .dataframe thead th {\n",
              "        text-align: right;\n",
              "    }\n",
              "</style>\n",
              "<table border=\"1\" class=\"dataframe\">\n",
              "  <thead>\n",
              "    <tr style=\"text-align: right;\">\n",
              "      <th></th>\n",
              "      <th>Bandeira</th>\n",
              "      <th>Valor_de_Venda</th>\n",
              "    </tr>\n",
              "  </thead>\n",
              "  <tbody>\n",
              "    <tr>\n",
              "      <th>0</th>\n",
              "      <td>5</td>\n",
              "      <td>4.79</td>\n",
              "    </tr>\n",
              "    <tr>\n",
              "      <th>1</th>\n",
              "      <td>5</td>\n",
              "      <td>5.59</td>\n",
              "    </tr>\n",
              "    <tr>\n",
              "      <th>2</th>\n",
              "      <td>5</td>\n",
              "      <td>5.99</td>\n",
              "    </tr>\n",
              "    <tr>\n",
              "      <th>3</th>\n",
              "      <td>5</td>\n",
              "      <td>4.99</td>\n",
              "    </tr>\n",
              "    <tr>\n",
              "      <th>4</th>\n",
              "      <td>5</td>\n",
              "      <td>5.79</td>\n",
              "    </tr>\n",
              "    <tr>\n",
              "      <th>...</th>\n",
              "      <td>...</td>\n",
              "      <td>...</td>\n",
              "    </tr>\n",
              "    <tr>\n",
              "      <th>57627</th>\n",
              "      <td>5</td>\n",
              "      <td>5.38</td>\n",
              "    </tr>\n",
              "    <tr>\n",
              "      <th>57628</th>\n",
              "      <td>5</td>\n",
              "      <td>5.46</td>\n",
              "    </tr>\n",
              "    <tr>\n",
              "      <th>57629</th>\n",
              "      <td>5</td>\n",
              "      <td>5.46</td>\n",
              "    </tr>\n",
              "    <tr>\n",
              "      <th>57630</th>\n",
              "      <td>5</td>\n",
              "      <td>5.68</td>\n",
              "    </tr>\n",
              "    <tr>\n",
              "      <th>57631</th>\n",
              "      <td>5</td>\n",
              "      <td>5.68</td>\n",
              "    </tr>\n",
              "  </tbody>\n",
              "</table>\n",
              "<p>126696 rows × 2 columns</p>\n",
              "</div>\n",
              "      <button class=\"colab-df-convert\" onclick=\"convertToInteractive('df-459ad4b5-728e-446e-92ad-f6796cc3084b')\"\n",
              "              title=\"Convert this dataframe to an interactive table.\"\n",
              "              style=\"display:none;\">\n",
              "        \n",
              "  <svg xmlns=\"http://www.w3.org/2000/svg\" height=\"24px\"viewBox=\"0 0 24 24\"\n",
              "       width=\"24px\">\n",
              "    <path d=\"M0 0h24v24H0V0z\" fill=\"none\"/>\n",
              "    <path d=\"M18.56 5.44l.94 2.06.94-2.06 2.06-.94-2.06-.94-.94-2.06-.94 2.06-2.06.94zm-11 1L8.5 8.5l.94-2.06 2.06-.94-2.06-.94L8.5 2.5l-.94 2.06-2.06.94zm10 10l.94 2.06.94-2.06 2.06-.94-2.06-.94-.94-2.06-.94 2.06-2.06.94z\"/><path d=\"M17.41 7.96l-1.37-1.37c-.4-.4-.92-.59-1.43-.59-.52 0-1.04.2-1.43.59L10.3 9.45l-7.72 7.72c-.78.78-.78 2.05 0 2.83L4 21.41c.39.39.9.59 1.41.59.51 0 1.02-.2 1.41-.59l7.78-7.78 2.81-2.81c.8-.78.8-2.07 0-2.86zM5.41 20L4 18.59l7.72-7.72 1.47 1.35L5.41 20z\"/>\n",
              "  </svg>\n",
              "      </button>\n",
              "      \n",
              "  <style>\n",
              "    .colab-df-container {\n",
              "      display:flex;\n",
              "      flex-wrap:wrap;\n",
              "      gap: 12px;\n",
              "    }\n",
              "\n",
              "    .colab-df-convert {\n",
              "      background-color: #E8F0FE;\n",
              "      border: none;\n",
              "      border-radius: 50%;\n",
              "      cursor: pointer;\n",
              "      display: none;\n",
              "      fill: #1967D2;\n",
              "      height: 32px;\n",
              "      padding: 0 0 0 0;\n",
              "      width: 32px;\n",
              "    }\n",
              "\n",
              "    .colab-df-convert:hover {\n",
              "      background-color: #E2EBFA;\n",
              "      box-shadow: 0px 1px 2px rgba(60, 64, 67, 0.3), 0px 1px 3px 1px rgba(60, 64, 67, 0.15);\n",
              "      fill: #174EA6;\n",
              "    }\n",
              "\n",
              "    [theme=dark] .colab-df-convert {\n",
              "      background-color: #3B4455;\n",
              "      fill: #D2E3FC;\n",
              "    }\n",
              "\n",
              "    [theme=dark] .colab-df-convert:hover {\n",
              "      background-color: #434B5C;\n",
              "      box-shadow: 0px 1px 3px 1px rgba(0, 0, 0, 0.15);\n",
              "      filter: drop-shadow(0px 1px 2px rgba(0, 0, 0, 0.3));\n",
              "      fill: #FFFFFF;\n",
              "    }\n",
              "  </style>\n",
              "\n",
              "      <script>\n",
              "        const buttonEl =\n",
              "          document.querySelector('#df-459ad4b5-728e-446e-92ad-f6796cc3084b button.colab-df-convert');\n",
              "        buttonEl.style.display =\n",
              "          google.colab.kernel.accessAllowed ? 'block' : 'none';\n",
              "\n",
              "        async function convertToInteractive(key) {\n",
              "          const element = document.querySelector('#df-459ad4b5-728e-446e-92ad-f6796cc3084b');\n",
              "          const dataTable =\n",
              "            await google.colab.kernel.invokeFunction('convertToInteractive',\n",
              "                                                     [key], {});\n",
              "          if (!dataTable) return;\n",
              "\n",
              "          const docLinkHtml = 'Like what you see? Visit the ' +\n",
              "            '<a target=\"_blank\" href=https://colab.research.google.com/notebooks/data_table.ipynb>data table notebook</a>'\n",
              "            + ' to learn more about interactive tables.';\n",
              "          element.innerHTML = '';\n",
              "          dataTable['output_type'] = 'display_data';\n",
              "          await google.colab.output.renderOutput(dataTable, element);\n",
              "          const docLink = document.createElement('div');\n",
              "          docLink.innerHTML = docLinkHtml;\n",
              "          element.appendChild(docLink);\n",
              "        }\n",
              "      </script>\n",
              "    </div>\n",
              "  </div>\n",
              "  "
            ]
          },
          "metadata": {},
          "execution_count": 50
        }
      ]
    },
    {
      "cell_type": "code",
      "source": [
        "# Gerando a correlação\n",
        "df_corr_bandeira.corr()"
      ],
      "metadata": {
        "id": "EcCq-O04ccdq",
        "outputId": "523c92e6-4133-4f2b-d248-3c6dfb891b9a",
        "colab": {
          "base_uri": "https://localhost:8080/",
          "height": 112
        }
      },
      "execution_count": null,
      "outputs": [
        {
          "output_type": "execute_result",
          "data": {
            "text/plain": [
              "                Bandeira  Valor_de_Venda\n",
              "Bandeira        1.000000       -0.017066\n",
              "Valor_de_Venda -0.017066        1.000000"
            ],
            "text/html": [
              "\n",
              "  <div id=\"df-3d5eed7e-c179-495f-9241-1015d2c49948\">\n",
              "    <div class=\"colab-df-container\">\n",
              "      <div>\n",
              "<style scoped>\n",
              "    .dataframe tbody tr th:only-of-type {\n",
              "        vertical-align: middle;\n",
              "    }\n",
              "\n",
              "    .dataframe tbody tr th {\n",
              "        vertical-align: top;\n",
              "    }\n",
              "\n",
              "    .dataframe thead th {\n",
              "        text-align: right;\n",
              "    }\n",
              "</style>\n",
              "<table border=\"1\" class=\"dataframe\">\n",
              "  <thead>\n",
              "    <tr style=\"text-align: right;\">\n",
              "      <th></th>\n",
              "      <th>Bandeira</th>\n",
              "      <th>Valor_de_Venda</th>\n",
              "    </tr>\n",
              "  </thead>\n",
              "  <tbody>\n",
              "    <tr>\n",
              "      <th>Bandeira</th>\n",
              "      <td>1.000000</td>\n",
              "      <td>-0.017066</td>\n",
              "    </tr>\n",
              "    <tr>\n",
              "      <th>Valor_de_Venda</th>\n",
              "      <td>-0.017066</td>\n",
              "      <td>1.000000</td>\n",
              "    </tr>\n",
              "  </tbody>\n",
              "</table>\n",
              "</div>\n",
              "      <button class=\"colab-df-convert\" onclick=\"convertToInteractive('df-3d5eed7e-c179-495f-9241-1015d2c49948')\"\n",
              "              title=\"Convert this dataframe to an interactive table.\"\n",
              "              style=\"display:none;\">\n",
              "        \n",
              "  <svg xmlns=\"http://www.w3.org/2000/svg\" height=\"24px\"viewBox=\"0 0 24 24\"\n",
              "       width=\"24px\">\n",
              "    <path d=\"M0 0h24v24H0V0z\" fill=\"none\"/>\n",
              "    <path d=\"M18.56 5.44l.94 2.06.94-2.06 2.06-.94-2.06-.94-.94-2.06-.94 2.06-2.06.94zm-11 1L8.5 8.5l.94-2.06 2.06-.94-2.06-.94L8.5 2.5l-.94 2.06-2.06.94zm10 10l.94 2.06.94-2.06 2.06-.94-2.06-.94-.94-2.06-.94 2.06-2.06.94z\"/><path d=\"M17.41 7.96l-1.37-1.37c-.4-.4-.92-.59-1.43-.59-.52 0-1.04.2-1.43.59L10.3 9.45l-7.72 7.72c-.78.78-.78 2.05 0 2.83L4 21.41c.39.39.9.59 1.41.59.51 0 1.02-.2 1.41-.59l7.78-7.78 2.81-2.81c.8-.78.8-2.07 0-2.86zM5.41 20L4 18.59l7.72-7.72 1.47 1.35L5.41 20z\"/>\n",
              "  </svg>\n",
              "      </button>\n",
              "      \n",
              "  <style>\n",
              "    .colab-df-container {\n",
              "      display:flex;\n",
              "      flex-wrap:wrap;\n",
              "      gap: 12px;\n",
              "    }\n",
              "\n",
              "    .colab-df-convert {\n",
              "      background-color: #E8F0FE;\n",
              "      border: none;\n",
              "      border-radius: 50%;\n",
              "      cursor: pointer;\n",
              "      display: none;\n",
              "      fill: #1967D2;\n",
              "      height: 32px;\n",
              "      padding: 0 0 0 0;\n",
              "      width: 32px;\n",
              "    }\n",
              "\n",
              "    .colab-df-convert:hover {\n",
              "      background-color: #E2EBFA;\n",
              "      box-shadow: 0px 1px 2px rgba(60, 64, 67, 0.3), 0px 1px 3px 1px rgba(60, 64, 67, 0.15);\n",
              "      fill: #174EA6;\n",
              "    }\n",
              "\n",
              "    [theme=dark] .colab-df-convert {\n",
              "      background-color: #3B4455;\n",
              "      fill: #D2E3FC;\n",
              "    }\n",
              "\n",
              "    [theme=dark] .colab-df-convert:hover {\n",
              "      background-color: #434B5C;\n",
              "      box-shadow: 0px 1px 3px 1px rgba(0, 0, 0, 0.15);\n",
              "      filter: drop-shadow(0px 1px 2px rgba(0, 0, 0, 0.3));\n",
              "      fill: #FFFFFF;\n",
              "    }\n",
              "  </style>\n",
              "\n",
              "      <script>\n",
              "        const buttonEl =\n",
              "          document.querySelector('#df-3d5eed7e-c179-495f-9241-1015d2c49948 button.colab-df-convert');\n",
              "        buttonEl.style.display =\n",
              "          google.colab.kernel.accessAllowed ? 'block' : 'none';\n",
              "\n",
              "        async function convertToInteractive(key) {\n",
              "          const element = document.querySelector('#df-3d5eed7e-c179-495f-9241-1015d2c49948');\n",
              "          const dataTable =\n",
              "            await google.colab.kernel.invokeFunction('convertToInteractive',\n",
              "                                                     [key], {});\n",
              "          if (!dataTable) return;\n",
              "\n",
              "          const docLinkHtml = 'Like what you see? Visit the ' +\n",
              "            '<a target=\"_blank\" href=https://colab.research.google.com/notebooks/data_table.ipynb>data table notebook</a>'\n",
              "            + ' to learn more about interactive tables.';\n",
              "          element.innerHTML = '';\n",
              "          dataTable['output_type'] = 'display_data';\n",
              "          await google.colab.output.renderOutput(dataTable, element);\n",
              "          const docLink = document.createElement('div');\n",
              "          docLink.innerHTML = docLinkHtml;\n",
              "          element.appendChild(docLink);\n",
              "        }\n",
              "      </script>\n",
              "    </div>\n",
              "  </div>\n",
              "  "
            ]
          },
          "metadata": {},
          "execution_count": 52
        }
      ]
    },
    {
      "cell_type": "code",
      "source": [
        "# Criação do heatmap para melhor visualização da correlação entre região e valor de venda.\n",
        "plt.figure(figsize=(10,5))\n",
        "sns.heatmap(df_corr_bandeira.corr(), vmin=-1.0, vmax=1.0, annot=True)\n",
        "print()"
      ],
      "metadata": {
        "id": "y4eMUYQNciD_",
        "outputId": "190a72e7-b7d3-4e89-9d27-d30e7f532bdc",
        "colab": {
          "base_uri": "https://localhost:8080/",
          "height": 342
        }
      },
      "execution_count": null,
      "outputs": [
        {
          "output_type": "stream",
          "name": "stdout",
          "text": [
            "\n"
          ]
        },
        {
          "output_type": "display_data",
          "data": {
            "text/plain": [
              "<Figure size 720x360 with 2 Axes>"
            ],
            "image/png": "[encoded data removed]"
          },
          "metadata": {
            "needs_background": "light"
          }
        }
      ]
    },
    {
      "cell_type": "markdown",
      "source": [
        "Após a visualização do heatmap acima pode-se concluir que a correlação entre o valor do combustível e a Bandeira onde ele é vendido é uma correlação fraca assim como pudemos ver anteriormente com a Região"
      ],
      "metadata": {
        "id": "HZbI18gOdEkH"
      }
    },
    {
      "cell_type": "markdown",
      "source": [
        "*Extra n°1*. **No ultimo mês, qual foi o combustível mais caro e o mais barato ?**"
      ],
      "metadata": {
        "id": "zb1xejb6fCZ9"
      }
    },
    {
      "cell_type": "code",
      "source": [
        "#filtro do ultimo mês\n",
        "filtered_df =df_completo.loc[(df_completo['Data da Coleta'] >= '01/08/2022\t') & (df_completo['Data da Coleta'] < '31/08/2022')]\n",
        "filtered_df"
      ],
      "metadata": {
        "id": "HkmTkjJEfLfX",
        "colab": {
          "base_uri": "https://localhost:8080/",
          "height": 624
        },
        "outputId": "0c1b3baf-c48d-410e-bf82-192742271763"
      },
      "execution_count": null,
      "outputs": [
        {
          "output_type": "execute_result",
          "data": {
            "text/plain": [
              "      Regiao Estado     Municipio  \\\n",
              "4729       N     AC    RIO BRANCO   \n",
              "4730       N     AC    RIO BRANCO   \n",
              "4731       N     AC    RIO BRANCO   \n",
              "4732       N     AC    RIO BRANCO   \n",
              "4733       N     AC    RIO BRANCO   \n",
              "...      ...    ...           ...   \n",
              "57627     SE     MG   DIVINOPOLIS   \n",
              "57628      S     RS  PORTO ALEGRE   \n",
              "57629      S     RS  PORTO ALEGRE   \n",
              "57630     NE     MA        CAXIAS   \n",
              "57631     NE     MA        CAXIAS   \n",
              "\n",
              "                                              Revenda                Bairro  \\\n",
              "4729                          AUTO POSTO ISAURAO LTDA  ESTACAO EXPERIMENTAL   \n",
              "4730                          AUTO POSTO ISAURAO LTDA  ESTACAO EXPERIMENTAL   \n",
              "4731                          AUTO POSTO ISAURAO LTDA  ESTACAO EXPERIMENTAL   \n",
              "4732   COMDEPE COMERCIO DE DERIVADOS DE PETROLEO LTDA               AVIARIO   \n",
              "4733   COMDEPE COMERCIO DE DERIVADOS DE PETROLEO LTDA               AVIARIO   \n",
              "...                                               ...                   ...   \n",
              "57627        AUTO POSTO DE COMBUSTIVEIS ATACADAO LTDA               CATALAO   \n",
              "57628          LUIZ GUSTAVO DI LORENZO GARCIA SCHERER              PARTENON   \n",
              "57629          LUIZ GUSTAVO DI LORENZO GARCIA SCHERER              PARTENON   \n",
              "57630            POSTAO COMERCIO DE COMBUSTIVEIS LTDA         VOLTA REDONDA   \n",
              "57631            POSTAO COMERCIO DE COMBUSTIVEIS LTDA         VOLTA REDONDA   \n",
              "\n",
              "                  Produto Data da Coleta  Valor_de_Venda       Bandeira  \n",
              "4729   GASOLINA ADITIVADA     02/08/2022            5.88  VIBRA ENERGIA  \n",
              "4730               ETANOL     02/08/2022            4.99  VIBRA ENERGIA  \n",
              "4731             GASOLINA     02/08/2022            5.85  VIBRA ENERGIA  \n",
              "4732   GASOLINA ADITIVADA     02/08/2022            5.93  VIBRA ENERGIA  \n",
              "4733             GASOLINA     02/08/2022            5.86  VIBRA ENERGIA  \n",
              "...                   ...            ...             ...            ...  \n",
              "57627            GASOLINA     29/07/2022            5.38         BRANCA  \n",
              "57628  GASOLINA ADITIVADA     29/07/2022            5.46         BRANCA  \n",
              "57629            GASOLINA     29/07/2022            5.46         BRANCA  \n",
              "57630  GASOLINA ADITIVADA     29/07/2022            5.68         BRANCA  \n",
              "57631            GASOLINA     29/07/2022            5.68         BRANCA  \n",
              "\n",
              "[118001 rows x 9 columns]"
            ],
            "text/html": [
              "\n",
              "  <div id=\"df-45c3d330-f46b-4cc0-a9d0-cc3c8848d812\">\n",
              "    <div class=\"colab-df-container\">\n",
              "      <div>\n",
              "<style scoped>\n",
              "    .dataframe tbody tr th:only-of-type {\n",
              "        vertical-align: middle;\n",
              "    }\n",
              "\n",
              "    .dataframe tbody tr th {\n",
              "        vertical-align: top;\n",
              "    }\n",
              "\n",
              "    .dataframe thead th {\n",
              "        text-align: right;\n",
              "    }\n",
              "</style>\n",
              "<table border=\"1\" class=\"dataframe\">\n",
              "  <thead>\n",
              "    <tr style=\"text-align: right;\">\n",
              "      <th></th>\n",
              "      <th>Regiao</th>\n",
              "      <th>Estado</th>\n",
              "      <th>Municipio</th>\n",
              "      <th>Revenda</th>\n",
              "      <th>Bairro</th>\n",
              "      <th>Produto</th>\n",
              "      <th>Data da Coleta</th>\n",
              "      <th>Valor_de_Venda</th>\n",
              "      <th>Bandeira</th>\n",
              "    </tr>\n",
              "  </thead>\n",
              "  <tbody>\n",
              "    <tr>\n",
              "      <th>4729</th>\n",
              "      <td>N</td>\n",
              "      <td>AC</td>\n",
              "      <td>RIO BRANCO</td>\n",
              "      <td>AUTO POSTO ISAURAO LTDA</td>\n",
              "      <td>ESTACAO EXPERIMENTAL</td>\n",
              "      <td>GASOLINA ADITIVADA</td>\n",
              "      <td>02/08/2022</td>\n",
              "      <td>5.88</td>\n",
              "      <td>VIBRA ENERGIA</td>\n",
              "    </tr>\n",
              "    <tr>\n",
              "      <th>4730</th>\n",
              "      <td>N</td>\n",
              "      <td>AC</td>\n",
              "      <td>RIO BRANCO</td>\n",
              "      <td>AUTO POSTO ISAURAO LTDA</td>\n",
              "      <td>ESTACAO EXPERIMENTAL</td>\n",
              "      <td>ETANOL</td>\n",
              "      <td>02/08/2022</td>\n",
              "      <td>4.99</td>\n",
              "      <td>VIBRA ENERGIA</td>\n",
              "    </tr>\n",
              "    <tr>\n",
              "      <th>4731</th>\n",
              "      <td>N</td>\n",
              "      <td>AC</td>\n",
              "      <td>RIO BRANCO</td>\n",
              "      <td>AUTO POSTO ISAURAO LTDA</td>\n",
              "      <td>ESTACAO EXPERIMENTAL</td>\n",
              "      <td>GASOLINA</td>\n",
              "      <td>02/08/2022</td>\n",
              "      <td>5.85</td>\n",
              "      <td>VIBRA ENERGIA</td>\n",
              "    </tr>\n",
              "    <tr>\n",
              "      <th>4732</th>\n",
              "      <td>N</td>\n",
              "      <td>AC</td>\n",
              "      <td>RIO BRANCO</td>\n",
              "      <td>COMDEPE COMERCIO DE DERIVADOS DE PETROLEO LTDA</td>\n",
              "      <td>AVIARIO</td>\n",
              "      <td>GASOLINA ADITIVADA</td>\n",
              "      <td>02/08/2022</td>\n",
              "      <td>5.93</td>\n",
              "      <td>VIBRA ENERGIA</td>\n",
              "    </tr>\n",
              "    <tr>\n",
              "      <th>4733</th>\n",
              "      <td>N</td>\n",
              "      <td>AC</td>\n",
              "      <td>RIO BRANCO</td>\n",
              "      <td>COMDEPE COMERCIO DE DERIVADOS DE PETROLEO LTDA</td>\n",
              "      <td>AVIARIO</td>\n",
              "      <td>GASOLINA</td>\n",
              "      <td>02/08/2022</td>\n",
              "      <td>5.86</td>\n",
              "      <td>VIBRA ENERGIA</td>\n",
              "    </tr>\n",
              "    <tr>\n",
              "      <th>...</th>\n",
              "      <td>...</td>\n",
              "      <td>...</td>\n",
              "      <td>...</td>\n",
              "      <td>...</td>\n",
              "      <td>...</td>\n",
              "      <td>...</td>\n",
              "      <td>...</td>\n",
              "      <td>...</td>\n",
              "      <td>...</td>\n",
              "    </tr>\n",
              "    <tr>\n",
              "      <th>57627</th>\n",
              "      <td>SE</td>\n",
              "      <td>MG</td>\n",
              "      <td>DIVINOPOLIS</td>\n",
              "      <td>AUTO POSTO DE COMBUSTIVEIS ATACADAO LTDA</td>\n",
              "      <td>CATALAO</td>\n",
              "      <td>GASOLINA</td>\n",
              "      <td>29/07/2022</td>\n",
              "      <td>5.38</td>\n",
              "      <td>BRANCA</td>\n",
              "    </tr>\n",
              "    <tr>\n",
              "      <th>57628</th>\n",
              "      <td>S</td>\n",
              "      <td>RS</td>\n",
              "      <td>PORTO ALEGRE</td>\n",
              "      <td>LUIZ GUSTAVO DI LORENZO GARCIA SCHERER</td>\n",
              "      <td>PARTENON</td>\n",
              "      <td>GASOLINA ADITIVADA</td>\n",
              "      <td>29/07/2022</td>\n",
              "      <td>5.46</td>\n",
              "      <td>BRANCA</td>\n",
              "    </tr>\n",
              "    <tr>\n",
              "      <th>57629</th>\n",
              "      <td>S</td>\n",
              "      <td>RS</td>\n",
              "      <td>PORTO ALEGRE</td>\n",
              "      <td>LUIZ GUSTAVO DI LORENZO GARCIA SCHERER</td>\n",
              "      <td>PARTENON</td>\n",
              "      <td>GASOLINA</td>\n",
              "      <td>29/07/2022</td>\n",
              "      <td>5.46</td>\n",
              "      <td>BRANCA</td>\n",
              "    </tr>\n",
              "    <tr>\n",
              "      <th>57630</th>\n",
              "      <td>NE</td>\n",
              "      <td>MA</td>\n",
              "      <td>CAXIAS</td>\n",
              "      <td>POSTAO COMERCIO DE COMBUSTIVEIS LTDA</td>\n",
              "      <td>VOLTA REDONDA</td>\n",
              "      <td>GASOLINA ADITIVADA</td>\n",
              "      <td>29/07/2022</td>\n",
              "      <td>5.68</td>\n",
              "      <td>BRANCA</td>\n",
              "    </tr>\n",
              "    <tr>\n",
              "      <th>57631</th>\n",
              "      <td>NE</td>\n",
              "      <td>MA</td>\n",
              "      <td>CAXIAS</td>\n",
              "      <td>POSTAO COMERCIO DE COMBUSTIVEIS LTDA</td>\n",
              "      <td>VOLTA REDONDA</td>\n",
              "      <td>GASOLINA</td>\n",
              "      <td>29/07/2022</td>\n",
              "      <td>5.68</td>\n",
              "      <td>BRANCA</td>\n",
              "    </tr>\n",
              "  </tbody>\n",
              "</table>\n",
              "<p>118001 rows × 9 columns</p>\n",
              "</div>\n",
              "      <button class=\"colab-df-convert\" onclick=\"convertToInteractive('df-45c3d330-f46b-4cc0-a9d0-cc3c8848d812')\"\n",
              "              title=\"Convert this dataframe to an interactive table.\"\n",
              "              style=\"display:none;\">\n",
              "        \n",
              "  <svg xmlns=\"http://www.w3.org/2000/svg\" height=\"24px\"viewBox=\"0 0 24 24\"\n",
              "       width=\"24px\">\n",
              "    <path d=\"M0 0h24v24H0V0z\" fill=\"none\"/>\n",
              "    <path d=\"M18.56 5.44l.94 2.06.94-2.06 2.06-.94-2.06-.94-.94-2.06-.94 2.06-2.06.94zm-11 1L8.5 8.5l.94-2.06 2.06-.94-2.06-.94L8.5 2.5l-.94 2.06-2.06.94zm10 10l.94 2.06.94-2.06 2.06-.94-2.06-.94-.94-2.06-.94 2.06-2.06.94z\"/><path d=\"M17.41 7.96l-1.37-1.37c-.4-.4-.92-.59-1.43-.59-.52 0-1.04.2-1.43.59L10.3 9.45l-7.72 7.72c-.78.78-.78 2.05 0 2.83L4 21.41c.39.39.9.59 1.41.59.51 0 1.02-.2 1.41-.59l7.78-7.78 2.81-2.81c.8-.78.8-2.07 0-2.86zM5.41 20L4 18.59l7.72-7.72 1.47 1.35L5.41 20z\"/>\n",
              "  </svg>\n",
              "      </button>\n",
              "      \n",
              "  <style>\n",
              "    .colab-df-container {\n",
              "      display:flex;\n",
              "      flex-wrap:wrap;\n",
              "      gap: 12px;\n",
              "    }\n",
              "\n",
              "    .colab-df-convert {\n",
              "      background-color: #E8F0FE;\n",
              "      border: none;\n",
              "      border-radius: 50%;\n",
              "      cursor: pointer;\n",
              "      display: none;\n",
              "      fill: #1967D2;\n",
              "      height: 32px;\n",
              "      padding: 0 0 0 0;\n",
              "      width: 32px;\n",
              "    }\n",
              "\n",
              "    .colab-df-convert:hover {\n",
              "      background-color: #E2EBFA;\n",
              "      box-shadow: 0px 1px 2px rgba(60, 64, 67, 0.3), 0px 1px 3px 1px rgba(60, 64, 67, 0.15);\n",
              "      fill: #174EA6;\n",
              "    }\n",
              "\n",
              "    [theme=dark] .colab-df-convert {\n",
              "      background-color: #3B4455;\n",
              "      fill: #D2E3FC;\n",
              "    }\n",
              "\n",
              "    [theme=dark] .colab-df-convert:hover {\n",
              "      background-color: #434B5C;\n",
              "      box-shadow: 0px 1px 3px 1px rgba(0, 0, 0, 0.15);\n",
              "      filter: drop-shadow(0px 1px 2px rgba(0, 0, 0, 0.3));\n",
              "      fill: #FFFFFF;\n",
              "    }\n",
              "  </style>\n",
              "\n",
              "      <script>\n",
              "        const buttonEl =\n",
              "          document.querySelector('#df-45c3d330-f46b-4cc0-a9d0-cc3c8848d812 button.colab-df-convert');\n",
              "        buttonEl.style.display =\n",
              "          google.colab.kernel.accessAllowed ? 'block' : 'none';\n",
              "\n",
              "        async function convertToInteractive(key) {\n",
              "          const element = document.querySelector('#df-45c3d330-f46b-4cc0-a9d0-cc3c8848d812');\n",
              "          const dataTable =\n",
              "            await google.colab.kernel.invokeFunction('convertToInteractive',\n",
              "                                                     [key], {});\n",
              "          if (!dataTable) return;\n",
              "\n",
              "          const docLinkHtml = 'Like what you see? Visit the ' +\n",
              "            '<a target=\"_blank\" href=https://colab.research.google.com/notebooks/data_table.ipynb>data table notebook</a>'\n",
              "            + ' to learn more about interactive tables.';\n",
              "          element.innerHTML = '';\n",
              "          dataTable['output_type'] = 'display_data';\n",
              "          await google.colab.output.renderOutput(dataTable, element);\n",
              "          const docLink = document.createElement('div');\n",
              "          docLink.innerHTML = docLinkHtml;\n",
              "          element.appendChild(docLink);\n",
              "        }\n",
              "      </script>\n",
              "    </div>\n",
              "  </div>\n",
              "  "
            ]
          },
          "metadata": {},
          "execution_count": 43
        }
      ]
    },
    {
      "cell_type": "code",
      "source": [
        "# usando o df filtrado do mês de agosto, conseguimos agrupar o valor máximo de cada produto e validar qual o mais caro e mais barato nesse ultimo mês\n",
        "filtered_df.groupby(['Produto'])['Valor_de_Venda'].agg(['max']).plot(kind='bar', figsize=(10,5));"
      ],
      "metadata": {
        "id": "zWVT_sFYhqH0",
        "colab": {
          "base_uri": "https://localhost:8080/",
          "height": 432
        },
        "outputId": "90164fc5-1c99-46d3-c2c4-e2fe385575fc"
      },
      "execution_count": null,
      "outputs": [
        {
          "output_type": "display_data",
          "data": {
            "text/plain": [
              "<Figure size 720x360 with 1 Axes>"
            ],
            "image/png": "[encoded data removed]"
          },
          "metadata": {
            "needs_background": "light"
          }
        }
      ]
    },
    {
      "cell_type": "markdown",
      "source": [
        "*Extra n°2*. **Qual o valor maximo e minimo dos combustíveis no período ?**"
      ],
      "metadata": {
        "id": "QbmA_5ZfPepj"
      }
    },
    {
      "cell_type": "code",
      "source": [
        "df_completo_comb = df_completo\n",
        "df_completo_comb.groupby(['Produto'])['Valor_de_Venda'].agg(['max','min'])"
      ],
      "metadata": {
        "id": "EvVwuyCOPgR6",
        "outputId": "0e729c08-007a-4df4-c583-84ddc95fe60f",
        "colab": {
          "base_uri": "https://localhost:8080/",
          "height": 175
        }
      },
      "execution_count": null,
      "outputs": [
        {
          "output_type": "execute_result",
          "data": {
            "text/plain": [
              "                     max   min\n",
              "Produto                       \n",
              "ETANOL              7.89  2.89\n",
              "GASOLINA            8.75  4.13\n",
              "GASOLINA ADITIVADA  9.27  4.13"
            ],
            "text/html": [
              "\n",
              "  <div id=\"df-77b08076-e8f9-4d2d-8f72-c70092529a92\">\n",
              "    <div class=\"colab-df-container\">\n",
              "      <div>\n",
              "<style scoped>\n",
              "    .dataframe tbody tr th:only-of-type {\n",
              "        vertical-align: middle;\n",
              "    }\n",
              "\n",
              "    .dataframe tbody tr th {\n",
              "        vertical-align: top;\n",
              "    }\n",
              "\n",
              "    .dataframe thead th {\n",
              "        text-align: right;\n",
              "    }\n",
              "</style>\n",
              "<table border=\"1\" class=\"dataframe\">\n",
              "  <thead>\n",
              "    <tr style=\"text-align: right;\">\n",
              "      <th></th>\n",
              "      <th>max</th>\n",
              "      <th>min</th>\n",
              "    </tr>\n",
              "    <tr>\n",
              "      <th>Produto</th>\n",
              "      <th></th>\n",
              "      <th></th>\n",
              "    </tr>\n",
              "  </thead>\n",
              "  <tbody>\n",
              "    <tr>\n",
              "      <th>ETANOL</th>\n",
              "      <td>7.89</td>\n",
              "      <td>2.89</td>\n",
              "    </tr>\n",
              "    <tr>\n",
              "      <th>GASOLINA</th>\n",
              "      <td>8.75</td>\n",
              "      <td>4.13</td>\n",
              "    </tr>\n",
              "    <tr>\n",
              "      <th>GASOLINA ADITIVADA</th>\n",
              "      <td>9.27</td>\n",
              "      <td>4.13</td>\n",
              "    </tr>\n",
              "  </tbody>\n",
              "</table>\n",
              "</div>\n",
              "      <button class=\"colab-df-convert\" onclick=\"convertToInteractive('df-77b08076-e8f9-4d2d-8f72-c70092529a92')\"\n",
              "              title=\"Convert this dataframe to an interactive table.\"\n",
              "              style=\"display:none;\">\n",
              "        \n",
              "  <svg xmlns=\"http://www.w3.org/2000/svg\" height=\"24px\"viewBox=\"0 0 24 24\"\n",
              "       width=\"24px\">\n",
              "    <path d=\"M0 0h24v24H0V0z\" fill=\"none\"/>\n",
              "    <path d=\"M18.56 5.44l.94 2.06.94-2.06 2.06-.94-2.06-.94-.94-2.06-.94 2.06-2.06.94zm-11 1L8.5 8.5l.94-2.06 2.06-.94-2.06-.94L8.5 2.5l-.94 2.06-2.06.94zm10 10l.94 2.06.94-2.06 2.06-.94-2.06-.94-.94-2.06-.94 2.06-2.06.94z\"/><path d=\"M17.41 7.96l-1.37-1.37c-.4-.4-.92-.59-1.43-.59-.52 0-1.04.2-1.43.59L10.3 9.45l-7.72 7.72c-.78.78-.78 2.05 0 2.83L4 21.41c.39.39.9.59 1.41.59.51 0 1.02-.2 1.41-.59l7.78-7.78 2.81-2.81c.8-.78.8-2.07 0-2.86zM5.41 20L4 18.59l7.72-7.72 1.47 1.35L5.41 20z\"/>\n",
              "  </svg>\n",
              "      </button>\n",
              "      \n",
              "  <style>\n",
              "    .colab-df-container {\n",
              "      display:flex;\n",
              "      flex-wrap:wrap;\n",
              "      gap: 12px;\n",
              "    }\n",
              "\n",
              "    .colab-df-convert {\n",
              "      background-color: #E8F0FE;\n",
              "      border: none;\n",
              "      border-radius: 50%;\n",
              "      cursor: pointer;\n",
              "      display: none;\n",
              "      fill: #1967D2;\n",
              "      height: 32px;\n",
              "      padding: 0 0 0 0;\n",
              "      width: 32px;\n",
              "    }\n",
              "\n",
              "    .colab-df-convert:hover {\n",
              "      background-color: #E2EBFA;\n",
              "      box-shadow: 0px 1px 2px rgba(60, 64, 67, 0.3), 0px 1px 3px 1px rgba(60, 64, 67, 0.15);\n",
              "      fill: #174EA6;\n",
              "    }\n",
              "\n",
              "    [theme=dark] .colab-df-convert {\n",
              "      background-color: #3B4455;\n",
              "      fill: #D2E3FC;\n",
              "    }\n",
              "\n",
              "    [theme=dark] .colab-df-convert:hover {\n",
              "      background-color: #434B5C;\n",
              "      box-shadow: 0px 1px 3px 1px rgba(0, 0, 0, 0.15);\n",
              "      filter: drop-shadow(0px 1px 2px rgba(0, 0, 0, 0.3));\n",
              "      fill: #FFFFFF;\n",
              "    }\n",
              "  </style>\n",
              "\n",
              "      <script>\n",
              "        const buttonEl =\n",
              "          document.querySelector('#df-77b08076-e8f9-4d2d-8f72-c70092529a92 button.colab-df-convert');\n",
              "        buttonEl.style.display =\n",
              "          google.colab.kernel.accessAllowed ? 'block' : 'none';\n",
              "\n",
              "        async function convertToInteractive(key) {\n",
              "          const element = document.querySelector('#df-77b08076-e8f9-4d2d-8f72-c70092529a92');\n",
              "          const dataTable =\n",
              "            await google.colab.kernel.invokeFunction('convertToInteractive',\n",
              "                                                     [key], {});\n",
              "          if (!dataTable) return;\n",
              "\n",
              "          const docLinkHtml = 'Like what you see? Visit the ' +\n",
              "            '<a target=\"_blank\" href=https://colab.research.google.com/notebooks/data_table.ipynb>data table notebook</a>'\n",
              "            + ' to learn more about interactive tables.';\n",
              "          element.innerHTML = '';\n",
              "          dataTable['output_type'] = 'display_data';\n",
              "          await google.colab.output.renderOutput(dataTable, element);\n",
              "          const docLink = document.createElement('div');\n",
              "          docLink.innerHTML = docLinkHtml;\n",
              "          element.appendChild(docLink);\n",
              "        }\n",
              "      </script>\n",
              "    </div>\n",
              "  </div>\n",
              "  "
            ]
          },
          "metadata": {},
          "execution_count": 45
        }
      ]
    },
    {
      "cell_type": "code",
      "source": [
        "df_completo_comb = df_completo\n",
        "df_completo_comb.groupby(['Produto'])['Valor_de_Venda'].agg(['max','min']).plot(kind='bar', figsize=(20,5));"
      ],
      "metadata": {
        "id": "6ROaH1GVPlcC",
        "outputId": "4cf64f10-c33d-4ebf-8f0e-ce1169b54bf3",
        "colab": {
          "base_uri": "https://localhost:8080/",
          "height": 432
        }
      },
      "execution_count": null,
      "outputs": [
        {
          "output_type": "display_data",
          "data": {
            "text/plain": [
              "<Figure size 1440x360 with 1 Axes>"
            ],
            "image/png": "[encoded data removed]"
          },
          "metadata": {
            "needs_background": "light"
          }
        }
      ]
    }
  ]
}